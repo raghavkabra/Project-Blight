{
 "cells": [
  {
   "cell_type": "code",
   "execution_count": 7,
   "metadata": {
    "collapsed": true
   },
   "outputs": [],
   "source": [
    "import random\n",
    "import numpy as np\n",
    "import matplotlib.pyplot as plt\n",
    "%matplotlib inline\n",
    "import seaborn as sns\n",
    "import pandas as pd\n",
    "pd.options.display.max_columns = None\n",
    "import cPickle as pickle\n",
    "from IPython.display import Image\n",
    "from util import *"
   ]
  },
  {
   "cell_type": "code",
   "execution_count": 251,
   "metadata": {
    "collapsed": true
   },
   "outputs": [],
   "source": [
    "building_df = pd.read_csv('../data/buildings.csv')\n",
    "all_df = pd.DataFrame()\n",
    "all_df['building_id'] = building_df['building_id']\n",
    "num_all = len(all_df)"
   ]
  },
  {
   "cell_type": "code",
   "execution_count": 248,
   "metadata": {
    "collapsed": true
   },
   "outputs": [],
   "source": [
    "pre_train_df = pd.read_csv('../data/train.csv')\n",
    "num_train = len(train_df)"
   ]
  },
  {
   "cell_type": "code",
   "execution_count": 10,
   "metadata": {
    "collapsed": false
   },
   "outputs": [],
   "source": [
    "with open('incident_to_building_mapping.dump', 'r') as f:\n",
    "    incident_to_building_mapping = pickle.load(f)"
   ]
  },
  {
   "cell_type": "markdown",
   "metadata": {},
   "source": [
    "## Violation Features"
   ]
  },
  {
   "cell_type": "code",
   "execution_count": 5,
   "metadata": {
    "collapsed": false,
    "scrolled": true
   },
   "outputs": [
    {
     "name": "stderr",
     "output_type": "stream",
     "text": [
      "C:\\Users\\linghao\\Anaconda2\\lib\\site-packages\\IPython\\core\\interactiveshell.py:2902: DtypeWarning: Columns (6,10,11,12) have mixed types. Specify dtype option on import or set low_memory=False.\n",
      "  interactivity=interactivity, compiler=compiler, result=result)\n"
     ]
    }
   ],
   "source": [
    "violations = pd.read_csv('../data/violations.csv')"
   ]
  },
  {
   "cell_type": "code",
   "execution_count": 12,
   "metadata": {
    "collapsed": false,
    "scrolled": false
   },
   "outputs": [
    {
     "data": {
      "text/html": [
       "<div>\n",
       "<table border=\"1\" class=\"dataframe\">\n",
       "  <thead>\n",
       "    <tr style=\"text-align: right;\">\n",
       "      <th></th>\n",
       "      <th>TicketID</th>\n",
       "      <th>TicketNumber</th>\n",
       "      <th>AgencyName</th>\n",
       "      <th>ViolName</th>\n",
       "      <th>ViolationStreetNumber</th>\n",
       "      <th>ViolationStreetName</th>\n",
       "      <th>MailingStreetNumber</th>\n",
       "      <th>MailingStreetName</th>\n",
       "      <th>MailingCity</th>\n",
       "      <th>MailingState</th>\n",
       "      <th>MailingZipCode</th>\n",
       "      <th>NonUsAddressCode</th>\n",
       "      <th>Country</th>\n",
       "      <th>TicketIssuedDT</th>\n",
       "      <th>TicketIssuedTime</th>\n",
       "      <th>HearingDT</th>\n",
       "      <th>CourtTime</th>\n",
       "      <th>ViolationCode</th>\n",
       "      <th>ViolDescription</th>\n",
       "      <th>Disposition</th>\n",
       "      <th>FineAmt</th>\n",
       "      <th>AdminFee</th>\n",
       "      <th>LateFee</th>\n",
       "      <th>StateFee</th>\n",
       "      <th>CleanUpCost</th>\n",
       "      <th>JudgmentAmt</th>\n",
       "      <th>PaymentStatus</th>\n",
       "      <th>Void</th>\n",
       "      <th>ViolationCategory</th>\n",
       "      <th>ViolationAddress</th>\n",
       "      <th>MailingAddress</th>\n",
       "      <th>incident_id</th>\n",
       "    </tr>\n",
       "  </thead>\n",
       "  <tbody>\n",
       "    <tr>\n",
       "      <th>0</th>\n",
       "      <td>26288</td>\n",
       "      <td>05000001DAH</td>\n",
       "      <td>Department of Public Works</td>\n",
       "      <td>Group, LLC, Grand Holding</td>\n",
       "      <td>2566</td>\n",
       "      <td>GRAND BLVD</td>\n",
       "      <td>743</td>\n",
       "      <td>Beaubien, Ste. 201</td>\n",
       "      <td>Detroit</td>\n",
       "      <td>MI</td>\n",
       "      <td>48226</td>\n",
       "      <td>NaN</td>\n",
       "      <td>NaN</td>\n",
       "      <td>01/01/38440 12:00:00 AM</td>\n",
       "      <td>12:00:00</td>\n",
       "      <td>01/01/38474 12:00:00 AM</td>\n",
       "      <td>9:00AM</td>\n",
       "      <td>22-2-20</td>\n",
       "      <td>Burning solid waste  in open fires</td>\n",
       "      <td>Responsible By Determination</td>\n",
       "      <td>$1500.00</td>\n",
       "      <td>$20.00</td>\n",
       "      <td>$150.00</td>\n",
       "      <td>$10.00</td>\n",
       "      <td>$0.00</td>\n",
       "      <td>$1680.00</td>\n",
       "      <td>PAID IN FULL</td>\n",
       "      <td>0</td>\n",
       "      <td>0</td>\n",
       "      <td>2566 GRAND BLVD\\r\\nDetroit, MI\\r\\n(42.36318237...</td>\n",
       "      <td>743 Beaubien\\r\\nDetroit, MI 48226\\r\\n(42.33373...</td>\n",
       "      <td>7133</td>\n",
       "    </tr>\n",
       "    <tr>\n",
       "      <th>1</th>\n",
       "      <td>19800</td>\n",
       "      <td>05000025DAH</td>\n",
       "      <td>Department of Public Works</td>\n",
       "      <td>JACKSON, RAECHELLE</td>\n",
       "      <td>19014</td>\n",
       "      <td>ASHTON</td>\n",
       "      <td>20501</td>\n",
       "      <td>HEYDEN</td>\n",
       "      <td>DETROIT</td>\n",
       "      <td>MI</td>\n",
       "      <td>48219</td>\n",
       "      <td>NaN</td>\n",
       "      <td>NaN</td>\n",
       "      <td>01/01/38383 12:00:00 AM</td>\n",
       "      <td>10:15:00</td>\n",
       "      <td>01/01/38425 12:00:00 AM</td>\n",
       "      <td>1:30PM</td>\n",
       "      <td>22-2-22</td>\n",
       "      <td>Bulk solid waste deposited more than 24 hours ...</td>\n",
       "      <td>Not responsible By Determination</td>\n",
       "      <td>$100.00</td>\n",
       "      <td>$20.00</td>\n",
       "      <td>$10.00</td>\n",
       "      <td>$10.00</td>\n",
       "      <td>$0.00</td>\n",
       "      <td>$140.00</td>\n",
       "      <td>NO PAYMENT APPLIED</td>\n",
       "      <td>0</td>\n",
       "      <td>0</td>\n",
       "      <td>19014 ASHTON\\r\\nDetroit, MI\\r\\n(42.42939076200...</td>\n",
       "      <td>20501 HEYDEN\\r\\nDETROIT, MI 48219\\r\\n(42.44217...</td>\n",
       "      <td>7134</td>\n",
       "    </tr>\n",
       "    <tr>\n",
       "      <th>2</th>\n",
       "      <td>19804</td>\n",
       "      <td>05000026DAH</td>\n",
       "      <td>Department of Public Works</td>\n",
       "      <td>TALTON, CAROL ANN</td>\n",
       "      <td>18735</td>\n",
       "      <td>STAHELIN</td>\n",
       "      <td>18735</td>\n",
       "      <td>STAHELI N</td>\n",
       "      <td>DETROIT</td>\n",
       "      <td>MI</td>\n",
       "      <td>48219</td>\n",
       "      <td>NaN</td>\n",
       "      <td>NaN</td>\n",
       "      <td>01/01/38383 12:00:00 AM</td>\n",
       "      <td>10:35:00</td>\n",
       "      <td>01/01/38425 12:00:00 AM</td>\n",
       "      <td>1:30PM</td>\n",
       "      <td>22-2-22</td>\n",
       "      <td>Bulk solid waste deposited more than 24 hours ...</td>\n",
       "      <td>Responsible By Determination</td>\n",
       "      <td>$100.00</td>\n",
       "      <td>$20.00</td>\n",
       "      <td>$10.00</td>\n",
       "      <td>$10.00</td>\n",
       "      <td>$0.00</td>\n",
       "      <td>$140.00</td>\n",
       "      <td>PAID IN FULL</td>\n",
       "      <td>0</td>\n",
       "      <td>0</td>\n",
       "      <td>18735 STAHELIN\\r\\nDetroit, MI\\r\\n(42.428707459...</td>\n",
       "      <td>18735 STAHELI N\\r\\nDETROIT, MI 48219\\r\\n(42.42...</td>\n",
       "      <td>7135</td>\n",
       "    </tr>\n",
       "  </tbody>\n",
       "</table>\n",
       "</div>"
      ],
      "text/plain": [
       "   TicketID TicketNumber                  AgencyName  \\\n",
       "0     26288  05000001DAH  Department of Public Works   \n",
       "1     19800  05000025DAH  Department of Public Works   \n",
       "2     19804  05000026DAH  Department of Public Works   \n",
       "\n",
       "                    ViolName  ViolationStreetNumber ViolationStreetName  \\\n",
       "0  Group, LLC, Grand Holding                   2566    GRAND BLVD         \n",
       "1        JACKSON, RAECHELLE                   19014    ASHTON             \n",
       "2          TALTON, CAROL ANN                  18735    STAHELIN           \n",
       "\n",
       "  MailingStreetNumber   MailingStreetName MailingCity MailingState  \\\n",
       "0                 743  Beaubien, Ste. 201     Detroit           MI   \n",
       "1               20501              HEYDEN     DETROIT           MI   \n",
       "2               18735           STAHELI N     DETROIT           MI   \n",
       "\n",
       "  MailingZipCode NonUsAddressCode Country           TicketIssuedDT  \\\n",
       "0          48226              NaN     NaN  01/01/38440 12:00:00 AM   \n",
       "1          48219              NaN     NaN  01/01/38383 12:00:00 AM   \n",
       "2          48219              NaN     NaN  01/01/38383 12:00:00 AM   \n",
       "\n",
       "  TicketIssuedTime                HearingDT CourtTime ViolationCode  \\\n",
       "0         12:00:00  01/01/38474 12:00:00 AM    9:00AM       22-2-20   \n",
       "1         10:15:00  01/01/38425 12:00:00 AM    1:30PM       22-2-22   \n",
       "2         10:35:00  01/01/38425 12:00:00 AM    1:30PM       22-2-22   \n",
       "\n",
       "                                     ViolDescription  \\\n",
       "0                 Burning solid waste  in open fires   \n",
       "1  Bulk solid waste deposited more than 24 hours ...   \n",
       "2  Bulk solid waste deposited more than 24 hours ...   \n",
       "\n",
       "                        Disposition   FineAmt AdminFee  LateFee StateFee  \\\n",
       "0      Responsible By Determination  $1500.00   $20.00  $150.00   $10.00   \n",
       "1  Not responsible By Determination   $100.00   $20.00   $10.00   $10.00   \n",
       "2      Responsible By Determination   $100.00   $20.00   $10.00   $10.00   \n",
       "\n",
       "  CleanUpCost JudgmentAmt       PaymentStatus  Void  ViolationCategory  \\\n",
       "0       $0.00    $1680.00        PAID IN FULL     0                  0   \n",
       "1       $0.00     $140.00  NO PAYMENT APPLIED     0                  0   \n",
       "2       $0.00     $140.00        PAID IN FULL     0                  0   \n",
       "\n",
       "                                    ViolationAddress  \\\n",
       "0  2566 GRAND BLVD\\r\\nDetroit, MI\\r\\n(42.36318237...   \n",
       "1  19014 ASHTON\\r\\nDetroit, MI\\r\\n(42.42939076200...   \n",
       "2  18735 STAHELIN\\r\\nDetroit, MI\\r\\n(42.428707459...   \n",
       "\n",
       "                                      MailingAddress  incident_id  \n",
       "0  743 Beaubien\\r\\nDetroit, MI 48226\\r\\n(42.33373...         7133  \n",
       "1  20501 HEYDEN\\r\\nDETROIT, MI 48219\\r\\n(42.44217...         7134  \n",
       "2  18735 STAHELI N\\r\\nDETROIT, MI 48219\\r\\n(42.42...         7135  "
      ]
     },
     "execution_count": 12,
     "metadata": {},
     "output_type": "execute_result"
    }
   ],
   "source": [
    "violations.head(3)"
   ]
  },
  {
   "cell_type": "code",
   "execution_count": 49,
   "metadata": {
    "collapsed": false
   },
   "outputs": [],
   "source": [
    "def clean_amt(s):\n",
    "    try:\n",
    "        s = str(s)\n",
    "        s = s.replace('$', '')\n",
    "        s = float(s)\n",
    "        return s\n",
    "    except Exception, e:\n",
    "        return str(e)"
   ]
  },
  {
   "cell_type": "code",
   "execution_count": 50,
   "metadata": {
    "collapsed": false
   },
   "outputs": [],
   "source": [
    "violations['CleanJudgmentAmt'] = violations['JudgmentAmt'].map(clean_amt)"
   ]
  },
  {
   "cell_type": "code",
   "execution_count": 18,
   "metadata": {
    "collapsed": false,
    "scrolled": true
   },
   "outputs": [
    {
     "data": {
      "text/plain": [
       "1972"
      ]
     },
     "execution_count": 18,
     "metadata": {},
     "output_type": "execute_result"
    }
   ],
   "source": [
    "violations['JudgmentAmt'].isnull().sum()"
   ]
  },
  {
   "cell_type": "code",
   "execution_count": 52,
   "metadata": {
    "collapsed": false,
    "scrolled": true
   },
   "outputs": [
    {
     "data": {
      "text/plain": [
       "count    305832.000000\n",
       "mean        425.211903\n",
       "std         726.368971\n",
       "min           0.000000\n",
       "25%         140.000000\n",
       "50%         305.000000\n",
       "75%         305.000000\n",
       "max       11030.000000\n",
       "Name: CleanJudgmentAmt, dtype: float64"
      ]
     },
     "execution_count": 52,
     "metadata": {},
     "output_type": "execute_result"
    }
   ],
   "source": [
    "violations['CleanJudgmentAmt'].describe()"
   ]
  },
  {
   "cell_type": "code",
   "execution_count": 55,
   "metadata": {
    "collapsed": false
   },
   "outputs": [],
   "source": [
    "violations['CleanJudgmentAmt'].fillna(violations['CleanJudgmentAmt'].mean(), axis=0, inplace=True)"
   ]
  },
  {
   "cell_type": "code",
   "execution_count": 59,
   "metadata": {
    "collapsed": false
   },
   "outputs": [
    {
     "data": {
      "text/plain": [
       "0    99133\n",
       "Name: Void, dtype: int64"
      ]
     },
     "execution_count": 59,
     "metadata": {},
     "output_type": "execute_result"
    }
   ],
   "source": [
    "violations['Void'].value_counts()"
   ]
  },
  {
   "cell_type": "code",
   "execution_count": 61,
   "metadata": {
    "collapsed": false
   },
   "outputs": [
    {
     "data": {
      "text/plain": [
       "0    305787\n",
       "1      2017\n",
       "Name: ViolationCategory, dtype: int64"
      ]
     },
     "execution_count": 61,
     "metadata": {},
     "output_type": "execute_result"
    }
   ],
   "source": [
    "violations['ViolationCategory'].value_counts()"
   ]
  },
  {
   "cell_type": "code",
   "execution_count": 62,
   "metadata": {
    "collapsed": false,
    "scrolled": false
   },
   "outputs": [
    {
     "data": {
      "text/plain": [
       "NO PAYMENT APPLIED      244303\n",
       "PAID IN FULL             44319\n",
       "NO PAYMENT ON RECORD     14565\n",
       "PARTIAL PAYMENT MADE      4617\n",
       "Name: PaymentStatus, dtype: int64"
      ]
     },
     "execution_count": 62,
     "metadata": {},
     "output_type": "execute_result"
    }
   ],
   "source": [
    "violations['PaymentStatus'].value_counts()"
   ]
  },
  {
   "cell_type": "code",
   "execution_count": 76,
   "metadata": {
    "collapsed": true
   },
   "outputs": [],
   "source": [
    "violation_category_table = {\n",
    "    0: 'violation_category_0_count',\n",
    "    1: 'violation_category_1_count'\n",
    "}\n",
    "\n",
    "violation_payment_status_table = {\n",
    "    'NO PAYMENT APPLIED': 'violation_no_pay_applied_count',\n",
    "    'PAID IN FULL': 'violation_full_pay_count',\n",
    "    'NO PAYMENT ON RECORD': 'violation_no_pay_on_rec_count',\n",
    "    'PARTIAL PAYMENT MADE': 'violation_partial_pay_count'\n",
    "}"
   ]
  },
  {
   "cell_type": "code",
   "execution_count": 252,
   "metadata": {
    "collapsed": false
   },
   "outputs": [],
   "source": [
    "all_df['violation_count'] = np.zeros(num_all)\n",
    "all_df['violation_judgement_amount'] = np.zeros(num_all)\n",
    "all_df['violation_category_0_count'] = np.zeros(num_all)\n",
    "all_df['violation_category_1_count'] = np.zeros(num_all)\n",
    "all_df['violation_no_pay_applied_count'] = np.zeros(num_all)\n",
    "all_df['violation_full_pay_count'] = np.zeros(num_all)\n",
    "all_df['violation_no_pay_on_rec_count'] = np.zeros(num_all)\n",
    "all_df['violation_partial_pay_count'] = np.zeros(num_all)\n",
    "\n",
    "for index, row in violations.iterrows():\n",
    "    incident_id = row['incident_id']\n",
    "    building_id = incident_to_building_mapping.get(incident_id, None)\n",
    "    if not building_id:\n",
    "        continue\n",
    "    building_indexs = all_df[all_df['building_id'] == building_id].index.tolist()\n",
    "    if not building_indexs:\n",
    "        continue\n",
    "    i = building_indexs[0]\n",
    "    all_df.loc[i, 'violation_count'] += 1\n",
    "    all_df.loc[i, 'violation_judgement_amount'] += row['CleanJudgmentAmt']\n",
    "    all_df.loc[i, violation_category_table[row['ViolationCategory']]] += 1\n",
    "    all_df.loc[i, violation_payment_status_table[row['PaymentStatus']]] += 1"
   ]
  },
  {
   "cell_type": "markdown",
   "metadata": {},
   "source": [
    "## Calls"
   ]
  },
  {
   "cell_type": "code",
   "execution_count": 135,
   "metadata": {
    "collapsed": false
   },
   "outputs": [],
   "source": [
    "calls = pd.read_csv('../data/calls.csv')"
   ]
  },
  {
   "cell_type": "code",
   "execution_count": 136,
   "metadata": {
    "collapsed": false
   },
   "outputs": [
    {
     "data": {
      "text/html": [
       "<div>\n",
       "<table border=\"1\" class=\"dataframe\">\n",
       "  <thead>\n",
       "    <tr style=\"text-align: right;\">\n",
       "      <th></th>\n",
       "      <th>ticket_id</th>\n",
       "      <th>city</th>\n",
       "      <th>issue_type</th>\n",
       "      <th>ticket_status</th>\n",
       "      <th>issue_description</th>\n",
       "      <th>rating</th>\n",
       "      <th>ticket_closed_date_time</th>\n",
       "      <th>acknowledged_at</th>\n",
       "      <th>ticket_created_date_time</th>\n",
       "      <th>ticket_last_updated_date_time</th>\n",
       "      <th>address</th>\n",
       "      <th>lat</th>\n",
       "      <th>lng</th>\n",
       "      <th>location</th>\n",
       "      <th>image</th>\n",
       "      <th>incident_id</th>\n",
       "    </tr>\n",
       "  </thead>\n",
       "  <tbody>\n",
       "    <tr>\n",
       "      <th>0</th>\n",
       "      <td>1516722</td>\n",
       "      <td>City of Detroit</td>\n",
       "      <td>Clogged Drain</td>\n",
       "      <td>Acknowledged</td>\n",
       "      <td>Two drains one on each side of street, street ...</td>\n",
       "      <td>3</td>\n",
       "      <td>NaN</td>\n",
       "      <td>03/06/2015 10:03:38 PM</td>\n",
       "      <td>03/06/2015 09:57:52 PM</td>\n",
       "      <td>04/12/2015 01:01:10 AM</td>\n",
       "      <td>13120-13130 Ilene Street Detroit, MI 48238, USA</td>\n",
       "      <td>42.383998</td>\n",
       "      <td>-83.161039</td>\n",
       "      <td>(42.3839977668, -83.1610385642)</td>\n",
       "      <td>NaN</td>\n",
       "      <td>434868</td>\n",
       "    </tr>\n",
       "    <tr>\n",
       "      <th>1</th>\n",
       "      <td>1525361</td>\n",
       "      <td>City of Detroit</td>\n",
       "      <td>Clogged Drain</td>\n",
       "      <td>Acknowledged</td>\n",
       "      <td>standing water on lumplin</td>\n",
       "      <td>2</td>\n",
       "      <td>NaN</td>\n",
       "      <td>03/11/2015 04:23:11 PM</td>\n",
       "      <td>03/11/2015 04:14:29 PM</td>\n",
       "      <td>04/07/2015 02:04:44 PM</td>\n",
       "      <td>1485 E. Outer Drive Detroit, Michigan</td>\n",
       "      <td>42.440471</td>\n",
       "      <td>-83.080919</td>\n",
       "      <td>(42.4404708, -83.080919)</td>\n",
       "      <td>NaN</td>\n",
       "      <td>434869</td>\n",
       "    </tr>\n",
       "    <tr>\n",
       "      <th>2</th>\n",
       "      <td>1525218</td>\n",
       "      <td>City of Detroit</td>\n",
       "      <td>Clogged Drain</td>\n",
       "      <td>Closed</td>\n",
       "      <td>CITZEN CALLED TO REPORT CLOGGED DRAINS</td>\n",
       "      <td>2</td>\n",
       "      <td>08/15/2015 12:03:43 AM</td>\n",
       "      <td>03/11/2015 03:39:05 PM</td>\n",
       "      <td>03/11/2015 03:26:20 PM</td>\n",
       "      <td>08/15/2015 12:03:44 AM</td>\n",
       "      <td>15460 Eastburn Detroit, Michigan</td>\n",
       "      <td>42.445244</td>\n",
       "      <td>-82.962038</td>\n",
       "      <td>(42.445244, -82.962038)</td>\n",
       "      <td>NaN</td>\n",
       "      <td>434870</td>\n",
       "    </tr>\n",
       "  </tbody>\n",
       "</table>\n",
       "</div>"
      ],
      "text/plain": [
       "   ticket_id             city     issue_type ticket_status  \\\n",
       "0    1516722  City of Detroit  Clogged Drain  Acknowledged   \n",
       "1    1525361  City of Detroit  Clogged Drain  Acknowledged   \n",
       "2    1525218  City of Detroit  Clogged Drain        Closed   \n",
       "\n",
       "                                   issue_description rating  \\\n",
       "0  Two drains one on each side of street, street ...      3   \n",
       "1                          standing water on lumplin      2   \n",
       "2             CITZEN CALLED TO REPORT CLOGGED DRAINS      2   \n",
       "\n",
       "  ticket_closed_date_time         acknowledged_at ticket_created_date_time  \\\n",
       "0                     NaN  03/06/2015 10:03:38 PM   03/06/2015 09:57:52 PM   \n",
       "1                     NaN  03/11/2015 04:23:11 PM   03/11/2015 04:14:29 PM   \n",
       "2  08/15/2015 12:03:43 AM  03/11/2015 03:39:05 PM   03/11/2015 03:26:20 PM   \n",
       "\n",
       "  ticket_last_updated_date_time  \\\n",
       "0        04/12/2015 01:01:10 AM   \n",
       "1        04/07/2015 02:04:44 PM   \n",
       "2        08/15/2015 12:03:44 AM   \n",
       "\n",
       "                                           address        lat        lng  \\\n",
       "0  13120-13130 Ilene Street Detroit, MI 48238, USA  42.383998 -83.161039   \n",
       "1            1485 E. Outer Drive Detroit, Michigan  42.440471 -83.080919   \n",
       "2                 15460 Eastburn Detroit, Michigan  42.445244 -82.962038   \n",
       "\n",
       "                          location image  incident_id  \n",
       "0  (42.3839977668, -83.1610385642)   NaN       434868  \n",
       "1         (42.4404708, -83.080919)   NaN       434869  \n",
       "2          (42.445244, -82.962038)   NaN       434870  "
      ]
     },
     "execution_count": 136,
     "metadata": {},
     "output_type": "execute_result"
    }
   ],
   "source": [
    "calls.head(3)"
   ]
  },
  {
   "cell_type": "code",
   "execution_count": 137,
   "metadata": {
    "collapsed": true
   },
   "outputs": [
    {
     "data": {
      "text/plain": [
       "Illegal Dumping / Illegal Dump Sites                                                         3584\n",
       "Tree Issue                                                                                   3546\n",
       "Running Water in a Home or Building                                                          2655\n",
       "Clogged Drain                                                                                2490\n",
       "Potholes                                                                                     2399\n",
       "Traffic Sign Issue                                                                           1030\n",
       "Water Main Break                                                                              778\n",
       "Fire Hydrant Issue                                                                            678\n",
       "Abandoned Vehicle                                                                             638\n",
       "Manhole Cover Issue                                                                           546\n",
       "Traffic Signal Issue                                                                          390\n",
       "Trash Issue - Bulk waste deposited more than 24 hours before designated time                  245\n",
       "DPW - Debris Removal                                                                          189\n",
       "Street Light Pole Down                                                                        182\n",
       "Curbside Solid Waste Issue                                                                    159\n",
       "DPW - Other environmental                                                                      64\n",
       "Trash Issue - Improper placement of refuse container between collections/left at curbside      41\n",
       "Residential Snow Removal Issue                                                                 31\n",
       "Graffiti                                                                                       24\n",
       "Detroit Land Bank Referral                                                                      5\n",
       "Test (internal use only, public issue)                                                          3\n",
       "Graffiti Abatement (internal use only, public issue)                                            2\n",
       "Customer Service (internal use only, private issue)                                             1\n",
       "07/09/2015 03:32:28 PM                                                                          1\n",
       "Name: issue_type, dtype: int64"
      ]
     },
     "execution_count": 137,
     "metadata": {},
     "output_type": "execute_result"
    }
   ],
   "source": [
    "calls['issue_type'].value_counts()"
   ]
  },
  {
   "cell_type": "code",
   "execution_count": 144,
   "metadata": {
    "collapsed": true
   },
   "outputs": [],
   "source": [
    "calls = calls[calls['ticket_status'] != '06/22/2015 05:11:47 PM']"
   ]
  },
  {
   "cell_type": "code",
   "execution_count": 145,
   "metadata": {
    "collapsed": false,
    "scrolled": false
   },
   "outputs": [
    {
     "data": {
      "text/plain": [
       "Archived        9600\n",
       "Closed          7009\n",
       "Acknowledged    3012\n",
       "Open              59\n",
       "Name: ticket_status, dtype: int64"
      ]
     },
     "execution_count": 145,
     "metadata": {},
     "output_type": "execute_result"
    }
   ],
   "source": [
    "calls['ticket_status'].value_counts()"
   ]
  },
  {
   "cell_type": "code",
   "execution_count": 151,
   "metadata": {
    "collapsed": true
   },
   "outputs": [],
   "source": [
    "calls = calls[calls['rating'] != '19']"
   ]
  },
  {
   "cell_type": "code",
   "execution_count": 163,
   "metadata": {
    "collapsed": false
   },
   "outputs": [],
   "source": [
    "calls = calls[~calls['rating'].isnull()]"
   ]
  },
  {
   "cell_type": "code",
   "execution_count": 164,
   "metadata": {
    "collapsed": false
   },
   "outputs": [
    {
     "data": {
      "text/plain": [
       "0"
      ]
     },
     "execution_count": 164,
     "metadata": {},
     "output_type": "execute_result"
    }
   ],
   "source": [
    "calls['rating'].isnull().sum()"
   ]
  },
  {
   "cell_type": "code",
   "execution_count": 166,
   "metadata": {
    "collapsed": false
   },
   "outputs": [],
   "source": [
    "calls['rating'] = calls['rating'].astype(int)"
   ]
  },
  {
   "cell_type": "code",
   "execution_count": 167,
   "metadata": {
    "collapsed": false
   },
   "outputs": [
    {
     "data": {
      "text/plain": [
       "2    9187\n",
       "3    7856\n",
       "4    2062\n",
       "5     417\n",
       "6      79\n",
       "1      54\n",
       "7      20\n",
       "8       3\n",
       "Name: rating, dtype: int64"
      ]
     },
     "execution_count": 167,
     "metadata": {},
     "output_type": "execute_result"
    }
   ],
   "source": [
    "calls['rating'].value_counts()"
   ]
  },
  {
   "cell_type": "code",
   "execution_count": 141,
   "metadata": {
    "collapsed": false
   },
   "outputs": [],
   "source": [
    "call_ticket_status_table = {\n",
    "    'Archived': 'call_ticket_archived_count',\n",
    "    'Closed': 'call_ticket_closed_count',\n",
    "    'Acknowledged': 'call_ticket_acknowledged_count',\n",
    "    'Open': 'call_ticket_open_count'\n",
    "}\n",
    "\n",
    "call_issue_type_table = {\n",
    "    'Illegal Dumping / Illegal Dump Sites': 'call_illegal_dumping_count',\n",
    "    'Tree Issue': 'call_tree_count',\n",
    "    'Running Water in a Home or Building': 'call_running_water_count',\n",
    "    'Clogged Drain': 'call_clogged_drain_count',\n",
    "    'Potholes': 'call_potholes_count',\n",
    "    'Traffic Sign Issue': 'call_traffic_sign_count',\n",
    "    'Water Main Break': 'call_water_main_break_count',\n",
    "    'Fire Hydrant Issue': 'call_fire_hydrant_count',\n",
    "    'Abandoned Vehicle': 'call_abandoned_vehicle_count',\n",
    "    'Manhole Cover Issue': 'call_manhole_cover_count',\n",
    "    'Traffic Signal Issue': 'call_traffic_signal_count',\n",
    "    'Trash Issue - Bulk waste deposited more than 24 hours before designated time': 'call_trash_bulk_waste_count',\n",
    "    'DPW - Debris Removal': 'call_dpw_debris_removal_count',\n",
    "    'Street Light Pole Down': 'call_st_light_pole_down_count',\n",
    "    'Curbside Solid Waste Issue': 'call_curbside_solid_waste_count',\n",
    "    'DPW - Other environmental': 'call_dpw_others_count',\n",
    "    'Trash Issue - Improper placement of refuse container between collections/left at curbside': 'call_trash_improper_placement_count',\n",
    "    'Residential Snow Removal Issue': 'call_res_snow_removal_count',\n",
    "    'Graffiti': 'call_graffiti_count'\n",
    "}"
   ]
  },
  {
   "cell_type": "code",
   "execution_count": 269,
   "metadata": {
    "collapsed": false
   },
   "outputs": [],
   "source": [
    "all_df['call_count'] = np.zeros(num_all)\n",
    "all_df['call_avg_rating'] = np.zeros(num_all)\n",
    "all_df['call_other_type_count'] = np.zeros(num_all)\n",
    "for col in call_ticket_status_table.values():\n",
    "    all_df[col] = np.zeros(num_all)\n",
    "for col in call_issue_type_table.values():\n",
    "    all_df[col] = np.zeros(num_all)\n",
    "\n",
    "for index, row in calls.iterrows():\n",
    "    incident_id = row['incident_id']\n",
    "    building_id = incident_to_building_mapping.get(incident_id, None)\n",
    "    if not building_id:\n",
    "        continue\n",
    "    building_indexs = all_df[all_df['building_id'] == building_id].index.tolist()\n",
    "    if not building_indexs:\n",
    "        continue\n",
    "    i = building_indexs[0]\n",
    "    all_df.loc[i, 'call_count'] += 1\n",
    "    all_df.loc[i, 'call_avg_rating'] += row['rating']\n",
    "    all_df.loc[i, call_ticket_status_table[row['ticket_status']]] += 1\n",
    "    all_df.loc[i, call_issue_type_table.get(row['issue_type'], 'call_other_type_count')] += 1"
   ]
  },
  {
   "cell_type": "code",
   "execution_count": 270,
   "metadata": {
    "collapsed": true
   },
   "outputs": [],
   "source": [
    "all_df['call_avg_rating'] = all_df.apply(lambda r: r['call_avg_rating'] / float(r['call_count']) if float(r['call_count']) > 0 else 0, axis=1)"
   ]
  },
  {
   "cell_type": "markdown",
   "metadata": {},
   "source": [
    "## Crimes"
   ]
  },
  {
   "cell_type": "code",
   "execution_count": 182,
   "metadata": {
    "collapsed": false
   },
   "outputs": [
    {
     "name": "stderr",
     "output_type": "stream",
     "text": [
      "C:\\Users\\linghao\\Anaconda2\\lib\\site-packages\\IPython\\core\\interactiveshell.py:2902: DtypeWarning: Columns (2) have mixed types. Specify dtype option on import or set low_memory=False.\n",
      "  interactivity=interactivity, compiler=compiler, result=result)\n"
     ]
    }
   ],
   "source": [
    "crimes = pd.read_csv('../data/crimes.csv')"
   ]
  },
  {
   "cell_type": "code",
   "execution_count": 183,
   "metadata": {
    "collapsed": false,
    "scrolled": true
   },
   "outputs": [
    {
     "data": {
      "text/html": [
       "<div>\n",
       "<table border=\"1\" class=\"dataframe\">\n",
       "  <thead>\n",
       "    <tr style=\"text-align: right;\">\n",
       "      <th></th>\n",
       "      <th>ROWNUM</th>\n",
       "      <th>CASEID</th>\n",
       "      <th>INCINO</th>\n",
       "      <th>CATEGORY</th>\n",
       "      <th>OFFENSEDESCRIPTION</th>\n",
       "      <th>STATEOFFENSEFILECLASS</th>\n",
       "      <th>INCIDENTDATE</th>\n",
       "      <th>HOUR</th>\n",
       "      <th>SCA</th>\n",
       "      <th>PRECINCT</th>\n",
       "      <th>COUNCIL</th>\n",
       "      <th>NEIGHBORHOOD</th>\n",
       "      <th>CENSUSTRACT</th>\n",
       "      <th>ADDRESS</th>\n",
       "      <th>LON</th>\n",
       "      <th>LAT</th>\n",
       "      <th>LOCATION</th>\n",
       "      <th>incident_id</th>\n",
       "    </tr>\n",
       "  </thead>\n",
       "  <tbody>\n",
       "    <tr>\n",
       "      <th>0</th>\n",
       "      <td>53256</td>\n",
       "      <td>1953933</td>\n",
       "      <td>1506030028.1</td>\n",
       "      <td>ASSAULT</td>\n",
       "      <td>ASSAULT AND BATTERY/SIMPLE ASSAULT</td>\n",
       "      <td>13001</td>\n",
       "      <td>06/03/2015 12:00:00 AM</td>\n",
       "      <td>2</td>\n",
       "      <td>1007</td>\n",
       "      <td>10</td>\n",
       "      <td>City Council District 5</td>\n",
       "      <td>PETOSKEY-OTSEGO</td>\n",
       "      <td>5334</td>\n",
       "      <td>09100 PETOSKEY</td>\n",
       "      <td>-83.1221</td>\n",
       "      <td>42.3678</td>\n",
       "      <td>PETOSKEY\\r\\n09100\\r\\n(42.3676, -83.1219)</td>\n",
       "      <td>314937</td>\n",
       "    </tr>\n",
       "    <tr>\n",
       "      <th>1</th>\n",
       "      <td>17631</td>\n",
       "      <td>1917717</td>\n",
       "      <td>1503010158.1</td>\n",
       "      <td>LARCENY</td>\n",
       "      <td>LARCENY - PARTS AND ACCESSORIES FROM VEHICLE</td>\n",
       "      <td>23006</td>\n",
       "      <td>03/01/2015 12:00:00 AM</td>\n",
       "      <td>9</td>\n",
       "      <td>608</td>\n",
       "      <td>6</td>\n",
       "      <td>City Council District 7</td>\n",
       "      <td>GRANDALE</td>\n",
       "      <td>5452</td>\n",
       "      <td>00 PLYMOUTH AND MANSFIELD</td>\n",
       "      <td>-83.2035</td>\n",
       "      <td>42.3724</td>\n",
       "      <td>00 PLYMOUTH AND MANSFIELD\\r\\n(42.3725, -83.2033)</td>\n",
       "      <td>314938</td>\n",
       "    </tr>\n",
       "    <tr>\n",
       "      <th>2</th>\n",
       "      <td>11207</td>\n",
       "      <td>1910955</td>\n",
       "      <td>1502080223.1</td>\n",
       "      <td>STOLEN VEHICLE</td>\n",
       "      <td>VEHICLE THEFT</td>\n",
       "      <td>24001</td>\n",
       "      <td>02/08/2015 12:00:00 AM</td>\n",
       "      <td>18</td>\n",
       "      <td>1105</td>\n",
       "      <td>11</td>\n",
       "      <td>City Council District 3</td>\n",
       "      <td>OUTER DRIVE VAN DYKE</td>\n",
       "      <td>5051</td>\n",
       "      <td>00 E 7 MILE  VAN DYKE</td>\n",
       "      <td>-83.0241</td>\n",
       "      <td>42.4338</td>\n",
       "      <td>00 E 7 MILE VAN DYKE\\r\\n(42.4339, -83.0241)</td>\n",
       "      <td>314939</td>\n",
       "    </tr>\n",
       "  </tbody>\n",
       "</table>\n",
       "</div>"
      ],
      "text/plain": [
       "   ROWNUM   CASEID        INCINO        CATEGORY  \\\n",
       "0   53256  1953933  1506030028.1         ASSAULT   \n",
       "1   17631  1917717  1503010158.1         LARCENY   \n",
       "2   11207  1910955  1502080223.1  STOLEN VEHICLE   \n",
       "\n",
       "                             OFFENSEDESCRIPTION  STATEOFFENSEFILECLASS  \\\n",
       "0            ASSAULT AND BATTERY/SIMPLE ASSAULT                  13001   \n",
       "1  LARCENY - PARTS AND ACCESSORIES FROM VEHICLE                  23006   \n",
       "2                                 VEHICLE THEFT                  24001   \n",
       "\n",
       "             INCIDENTDATE  HOUR   SCA  PRECINCT                  COUNCIL  \\\n",
       "0  06/03/2015 12:00:00 AM     2  1007        10  City Council District 5   \n",
       "1  03/01/2015 12:00:00 AM     9   608         6  City Council District 7   \n",
       "2  02/08/2015 12:00:00 AM    18  1105        11  City Council District 3   \n",
       "\n",
       "           NEIGHBORHOOD  CENSUSTRACT                    ADDRESS      LON  \\\n",
       "0       PETOSKEY-OTSEGO         5334             09100 PETOSKEY -83.1221   \n",
       "1              GRANDALE         5452  00 PLYMOUTH AND MANSFIELD -83.2035   \n",
       "2  OUTER DRIVE VAN DYKE         5051      00 E 7 MILE  VAN DYKE -83.0241   \n",
       "\n",
       "       LAT                                          LOCATION  incident_id  \n",
       "0  42.3678          PETOSKEY\\r\\n09100\\r\\n(42.3676, -83.1219)       314937  \n",
       "1  42.3724  00 PLYMOUTH AND MANSFIELD\\r\\n(42.3725, -83.2033)       314938  \n",
       "2  42.4338       00 E 7 MILE VAN DYKE\\r\\n(42.4339, -83.0241)       314939  "
      ]
     },
     "execution_count": 183,
     "metadata": {},
     "output_type": "execute_result"
    }
   ],
   "source": [
    "crimes.head(3)"
   ]
  },
  {
   "cell_type": "code",
   "execution_count": 205,
   "metadata": {
    "collapsed": false
   },
   "outputs": [
    {
     "data": {
      "text/plain": [
       "119931"
      ]
     },
     "execution_count": 205,
     "metadata": {},
     "output_type": "execute_result"
    }
   ],
   "source": [
    "len(crimes)"
   ]
  },
  {
   "cell_type": "code",
   "execution_count": 216,
   "metadata": {
    "collapsed": false
   },
   "outputs": [
    {
     "data": {
      "text/plain": [
       "0"
      ]
     },
     "execution_count": 216,
     "metadata": {},
     "output_type": "execute_result"
    }
   ],
   "source": [
    "crimes['CATEGORY'].isnull().sum()"
   ]
  },
  {
   "cell_type": "code",
   "execution_count": 222,
   "metadata": {
    "collapsed": false
   },
   "outputs": [],
   "source": [
    "crime_categories = crimes['CATEGORY'].value_counts()[:30].keys()"
   ]
  },
  {
   "cell_type": "code",
   "execution_count": 223,
   "metadata": {
    "collapsed": true
   },
   "outputs": [],
   "source": [
    "crime_cols = ['crime_' + x.lower().replace(' ', '_') + '_count' for x in crime_categories]"
   ]
  },
  {
   "cell_type": "code",
   "execution_count": 274,
   "metadata": {
    "collapsed": false
   },
   "outputs": [],
   "source": [
    "crime_category_table = dict(zip(crime_categories, crime_cols))\n",
    "all_df['crime_count'] = np.zeros(num_all)\n",
    "all_df['crime_other_crime_count'] = np.zeros(num_all)\n",
    "for col in crime_category_table.values():\n",
    "    all_df[col] = np.zeros(num_all)\n",
    "    \n",
    "for index, row in crimes.iterrows():\n",
    "    incident_id = row['incident_id']\n",
    "    building_id = incident_to_building_mapping.get(incident_id, None)\n",
    "    if not building_id:\n",
    "        continue\n",
    "    building_indexs = all_df[all_df['building_id'] == building_id].index.tolist()\n",
    "    if not building_indexs:\n",
    "        continue\n",
    "    i = building_indexs[0]\n",
    "    all_df.loc[i, 'crime_count'] += 1\n",
    "    all_df.loc[i, crime_category_table.get(row['CATEGORY'], 'crime_other_crime_count')] += 1"
   ]
  },
  {
   "cell_type": "markdown",
   "metadata": {},
   "source": [
    "## Export"
   ]
  },
  {
   "cell_type": "code",
   "execution_count": 275,
   "metadata": {
    "collapsed": true
   },
   "outputs": [],
   "source": [
    "train_ids = pre_train_df['building_id'].tolist()"
   ]
  },
  {
   "cell_type": "code",
   "execution_count": 276,
   "metadata": {
    "collapsed": true
   },
   "outputs": [],
   "source": [
    "train_df = all_df[all_df.building_id.isin(train_ids)]"
   ]
  },
  {
   "cell_type": "code",
   "execution_count": 284,
   "metadata": {
    "collapsed": true
   },
   "outputs": [],
   "source": [
    "train_df_labeled = pd.merge(pre_train_df, train_df, on='building_id', how='left')"
   ]
  },
  {
   "cell_type": "code",
   "execution_count": 281,
   "metadata": {
    "collapsed": true
   },
   "outputs": [],
   "source": [
    "oos_df = all_df[~all_df.building_id.isin(train_ids)]"
   ]
  },
  {
   "cell_type": "code",
   "execution_count": 280,
   "metadata": {
    "collapsed": true
   },
   "outputs": [],
   "source": [
    "train_df_labeled.to_csv('../data/train_feat.csv', index=False)"
   ]
  },
  {
   "cell_type": "code",
   "execution_count": 282,
   "metadata": {
    "collapsed": true
   },
   "outputs": [],
   "source": [
    "oos_df.to_csv('../data/oos_feat.csv', index=False)"
   ]
  },
  {
   "cell_type": "markdown",
   "metadata": {},
   "source": [
    "## Examine feature importances"
   ]
  },
  {
   "cell_type": "code",
   "execution_count": 98,
   "metadata": {
    "collapsed": false
   },
   "outputs": [],
   "source": [
    "from sklearn.ensemble import RandomForestClassifier\n",
    "from sklearn.cross_validation import train_test_split"
   ]
  },
  {
   "cell_type": "code",
   "execution_count": 128,
   "metadata": {
    "collapsed": true
   },
   "outputs": [],
   "source": [
    "clf = RandomForestClassifier(n_estimators=500)"
   ]
  },
  {
   "cell_type": "code",
   "execution_count": 285,
   "metadata": {
    "collapsed": false
   },
   "outputs": [],
   "source": [
    "X = train_df_labeled.drop(['building_id', 'blighted'], axis=1)\n",
    "y = train_df_labeled['blighted']"
   ]
  },
  {
   "cell_type": "code",
   "execution_count": 286,
   "metadata": {
    "collapsed": true
   },
   "outputs": [],
   "source": [
    "X_train, X_test, y_train, y_test = train_test_split(X, y, test_size=0.3, stratify = y, random_state=1027)"
   ]
  },
  {
   "cell_type": "code",
   "execution_count": 287,
   "metadata": {
    "collapsed": false,
    "scrolled": true
   },
   "outputs": [
    {
     "data": {
      "text/plain": [
       "RandomForestClassifier(bootstrap=True, class_weight=None, criterion='gini',\n",
       "            max_depth=None, max_features='auto', max_leaf_nodes=None,\n",
       "            min_samples_leaf=1, min_samples_split=2,\n",
       "            min_weight_fraction_leaf=0.0, n_estimators=500, n_jobs=1,\n",
       "            oob_score=False, random_state=None, verbose=0,\n",
       "            warm_start=False)"
      ]
     },
     "execution_count": 287,
     "metadata": {},
     "output_type": "execute_result"
    }
   ],
   "source": [
    "clf.fit(X_train, y_train)"
   ]
  },
  {
   "cell_type": "code",
   "execution_count": 288,
   "metadata": {
    "collapsed": false,
    "scrolled": true
   },
   "outputs": [
    {
     "data": {
      "text/plain": [
       "<matplotlib.axes._subplots.AxesSubplot at 0x2af6c5f8>"
      ]
     },
     "execution_count": 288,
     "metadata": {},
     "output_type": "execute_result"
    },
    {
     "data": {
      "image/png": "[encoded data removed]",
      "text/plain": [
       "<matplotlib.figure.Figure at 0x2af6c828>"
      ]
     },
     "metadata": {},
     "output_type": "display_data"
    }
   ],
   "source": [
    "feat_imp = pd.Series(clf.feature_importances_, index=X.columns)\n",
    "feat_imp.sort_values(inplace=True, ascending=False)\n",
    "feat_imp.head(20).plot(kind='barh', title='Feature importance')"
   ]
  },
  {
   "cell_type": "code",
   "execution_count": 289,
   "metadata": {
    "collapsed": false,
    "scrolled": true
   },
   "outputs": [
    {
     "data": {
      "text/plain": [
       "0.73826714801444049"
      ]
     },
     "execution_count": 289,
     "metadata": {},
     "output_type": "execute_result"
    }
   ],
   "source": [
    "sum(clf.predict(X_test) == y_test) / float(len(y_test))"
   ]
  },
  {
   "cell_type": "code",
   "execution_count": 290,
   "metadata": {
    "collapsed": false
   },
   "outputs": [
    {
     "data": {
      "text/plain": [
       "0.8319143446852425"
      ]
     },
     "execution_count": 290,
     "metadata": {},
     "output_type": "execute_result"
    }
   ],
   "source": [
    "sum(clf.predict(X_train) == y_train) / float(len(y_train))"
   ]
  },
  {
   "cell_type": "code",
   "execution_count": 291,
   "metadata": {
    "collapsed": true
   },
   "outputs": [],
   "source": [
    "from sklearn.metrics import roc_curve, roc_auc_score"
   ]
  },
  {
   "cell_type": "code",
   "execution_count": 292,
   "metadata": {
    "collapsed": true
   },
   "outputs": [],
   "source": [
    "pred_probs = clf.predict_proba(X_test)[:, 1]"
   ]
  },
  {
   "cell_type": "code",
   "execution_count": 295,
   "metadata": {
    "collapsed": false
   },
   "outputs": [
    {
     "data": {
      "text/plain": [
       "0.83157"
      ]
     },
     "execution_count": 295,
     "metadata": {},
     "output_type": "execute_result"
    }
   ],
   "source": [
    "round(roc_auc_score(y_test, pred_probs), 5)"
   ]
  },
  {
   "cell_type": "code",
   "execution_count": 294,
   "metadata": {
    "collapsed": false
   },
   "outputs": [
    {
     "data": {
      "image/png": "[encoded data removed]",
      "text/plain": [
       "<matplotlib.figure.Figure at 0x2e37f3c8>"
      ]
     },
     "metadata": {},
     "output_type": "display_data"
    }
   ],
   "source": [
    "fpr, tpr, thresholds = roc_curve(y_test, pred_probs, pos_label=1)\n",
    "plt.figure(figsize=(6, 6), dpi=200)\n",
    "plt.plot([0, 1], [0, 1], 'k--')\n",
    "plt.plot(fpr, tpr, label='RF')\n",
    "plt.xlabel('False positive rate')\n",
    "plt.ylabel('True positive rate')\n",
    "plt.title('ROC curve')\n",
    "plt.legend(loc='best')\n",
    "plt.show()"
   ]
  }
 ],
 "metadata": {
  "kernelspec": {
   "display_name": "Python 2",
   "language": "python",
   "name": "python2"
  },
  "language_info": {
   "codemirror_mode": {
    "name": "ipython",
    "version": 2
   },
   "file_extension": ".py",
   "mimetype": "text/x-python",
   "name": "python",
   "nbconvert_exporter": "python",
   "pygments_lexer": "ipython2",
   "version": "2.7.11"
  }
 },
 "nbformat": 4,
 "nbformat_minor": 0
}
