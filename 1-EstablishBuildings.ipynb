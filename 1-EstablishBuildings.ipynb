{
 "cells": [
  {
   "cell_type": "markdown",
   "metadata": {},
   "source": [
    "# BlightFight Phase 1: Establish Building List"
   ]
  },
  {
   "cell_type": "code",
   "execution_count": 254,
   "metadata": {
    "collapsed": false
   },
   "outputs": [],
   "source": [
    "import numpy as np\n",
    "import matplotlib.pyplot as plt\n",
    "%matplotlib inline\n",
    "import seaborn as sns\n",
    "import pandas as pd\n",
    "pd.options.display.max_columns = None\n",
    "from IPython.display import Image\n",
    "from util import *"
   ]
  },
  {
   "cell_type": "markdown",
   "metadata": {},
   "source": [
    "## Assign unique ID to every incident"
   ]
  },
  {
   "cell_type": "code",
   "execution_count": 152,
   "metadata": {
    "collapsed": false
   },
   "outputs": [],
   "source": [
    "permits = pd.read_table('../data/detroit-demolition-permits.tsv')"
   ]
  },
  {
   "cell_type": "code",
   "execution_count": 153,
   "metadata": {
    "collapsed": true
   },
   "outputs": [],
   "source": [
    "low, high = 0, len(permits)"
   ]
  },
  {
   "cell_type": "code",
   "execution_count": 154,
   "metadata": {
    "collapsed": true
   },
   "outputs": [],
   "source": [
    "permits['incident_id'] = range(low, high)"
   ]
  },
  {
   "cell_type": "code",
   "execution_count": 155,
   "metadata": {
    "collapsed": false
   },
   "outputs": [],
   "source": [
    "violations = pd.read_csv('../data/detroit-blight-violations.csv')"
   ]
  },
  {
   "cell_type": "code",
   "execution_count": 156,
   "metadata": {
    "collapsed": true
   },
   "outputs": [],
   "source": [
    "low += len(permits)\n",
    "high += len(violations)"
   ]
  },
  {
   "cell_type": "code",
   "execution_count": 157,
   "metadata": {
    "collapsed": false,
    "scrolled": true
   },
   "outputs": [],
   "source": [
    "violations['incident_id'] = range(low, high)"
   ]
  },
  {
   "cell_type": "code",
   "execution_count": 158,
   "metadata": {
    "collapsed": true
   },
   "outputs": [],
   "source": [
    "crimes = pd.read_csv('../data/detroit-crime.csv')"
   ]
  },
  {
   "cell_type": "code",
   "execution_count": 159,
   "metadata": {
    "collapsed": true
   },
   "outputs": [],
   "source": [
    "low += len(violations)\n",
    "high += len(crimes)"
   ]
  },
  {
   "cell_type": "code",
   "execution_count": 160,
   "metadata": {
    "collapsed": true
   },
   "outputs": [],
   "source": [
    "crimes['incident_id'] = range(low, high)"
   ]
  },
  {
   "cell_type": "code",
   "execution_count": 161,
   "metadata": {
    "collapsed": true
   },
   "outputs": [],
   "source": [
    "calls = pd.read_csv('../data/detroit-311.csv')"
   ]
  },
  {
   "cell_type": "code",
   "execution_count": 162,
   "metadata": {
    "collapsed": true
   },
   "outputs": [],
   "source": [
    "low += len(crimes)\n",
    "high += len(calls)"
   ]
  },
  {
   "cell_type": "code",
   "execution_count": 163,
   "metadata": {
    "collapsed": true
   },
   "outputs": [],
   "source": [
    "calls['incident_id'] = range(low, high)"
   ]
  },
  {
   "cell_type": "code",
   "execution_count": 168,
   "metadata": {
    "collapsed": true
   },
   "outputs": [],
   "source": [
    "permits.to_csv('../data/permits.csv', index=False)\n",
    "violations.to_csv('../data/violations.csv', index=False)\n",
    "crimes.to_csv('../data/crimes.csv', index=False)\n",
    "calls.to_csv('../data/calls.csv', index=False)"
   ]
  },
  {
   "cell_type": "markdown",
   "metadata": {},
   "source": [
    "## Extract fields necessary for establish buildings"
   ]
  },
  {
   "cell_type": "markdown",
   "metadata": {},
   "source": [
    "### Violations"
   ]
  },
  {
   "cell_type": "code",
   "execution_count": 169,
   "metadata": {
    "collapsed": false
   },
   "outputs": [],
   "source": [
    "violations = pd.read_csv('../data/violations.csv')"
   ]
  },
  {
   "cell_type": "code",
   "execution_count": 170,
   "metadata": {
    "collapsed": false
   },
   "outputs": [
    {
     "data": {
      "text/plain": [
       "0"
      ]
     },
     "execution_count": 170,
     "metadata": {},
     "output_type": "execute_result"
    }
   ],
   "source": [
    "violations['ViolationAddress'].isnull().sum()"
   ]
  },
  {
   "cell_type": "code",
   "execution_count": 171,
   "metadata": {
    "collapsed": false
   },
   "outputs": [],
   "source": [
    "violations['ViolationAddressCoordinates'] = violations['ViolationAddress'].apply(lambda x: x.split('\\n')[-1])\n",
    "violations['ViolationAddressLatitude'] = violations['ViolationAddressCoordinates'].apply(lambda x: x.split(',')[0][1:].strip()).astype(np.float)\n",
    "violations['ViolationAddressLongitude'] = violations['ViolationAddressCoordinates'].apply(lambda x: x.split(',')[1][:-1].strip()).astype(np.float)"
   ]
  },
  {
   "cell_type": "code",
   "execution_count": 172,
   "metadata": {
    "collapsed": false
   },
   "outputs": [
    {
     "data": {
      "text/plain": [
       "count    307804.000000\n",
       "mean         42.384316\n",
       "std           0.037249\n",
       "min          42.255342\n",
       "25%          42.353541\n",
       "50%          42.387271\n",
       "75%          42.415887\n",
       "max          42.449453\n",
       "Name: ViolationAddressLatitude, dtype: float64"
      ]
     },
     "execution_count": 172,
     "metadata": {},
     "output_type": "execute_result"
    }
   ],
   "source": [
    "violations['ViolationAddressLatitude'].describe()"
   ]
  },
  {
   "cell_type": "code",
   "execution_count": 173,
   "metadata": {
    "collapsed": false,
    "scrolled": true
   },
   "outputs": [
    {
     "data": {
      "text/plain": [
       "count    307804.000000\n",
       "mean        -83.108853\n",
       "std           0.092597\n",
       "min         -83.287664\n",
       "25%         -83.187774\n",
       "50%         -83.118802\n",
       "75%         -83.047996\n",
       "max         -82.910649\n",
       "Name: ViolationAddressLongitude, dtype: float64"
      ]
     },
     "execution_count": 173,
     "metadata": {},
     "output_type": "execute_result"
    }
   ],
   "source": [
    "violations['ViolationAddressLongitude'].describe()"
   ]
  },
  {
   "cell_type": "markdown",
   "metadata": {},
   "source": [
    "**Violations seem to contain no invalid coordinates.**"
   ]
  },
  {
   "cell_type": "code",
   "execution_count": 174,
   "metadata": {
    "collapsed": false,
    "scrolled": true
   },
   "outputs": [
    {
     "data": {
      "text/html": [
       "<div>\n",
       "<table border=\"1\" class=\"dataframe\">\n",
       "  <thead>\n",
       "    <tr style=\"text-align: right;\">\n",
       "      <th></th>\n",
       "      <th>TicketID</th>\n",
       "      <th>TicketNumber</th>\n",
       "      <th>AgencyName</th>\n",
       "      <th>ViolName</th>\n",
       "      <th>ViolationStreetNumber</th>\n",
       "      <th>ViolationStreetName</th>\n",
       "      <th>MailingStreetNumber</th>\n",
       "      <th>MailingStreetName</th>\n",
       "      <th>MailingCity</th>\n",
       "      <th>MailingState</th>\n",
       "      <th>MailingZipCode</th>\n",
       "      <th>NonUsAddressCode</th>\n",
       "      <th>Country</th>\n",
       "      <th>TicketIssuedDT</th>\n",
       "      <th>TicketIssuedTime</th>\n",
       "      <th>HearingDT</th>\n",
       "      <th>CourtTime</th>\n",
       "      <th>ViolationCode</th>\n",
       "      <th>ViolDescription</th>\n",
       "      <th>Disposition</th>\n",
       "      <th>FineAmt</th>\n",
       "      <th>AdminFee</th>\n",
       "      <th>LateFee</th>\n",
       "      <th>StateFee</th>\n",
       "      <th>CleanUpCost</th>\n",
       "      <th>JudgmentAmt</th>\n",
       "      <th>PaymentStatus</th>\n",
       "      <th>Void</th>\n",
       "      <th>ViolationCategory</th>\n",
       "      <th>ViolationAddress</th>\n",
       "      <th>MailingAddress</th>\n",
       "      <th>incident_id</th>\n",
       "      <th>ViolationAddressCoordinates</th>\n",
       "      <th>ViolationAddressLatitude</th>\n",
       "      <th>ViolationAddressLongitude</th>\n",
       "    </tr>\n",
       "  </thead>\n",
       "  <tbody>\n",
       "    <tr>\n",
       "      <th>0</th>\n",
       "      <td>26288</td>\n",
       "      <td>05000001DAH</td>\n",
       "      <td>Department of Public Works</td>\n",
       "      <td>Group, LLC, Grand Holding</td>\n",
       "      <td>2566</td>\n",
       "      <td>GRAND BLVD</td>\n",
       "      <td>743</td>\n",
       "      <td>Beaubien, Ste. 201</td>\n",
       "      <td>Detroit</td>\n",
       "      <td>MI</td>\n",
       "      <td>48226</td>\n",
       "      <td>NaN</td>\n",
       "      <td>NaN</td>\n",
       "      <td>01/01/38440 12:00:00 AM</td>\n",
       "      <td>12:00:00</td>\n",
       "      <td>01/01/38474 12:00:00 AM</td>\n",
       "      <td>9:00AM</td>\n",
       "      <td>22-2-20</td>\n",
       "      <td>Burning solid waste  in open fires</td>\n",
       "      <td>Responsible By Determination</td>\n",
       "      <td>$1500.00</td>\n",
       "      <td>$20.00</td>\n",
       "      <td>$150.00</td>\n",
       "      <td>$10.00</td>\n",
       "      <td>$0.00</td>\n",
       "      <td>$1680.00</td>\n",
       "      <td>PAID IN FULL</td>\n",
       "      <td>0</td>\n",
       "      <td>0</td>\n",
       "      <td>2566 GRAND BLVD\\r\\nDetroit, MI\\r\\n(42.36318237...</td>\n",
       "      <td>743 Beaubien\\r\\nDetroit, MI 48226\\r\\n(42.33373...</td>\n",
       "      <td>7133</td>\n",
       "      <td>(42.36318237000006, -83.09167672099994)</td>\n",
       "      <td>42.363182</td>\n",
       "      <td>-83.091677</td>\n",
       "    </tr>\n",
       "  </tbody>\n",
       "</table>\n",
       "</div>"
      ],
      "text/plain": [
       "   TicketID TicketNumber                  AgencyName  \\\n",
       "0     26288  05000001DAH  Department of Public Works   \n",
       "\n",
       "                    ViolName  ViolationStreetNumber ViolationStreetName  \\\n",
       "0  Group, LLC, Grand Holding                   2566    GRAND BLVD         \n",
       "\n",
       "  MailingStreetNumber   MailingStreetName MailingCity MailingState  \\\n",
       "0                 743  Beaubien, Ste. 201     Detroit           MI   \n",
       "\n",
       "  MailingZipCode NonUsAddressCode Country           TicketIssuedDT  \\\n",
       "0          48226              NaN     NaN  01/01/38440 12:00:00 AM   \n",
       "\n",
       "  TicketIssuedTime                HearingDT CourtTime ViolationCode  \\\n",
       "0         12:00:00  01/01/38474 12:00:00 AM    9:00AM       22-2-20   \n",
       "\n",
       "                      ViolDescription                   Disposition   FineAmt  \\\n",
       "0  Burning solid waste  in open fires  Responsible By Determination  $1500.00   \n",
       "\n",
       "  AdminFee  LateFee StateFee CleanUpCost JudgmentAmt PaymentStatus  Void  \\\n",
       "0   $20.00  $150.00   $10.00       $0.00    $1680.00  PAID IN FULL     0   \n",
       "\n",
       "   ViolationCategory                                   ViolationAddress  \\\n",
       "0                  0  2566 GRAND BLVD\\r\\nDetroit, MI\\r\\n(42.36318237...   \n",
       "\n",
       "                                      MailingAddress  incident_id  \\\n",
       "0  743 Beaubien\\r\\nDetroit, MI 48226\\r\\n(42.33373...         7133   \n",
       "\n",
       "               ViolationAddressCoordinates  ViolationAddressLatitude  \\\n",
       "0  (42.36318237000006, -83.09167672099994)                 42.363182   \n",
       "\n",
       "   ViolationAddressLongitude  \n",
       "0                 -83.091677  "
      ]
     },
     "execution_count": 174,
     "metadata": {},
     "output_type": "execute_result"
    }
   ],
   "source": [
    "violations.head(1)"
   ]
  },
  {
   "cell_type": "code",
   "execution_count": 175,
   "metadata": {
    "collapsed": false
   },
   "outputs": [],
   "source": [
    "violations['Address'] = violations['ViolationAddress'].apply(lambda x: x.split('\\n')[0])"
   ]
  },
  {
   "cell_type": "code",
   "execution_count": 176,
   "metadata": {
    "collapsed": true
   },
   "outputs": [],
   "source": [
    "temp_violations = pd.DataFrame()"
   ]
  },
  {
   "cell_type": "code",
   "execution_count": 177,
   "metadata": {
    "collapsed": true
   },
   "outputs": [],
   "source": [
    "temp_violations['incident_id'] = violations['incident_id']\n",
    "temp_violations['lat'] = violations['ViolationAddressLatitude']\n",
    "temp_violations['lon'] = violations['ViolationAddressLongitude']\n",
    "temp_violations['addr'] = violations['Address']"
   ]
  },
  {
   "cell_type": "code",
   "execution_count": 178,
   "metadata": {
    "collapsed": false
   },
   "outputs": [
    {
     "data": {
      "text/plain": [
       "incident_id    0\n",
       "lat            0\n",
       "lon            0\n",
       "addr           0\n",
       "dtype: int64"
      ]
     },
     "execution_count": 178,
     "metadata": {},
     "output_type": "execute_result"
    }
   ],
   "source": [
    "temp_violations.isnull().sum()"
   ]
  },
  {
   "cell_type": "markdown",
   "metadata": {},
   "source": [
    "### Permits"
   ]
  },
  {
   "cell_type": "code",
   "execution_count": 179,
   "metadata": {
    "collapsed": true
   },
   "outputs": [],
   "source": [
    "permits = pd.read_csv('../data/permits.csv')"
   ]
  },
  {
   "cell_type": "code",
   "execution_count": 180,
   "metadata": {
    "collapsed": false,
    "scrolled": false
   },
   "outputs": [
    {
     "data": {
      "text/html": [
       "<div>\n",
       "<table border=\"1\" class=\"dataframe\">\n",
       "  <thead>\n",
       "    <tr style=\"text-align: right;\">\n",
       "      <th></th>\n",
       "      <th>PERMIT_NO</th>\n",
       "      <th>PERMIT_APPLIED</th>\n",
       "      <th>PERMIT_ISSUED</th>\n",
       "      <th>PERMIT_EXPIRES</th>\n",
       "      <th>SITE_ADDRESS</th>\n",
       "      <th>BETWEEN1</th>\n",
       "      <th>PARCEL_NO</th>\n",
       "      <th>LOT_NUMBER</th>\n",
       "      <th>SUBDIVISION</th>\n",
       "      <th>CASE_TYPE</th>\n",
       "      <th>CASE_DESCRIPTION</th>\n",
       "      <th>LEGAL_USE</th>\n",
       "      <th>ESTIMATED_COST</th>\n",
       "      <th>PARCEL_SIZE</th>\n",
       "      <th>PARCEL_CLUSTER_SECTOR</th>\n",
       "      <th>STORIES</th>\n",
       "      <th>PARCEL_FLOOR_AREA</th>\n",
       "      <th>PARCEL_GROUND_AREA</th>\n",
       "      <th>PRC_AKA_ADDRESS</th>\n",
       "      <th>BLD_PERMIT_TYPE</th>\n",
       "      <th>PERMIT_DESCRIPTION</th>\n",
       "      <th>BLD_PERMIT_DESC</th>\n",
       "      <th>BLD_TYPE_USE</th>\n",
       "      <th>RESIDENTIAL</th>\n",
       "      <th>DESCRIPTION</th>\n",
       "      <th>BLD_TYPE_CONST_COD</th>\n",
       "      <th>BLD_ZONING_DIST</th>\n",
       "      <th>BLD_USE_GROUP</th>\n",
       "      <th>BLD_BASEMENT</th>\n",
       "      <th>FEE_TYPE</th>\n",
       "      <th>CSM_CASENO</th>\n",
       "      <th>CSF_CREATED_BY</th>\n",
       "      <th>SEQ_NO</th>\n",
       "      <th>PCF_AMT_PD</th>\n",
       "      <th>PCF_AMT_DUE</th>\n",
       "      <th>PCF_UPDATED</th>\n",
       "      <th>OWNER_LAST_NAME</th>\n",
       "      <th>OWNER_FIRST_NAME</th>\n",
       "      <th>OWNER_ADDRESS1</th>\n",
       "      <th>OWNER_ADDRESS2</th>\n",
       "      <th>OWNER_CITY</th>\n",
       "      <th>OWNER_STATE</th>\n",
       "      <th>OWNER_ZIP</th>\n",
       "      <th>CONTRACTOR_LAST_NAME</th>\n",
       "      <th>CONTRACTOR_FIRST_NAME</th>\n",
       "      <th>CONTRACTOR_ADDRESS1</th>\n",
       "      <th>CONTRACTOR_ADDRESS2</th>\n",
       "      <th>CONTRACTOR_CITY</th>\n",
       "      <th>CONTRACTOR_STATE</th>\n",
       "      <th>CONTRACTOR_ZIP</th>\n",
       "      <th>CONDITION_FOR_APPROVAL</th>\n",
       "      <th>site_location</th>\n",
       "      <th>owner_location</th>\n",
       "      <th>contractor_location</th>\n",
       "      <th>geom</th>\n",
       "      <th>incident_id</th>\n",
       "    </tr>\n",
       "  </thead>\n",
       "  <tbody>\n",
       "    <tr>\n",
       "      <th>0</th>\n",
       "      <td>BLD2015-03955</td>\n",
       "      <td>8/28/15</td>\n",
       "      <td>8/28/15</td>\n",
       "      <td>NaN</td>\n",
       "      <td>4331  BARHAM</td>\n",
       "      <td>BETWEEN VOIGHT AND WAVENEY</td>\n",
       "      <td>21 65525-6</td>\n",
       "      <td>S15</td>\n",
       "      <td>NaN</td>\n",
       "      <td>BLD</td>\n",
       "      <td>Building Permit</td>\n",
       "      <td>I - FAM DWLG</td>\n",
       "      <td>NaN</td>\n",
       "      <td>5184</td>\n",
       "      <td>3</td>\n",
       "      <td>NaN</td>\n",
       "      <td>0</td>\n",
       "      <td>829</td>\n",
       "      <td>NaN</td>\n",
       "      <td>Dismantle</td>\n",
       "      <td>NaN</td>\n",
       "      <td>NaN</td>\n",
       "      <td>One Family Dwelling</td>\n",
       "      <td>RESIDENTIAL</td>\n",
       "      <td>NaN</td>\n",
       "      <td>5B</td>\n",
       "      <td>R2</td>\n",
       "      <td>R3</td>\n",
       "      <td>Y</td>\n",
       "      <td>WPMT</td>\n",
       "      <td>BLD2015-03955</td>\n",
       "      <td>RSA</td>\n",
       "      <td>1</td>\n",
       "      <td>NaN</td>\n",
       "      <td>$238.00</td>\n",
       "      <td>NaN</td>\n",
       "      <td>DETROIT LAND BANK-HHF2</td>\n",
       "      <td>NaN</td>\n",
       "      <td>65 CADILLAC</td>\n",
       "      <td>NaN</td>\n",
       "      <td>DETROIT</td>\n",
       "      <td>MI</td>\n",
       "      <td>NaN</td>\n",
       "      <td>DMC CONSULTANTS INC   2015 (W)</td>\n",
       "      <td>NaN</td>\n",
       "      <td>13500 FOLEY</td>\n",
       "      <td>NaN</td>\n",
       "      <td>DETROIT</td>\n",
       "      <td>NaN</td>\n",
       "      <td>48227</td>\n",
       "      <td>NaN</td>\n",
       "      <td>4331 BARHAM\\r\\nDetroit, MI\\r\\n(42.394106, -82....</td>\n",
       "      <td>65 CADILLAC\\r\\nDETROIT, MI\\r\\n(42.331741326000...</td>\n",
       "      <td>13500 FOLEY\\r\\nDETROIT, MI\\r\\n(42.379332, -83....</td>\n",
       "      <td>NaN</td>\n",
       "      <td>0</td>\n",
       "    </tr>\n",
       "  </tbody>\n",
       "</table>\n",
       "</div>"
      ],
      "text/plain": [
       "       PERMIT_NO PERMIT_APPLIED PERMIT_ISSUED PERMIT_EXPIRES  SITE_ADDRESS  \\\n",
       "0  BLD2015-03955        8/28/15       8/28/15            NaN  4331  BARHAM   \n",
       "\n",
       "                     BETWEEN1   PARCEL_NO LOT_NUMBER SUBDIVISION CASE_TYPE  \\\n",
       "0  BETWEEN VOIGHT AND WAVENEY  21 65525-6        S15         NaN       BLD   \n",
       "\n",
       "  CASE_DESCRIPTION     LEGAL_USE ESTIMATED_COST  PARCEL_SIZE  \\\n",
       "0  Building Permit  I - FAM DWLG            NaN         5184   \n",
       "\n",
       "   PARCEL_CLUSTER_SECTOR  STORIES  PARCEL_FLOOR_AREA  PARCEL_GROUND_AREA  \\\n",
       "0                      3      NaN                  0                 829   \n",
       "\n",
       "  PRC_AKA_ADDRESS BLD_PERMIT_TYPE PERMIT_DESCRIPTION BLD_PERMIT_DESC  \\\n",
       "0             NaN       Dismantle                NaN             NaN   \n",
       "\n",
       "          BLD_TYPE_USE  RESIDENTIAL DESCRIPTION BLD_TYPE_CONST_COD  \\\n",
       "0  One Family Dwelling  RESIDENTIAL         NaN                 5B   \n",
       "\n",
       "  BLD_ZONING_DIST BLD_USE_GROUP BLD_BASEMENT FEE_TYPE     CSM_CASENO  \\\n",
       "0              R2            R3            Y     WPMT  BLD2015-03955   \n",
       "\n",
       "  CSF_CREATED_BY  SEQ_NO PCF_AMT_PD PCF_AMT_DUE PCF_UPDATED  \\\n",
       "0            RSA       1        NaN     $238.00         NaN   \n",
       "\n",
       "          OWNER_LAST_NAME OWNER_FIRST_NAME OWNER_ADDRESS1 OWNER_ADDRESS2  \\\n",
       "0  DETROIT LAND BANK-HHF2              NaN    65 CADILLAC            NaN   \n",
       "\n",
       "  OWNER_CITY OWNER_STATE OWNER_ZIP            CONTRACTOR_LAST_NAME  \\\n",
       "0    DETROIT          MI       NaN  DMC CONSULTANTS INC   2015 (W)   \n",
       "\n",
       "  CONTRACTOR_FIRST_NAME CONTRACTOR_ADDRESS1 CONTRACTOR_ADDRESS2  \\\n",
       "0                   NaN         13500 FOLEY                 NaN   \n",
       "\n",
       "  CONTRACTOR_CITY CONTRACTOR_STATE  CONTRACTOR_ZIP CONDITION_FOR_APPROVAL  \\\n",
       "0         DETROIT              NaN           48227                    NaN   \n",
       "\n",
       "                                       site_location  \\\n",
       "0  4331 BARHAM\\r\\nDetroit, MI\\r\\n(42.394106, -82....   \n",
       "\n",
       "                                      owner_location  \\\n",
       "0  65 CADILLAC\\r\\nDETROIT, MI\\r\\n(42.331741326000...   \n",
       "\n",
       "                                 contractor_location geom  incident_id  \n",
       "0  13500 FOLEY\\r\\nDETROIT, MI\\r\\n(42.379332, -83....  NaN            0  "
      ]
     },
     "execution_count": 180,
     "metadata": {},
     "output_type": "execute_result"
    }
   ],
   "source": [
    "permits.head(1)"
   ]
  },
  {
   "cell_type": "code",
   "execution_count": 181,
   "metadata": {
    "collapsed": false
   },
   "outputs": [
    {
     "data": {
      "text/plain": [
       "803"
      ]
     },
     "execution_count": 181,
     "metadata": {},
     "output_type": "execute_result"
    }
   ],
   "source": [
    "permits['site_location'].isnull().sum()"
   ]
  },
  {
   "cell_type": "code",
   "execution_count": 182,
   "metadata": {
    "collapsed": false,
    "scrolled": true
   },
   "outputs": [
    {
     "data": {
      "text/plain": [
       "7133"
      ]
     },
     "execution_count": 182,
     "metadata": {},
     "output_type": "execute_result"
    }
   ],
   "source": [
    "len(permits)"
   ]
  },
  {
   "cell_type": "code",
   "execution_count": 183,
   "metadata": {
    "collapsed": true
   },
   "outputs": [],
   "source": [
    "permits.dropna(subset=['site_location'], inplace=True)"
   ]
  },
  {
   "cell_type": "code",
   "execution_count": 184,
   "metadata": {
    "collapsed": false
   },
   "outputs": [
    {
     "data": {
      "text/plain": [
       "6330"
      ]
     },
     "execution_count": 184,
     "metadata": {},
     "output_type": "execute_result"
    }
   ],
   "source": [
    "len(permits)"
   ]
  },
  {
   "cell_type": "code",
   "execution_count": 185,
   "metadata": {
    "collapsed": false,
    "scrolled": true
   },
   "outputs": [],
   "source": [
    "permits.loc[:,'Coordinates'] = permits['site_location'].map(lambda x: x.split('\\n')[-1])"
   ]
  },
  {
   "cell_type": "code",
   "execution_count": 186,
   "metadata": {
    "collapsed": true
   },
   "outputs": [],
   "source": [
    "permits.loc[:,'Coordinates'].replace('', np.nan, inplace=True)"
   ]
  },
  {
   "cell_type": "code",
   "execution_count": 187,
   "metadata": {
    "collapsed": false,
    "scrolled": true
   },
   "outputs": [],
   "source": [
    "permits.dropna(subset=['Coordinates'], inplace=True)"
   ]
  },
  {
   "cell_type": "code",
   "execution_count": 188,
   "metadata": {
    "collapsed": false,
    "scrolled": true
   },
   "outputs": [
    {
     "data": {
      "text/plain": [
       "6316"
      ]
     },
     "execution_count": 188,
     "metadata": {},
     "output_type": "execute_result"
    }
   ],
   "source": [
    "len(permits)"
   ]
  },
  {
   "cell_type": "markdown",
   "metadata": {},
   "source": [
    "**Permits have 803+14=817 NAs.**"
   ]
  },
  {
   "cell_type": "code",
   "execution_count": 189,
   "metadata": {
    "collapsed": false
   },
   "outputs": [],
   "source": [
    "permits['Latitude'] = permits['Coordinates'].map(lambda x: x.split(',')[0][1:].strip()).astype(np.float)\n",
    "permits['Longitude'] = permits['Coordinates'].map(lambda x: x.split(',')[1][:-1].strip()).astype(np.float)"
   ]
  },
  {
   "cell_type": "code",
   "execution_count": 190,
   "metadata": {
    "collapsed": false,
    "scrolled": true
   },
   "outputs": [
    {
     "data": {
      "text/plain": [
       "count    6316.000000\n",
       "mean       42.382589\n",
       "std         0.337459\n",
       "min        42.262621\n",
       "25%        42.342095\n",
       "50%        42.379821\n",
       "75%        42.414344\n",
       "max        69.000000\n",
       "Name: Latitude, dtype: float64"
      ]
     },
     "execution_count": 190,
     "metadata": {},
     "output_type": "execute_result"
    }
   ],
   "source": [
    "permits['Latitude'].describe()"
   ]
  },
  {
   "cell_type": "code",
   "execution_count": 191,
   "metadata": {
    "collapsed": false,
    "scrolled": true
   },
   "outputs": [
    {
     "data": {
      "text/plain": [
       "count    6316.000000\n",
       "mean      -83.064640\n",
       "std         1.890730\n",
       "min       -83.287653\n",
       "25%       -83.146405\n",
       "50%       -83.086728\n",
       "75%       -83.009208\n",
       "max        67.000000\n",
       "Name: Longitude, dtype: float64"
      ]
     },
     "execution_count": 191,
     "metadata": {},
     "output_type": "execute_result"
    }
   ],
   "source": [
    "permits['Longitude'].describe()"
   ]
  },
  {
   "cell_type": "code",
   "execution_count": 192,
   "metadata": {
    "collapsed": false,
    "scrolled": true
   },
   "outputs": [
    {
     "data": {
      "text/plain": [
       "<seaborn.axisgrid.FacetGrid at 0x4da422e8>"
      ]
     },
     "execution_count": 192,
     "metadata": {},
     "output_type": "execute_result"
    },
    {
     "data": {
      "image/png": "[encoded data removed]",
      "text/plain": [
       "<matplotlib.figure.Figure at 0x4da42978>"
      ]
     },
     "metadata": {},
     "output_type": "display_data"
    }
   ],
   "source": [
    "sns.lmplot('Latitude', 'Longitude', data=permits, fit_reg=False)"
   ]
  },
  {
   "cell_type": "markdown",
   "metadata": {},
   "source": [
    "**Clearly there's an outlier.**"
   ]
  },
  {
   "cell_type": "code",
   "execution_count": 193,
   "metadata": {
    "collapsed": true
   },
   "outputs": [],
   "source": [
    "permits = permits[permits['Latitude'] < 45]"
   ]
  },
  {
   "cell_type": "code",
   "execution_count": 194,
   "metadata": {
    "collapsed": false
   },
   "outputs": [
    {
     "data": {
      "text/plain": [
       "6315"
      ]
     },
     "execution_count": 194,
     "metadata": {},
     "output_type": "execute_result"
    }
   ],
   "source": [
    "len(permits)"
   ]
  },
  {
   "cell_type": "code",
   "execution_count": 195,
   "metadata": {
    "collapsed": false
   },
   "outputs": [],
   "source": [
    "temp_permits = pd.DataFrame()"
   ]
  },
  {
   "cell_type": "code",
   "execution_count": 196,
   "metadata": {
    "collapsed": true
   },
   "outputs": [],
   "source": [
    "temp_permits['incident_id'] = permits['incident_id']\n",
    "temp_permits['lat'] = permits['Latitude']\n",
    "temp_permits['lon'] = permits['Longitude']\n",
    "temp_permits['addr'] = permits['SITE_ADDRESS']"
   ]
  },
  {
   "cell_type": "code",
   "execution_count": 197,
   "metadata": {
    "collapsed": false
   },
   "outputs": [
    {
     "data": {
      "text/plain": [
       "incident_id    0\n",
       "lat            0\n",
       "lon            0\n",
       "addr           0\n",
       "dtype: int64"
      ]
     },
     "execution_count": 197,
     "metadata": {},
     "output_type": "execute_result"
    }
   ],
   "source": [
    "temp_permits.isnull().sum()"
   ]
  },
  {
   "cell_type": "markdown",
   "metadata": {},
   "source": [
    "### Crimes"
   ]
  },
  {
   "cell_type": "code",
   "execution_count": 198,
   "metadata": {
    "collapsed": false
   },
   "outputs": [],
   "source": [
    "crimes = pd.read_csv('../data/crimes.csv')"
   ]
  },
  {
   "cell_type": "code",
   "execution_count": 199,
   "metadata": {
    "collapsed": false,
    "scrolled": true
   },
   "outputs": [
    {
     "data": {
      "text/html": [
       "<div>\n",
       "<table border=\"1\" class=\"dataframe\">\n",
       "  <thead>\n",
       "    <tr style=\"text-align: right;\">\n",
       "      <th></th>\n",
       "      <th>ROWNUM</th>\n",
       "      <th>CASEID</th>\n",
       "      <th>INCINO</th>\n",
       "      <th>CATEGORY</th>\n",
       "      <th>OFFENSEDESCRIPTION</th>\n",
       "      <th>STATEOFFENSEFILECLASS</th>\n",
       "      <th>INCIDENTDATE</th>\n",
       "      <th>HOUR</th>\n",
       "      <th>SCA</th>\n",
       "      <th>PRECINCT</th>\n",
       "      <th>COUNCIL</th>\n",
       "      <th>NEIGHBORHOOD</th>\n",
       "      <th>CENSUSTRACT</th>\n",
       "      <th>ADDRESS</th>\n",
       "      <th>LON</th>\n",
       "      <th>LAT</th>\n",
       "      <th>LOCATION</th>\n",
       "      <th>incident_id</th>\n",
       "    </tr>\n",
       "  </thead>\n",
       "  <tbody>\n",
       "    <tr>\n",
       "      <th>0</th>\n",
       "      <td>53256</td>\n",
       "      <td>1953933</td>\n",
       "      <td>1506030028.1</td>\n",
       "      <td>ASSAULT</td>\n",
       "      <td>ASSAULT AND BATTERY/SIMPLE ASSAULT</td>\n",
       "      <td>13001</td>\n",
       "      <td>06/03/2015 12:00:00 AM</td>\n",
       "      <td>2</td>\n",
       "      <td>1007</td>\n",
       "      <td>10</td>\n",
       "      <td>City Council District 5</td>\n",
       "      <td>PETOSKEY-OTSEGO</td>\n",
       "      <td>5334</td>\n",
       "      <td>09100 PETOSKEY</td>\n",
       "      <td>-83.1221</td>\n",
       "      <td>42.3678</td>\n",
       "      <td>PETOSKEY\\r\\n09100\\r\\n(42.3676, -83.1219)</td>\n",
       "      <td>314937</td>\n",
       "    </tr>\n",
       "  </tbody>\n",
       "</table>\n",
       "</div>"
      ],
      "text/plain": [
       "   ROWNUM   CASEID        INCINO CATEGORY                  OFFENSEDESCRIPTION  \\\n",
       "0   53256  1953933  1506030028.1  ASSAULT  ASSAULT AND BATTERY/SIMPLE ASSAULT   \n",
       "\n",
       "   STATEOFFENSEFILECLASS            INCIDENTDATE  HOUR   SCA  PRECINCT  \\\n",
       "0                  13001  06/03/2015 12:00:00 AM     2  1007        10   \n",
       "\n",
       "                   COUNCIL     NEIGHBORHOOD  CENSUSTRACT         ADDRESS  \\\n",
       "0  City Council District 5  PETOSKEY-OTSEGO         5334  09100 PETOSKEY   \n",
       "\n",
       "       LON      LAT                                  LOCATION  incident_id  \n",
       "0 -83.1221  42.3678  PETOSKEY\\r\\n09100\\r\\n(42.3676, -83.1219)       314937  "
      ]
     },
     "execution_count": 199,
     "metadata": {},
     "output_type": "execute_result"
    }
   ],
   "source": [
    "crimes.head(1)"
   ]
  },
  {
   "cell_type": "code",
   "execution_count": 200,
   "metadata": {
    "collapsed": false
   },
   "outputs": [
    {
     "data": {
      "text/plain": [
       "0"
      ]
     },
     "execution_count": 200,
     "metadata": {},
     "output_type": "execute_result"
    }
   ],
   "source": [
    "crimes['LOCATION'].isnull().sum()"
   ]
  },
  {
   "cell_type": "code",
   "execution_count": 201,
   "metadata": {
    "collapsed": false
   },
   "outputs": [
    {
     "data": {
      "text/plain": [
       "119931"
      ]
     },
     "execution_count": 201,
     "metadata": {},
     "output_type": "execute_result"
    }
   ],
   "source": [
    "len(crimes)"
   ]
  },
  {
   "cell_type": "code",
   "execution_count": 202,
   "metadata": {
    "collapsed": true
   },
   "outputs": [],
   "source": [
    "crimes['Coordinates'] = crimes['LOCATION'].map(lambda x: x.split('\\n')[-1])"
   ]
  },
  {
   "cell_type": "code",
   "execution_count": 203,
   "metadata": {
    "collapsed": true
   },
   "outputs": [],
   "source": [
    "crimes['Coordinates'] = crimes['Coordinates'].replace('', np.nan)"
   ]
  },
  {
   "cell_type": "code",
   "execution_count": 204,
   "metadata": {
    "collapsed": false
   },
   "outputs": [],
   "source": [
    "crimes.dropna(subset=['Coordinates'], inplace=True)"
   ]
  },
  {
   "cell_type": "code",
   "execution_count": 205,
   "metadata": {
    "collapsed": false
   },
   "outputs": [
    {
     "data": {
      "text/plain": [
       "119901"
      ]
     },
     "execution_count": 205,
     "metadata": {},
     "output_type": "execute_result"
    }
   ],
   "source": [
    "len(crimes)"
   ]
  },
  {
   "cell_type": "markdown",
   "metadata": {},
   "source": [
    "**Crimes have 30 NAs.**"
   ]
  },
  {
   "cell_type": "code",
   "execution_count": 206,
   "metadata": {
    "collapsed": true
   },
   "outputs": [],
   "source": [
    "crimes['Latitude'] = crimes['Coordinates'].map(lambda x: x.split(',')[0][1:].strip()).astype(np.float)\n",
    "crimes['Longitude'] = crimes['Coordinates'].map(lambda x: x.split(',')[1][:-1].strip()).astype(np.float)"
   ]
  },
  {
   "cell_type": "code",
   "execution_count": 207,
   "metadata": {
    "collapsed": false
   },
   "outputs": [
    {
     "data": {
      "text/plain": [
       "count    119901.000000\n",
       "mean       2360.864859\n",
       "std       48093.890028\n",
       "min           8.999800\n",
       "25%          42.357400\n",
       "50%          42.392200\n",
       "75%          42.422800\n",
       "max      999999.000100\n",
       "Name: Latitude, dtype: float64"
      ]
     },
     "execution_count": 207,
     "metadata": {},
     "output_type": "execute_result"
    }
   ],
   "source": [
    "crimes['Latitude'].describe()"
   ]
  },
  {
   "cell_type": "code",
   "execution_count": 208,
   "metadata": {
    "collapsed": false
   },
   "outputs": [
    {
     "data": {
      "text/plain": [
       "count    119901.000000\n",
       "mean       2235.661611\n",
       "std       48099.925798\n",
       "min        -121.246744\n",
       "25%         -83.191200\n",
       "50%         -83.116500\n",
       "75%         -83.036400\n",
       "max      999999.000100\n",
       "Name: Longitude, dtype: float64"
      ]
     },
     "execution_count": 208,
     "metadata": {},
     "output_type": "execute_result"
    }
   ],
   "source": [
    "crimes['Longitude'].describe()"
   ]
  },
  {
   "cell_type": "markdown",
   "metadata": {},
   "source": [
    "**A lot of outliers.**"
   ]
  },
  {
   "cell_type": "code",
   "execution_count": 209,
   "metadata": {
    "collapsed": false
   },
   "outputs": [
    {
     "data": {
      "text/plain": [
       "<seaborn.axisgrid.FacetGrid at 0x4c0ad048>"
      ]
     },
     "execution_count": 209,
     "metadata": {},
     "output_type": "execute_result"
    },
    {
     "data": {
      "image/png": "[encoded data removed]",
      "text/plain": [
       "<matplotlib.figure.Figure at 0x4c0add30>"
      ]
     },
     "metadata": {},
     "output_type": "display_data"
    }
   ],
   "source": [
    "sns.lmplot('Latitude', 'Longitude', data=crimes, fit_reg=False)"
   ]
  },
  {
   "cell_type": "code",
   "execution_count": 210,
   "metadata": {
    "collapsed": false,
    "scrolled": true
   },
   "outputs": [
    {
     "data": {
      "text/plain": [
       "<seaborn.axisgrid.FacetGrid at 0x45c59518>"
      ]
     },
     "execution_count": 210,
     "metadata": {},
     "output_type": "execute_result"
    },
    {
     "data": {
      "image/png": "[encoded data removed]",
      "text/plain": [
       "<matplotlib.figure.Figure at 0x1a13d2e8>"
      ]
     },
     "metadata": {},
     "output_type": "display_data"
    }
   ],
   "source": [
    "crimes = crimes[crimes['Latitude'] < 100]\n",
    "sns.lmplot('Latitude', 'Longitude', data=crimes, fit_reg=False)"
   ]
  },
  {
   "cell_type": "code",
   "execution_count": 211,
   "metadata": {
    "collapsed": false,
    "scrolled": true
   },
   "outputs": [
    {
     "data": {
      "text/plain": [
       "<seaborn.axisgrid.FacetGrid at 0x17ce8048>"
      ]
     },
     "execution_count": 211,
     "metadata": {},
     "output_type": "execute_result"
    },
    {
     "data": {
      "image/png": "[encoded data removed]",
      "text/plain": [
       "<matplotlib.figure.Figure at 0x1f1e3860>"
      ]
     },
     "metadata": {},
     "output_type": "display_data"
    }
   ],
   "source": [
    "crimes = crimes[crimes['Latitude'] > 40]\n",
    "sns.lmplot('Latitude', 'Longitude', data=crimes, fit_reg=False)"
   ]
  },
  {
   "cell_type": "code",
   "execution_count": 212,
   "metadata": {
    "collapsed": false
   },
   "outputs": [
    {
     "data": {
      "text/plain": [
       "<seaborn.axisgrid.FacetGrid at 0x57692048>"
      ]
     },
     "execution_count": 212,
     "metadata": {},
     "output_type": "execute_result"
    },
    {
     "data": {
      "image/png": "[encoded data removed]",
      "text/plain": [
       "<matplotlib.figure.Figure at 0x57692438>"
      ]
     },
     "metadata": {},
     "output_type": "display_data"
    }
   ],
   "source": [
    "crimes = crimes[(crimes['Latitude'] > 42) & (crimes['Latitude'] < 43)]\n",
    "crimes = crimes[(crimes['Longitude'] > -84) & (crimes['Longitude'] < -82)]\n",
    "sns.lmplot('Longitude', 'Latitude', data=crimes, fit_reg=False, size=10)"
   ]
  },
  {
   "cell_type": "markdown",
   "metadata": {},
   "source": [
    "**We can compare this with the actual geographical area of Detroit.**"
   ]
  },
  {
   "cell_type": "code",
   "execution_count": 213,
   "metadata": {
    "collapsed": false,
    "scrolled": true
   },
   "outputs": [
    {
     "data": {
      "image/png": "[encoded data removed]",
      "text/plain": [
       "<IPython.core.display.Image object>"
      ]
     },
     "execution_count": 213,
     "metadata": {},
     "output_type": "execute_result"
    }
   ],
   "source": [
    "Image('detroit_area.png')"
   ]
  },
  {
   "cell_type": "markdown",
   "metadata": {},
   "source": [
    "**Obviously there are still some points outside of Detroit. A compromised quick solution is to treat this area as a rectangle.**"
   ]
  },
  {
   "cell_type": "code",
   "execution_count": 214,
   "metadata": {
    "collapsed": false
   },
   "outputs": [
    {
     "data": {
      "text/plain": [
       "<seaborn.axisgrid.FacetGrid at 0x5769e240>"
      ]
     },
     "execution_count": 214,
     "metadata": {},
     "output_type": "execute_result"
    },
    {
     "data": {
      "image/png": "[encoded data removed]",
      "text/plain": [
       "<matplotlib.figure.Figure at 0x3bec11d0>"
      ]
     },
     "metadata": {},
     "output_type": "display_data"
    }
   ],
   "source": [
    "crimes = crimes[(crimes['Latitude'] >= 42.26) & (crimes['Latitude'] <= 42.45)]\n",
    "crimes = crimes[(crimes['Longitude'] >= -83.29) & (crimes['Longitude'] <= -82.91)]\n",
    "sns.lmplot('Longitude', 'Latitude', data=crimes, fit_reg=False)"
   ]
  },
  {
   "cell_type": "code",
   "execution_count": 215,
   "metadata": {
    "collapsed": false
   },
   "outputs": [
    {
     "data": {
      "text/plain": [
       "119302"
      ]
     },
     "execution_count": 215,
     "metadata": {},
     "output_type": "execute_result"
    }
   ],
   "source": [
    "len(crimes)"
   ]
  },
  {
   "cell_type": "markdown",
   "metadata": {},
   "source": [
    "**599 outliers.**"
   ]
  },
  {
   "cell_type": "code",
   "execution_count": 216,
   "metadata": {
    "collapsed": true
   },
   "outputs": [],
   "source": [
    "temp_crimes = pd.DataFrame()"
   ]
  },
  {
   "cell_type": "code",
   "execution_count": 217,
   "metadata": {
    "collapsed": true
   },
   "outputs": [],
   "source": [
    "temp_crimes['incident_id'] = crimes['incident_id']\n",
    "temp_crimes['lat'] = crimes['Latitude']\n",
    "temp_crimes['lon'] = crimes['Longitude']\n",
    "temp_crimes['addr'] = crimes['ADDRESS']"
   ]
  },
  {
   "cell_type": "markdown",
   "metadata": {},
   "source": [
    "### 311 Calls"
   ]
  },
  {
   "cell_type": "code",
   "execution_count": 218,
   "metadata": {
    "collapsed": true
   },
   "outputs": [],
   "source": [
    "calls = pd.read_csv('../data/calls.csv')"
   ]
  },
  {
   "cell_type": "code",
   "execution_count": 219,
   "metadata": {
    "collapsed": false,
    "scrolled": false
   },
   "outputs": [
    {
     "data": {
      "text/html": [
       "<div>\n",
       "<table border=\"1\" class=\"dataframe\">\n",
       "  <thead>\n",
       "    <tr style=\"text-align: right;\">\n",
       "      <th></th>\n",
       "      <th>ticket_id</th>\n",
       "      <th>city</th>\n",
       "      <th>issue_type</th>\n",
       "      <th>ticket_status</th>\n",
       "      <th>issue_description</th>\n",
       "      <th>rating</th>\n",
       "      <th>ticket_closed_date_time</th>\n",
       "      <th>acknowledged_at</th>\n",
       "      <th>ticket_created_date_time</th>\n",
       "      <th>ticket_last_updated_date_time</th>\n",
       "      <th>address</th>\n",
       "      <th>lat</th>\n",
       "      <th>lng</th>\n",
       "      <th>location</th>\n",
       "      <th>image</th>\n",
       "      <th>incident_id</th>\n",
       "    </tr>\n",
       "  </thead>\n",
       "  <tbody>\n",
       "    <tr>\n",
       "      <th>0</th>\n",
       "      <td>1516722</td>\n",
       "      <td>City of Detroit</td>\n",
       "      <td>Clogged Drain</td>\n",
       "      <td>Acknowledged</td>\n",
       "      <td>Two drains one on each side of street, street ...</td>\n",
       "      <td>3</td>\n",
       "      <td>NaN</td>\n",
       "      <td>03/06/2015 10:03:38 PM</td>\n",
       "      <td>03/06/2015 09:57:52 PM</td>\n",
       "      <td>04/12/2015 01:01:10 AM</td>\n",
       "      <td>13120-13130 Ilene Street Detroit, MI 48238, USA</td>\n",
       "      <td>42.383998</td>\n",
       "      <td>-83.161039</td>\n",
       "      <td>(42.3839977668, -83.1610385642)</td>\n",
       "      <td>NaN</td>\n",
       "      <td>434868</td>\n",
       "    </tr>\n",
       "  </tbody>\n",
       "</table>\n",
       "</div>"
      ],
      "text/plain": [
       "   ticket_id             city     issue_type ticket_status  \\\n",
       "0    1516722  City of Detroit  Clogged Drain  Acknowledged   \n",
       "\n",
       "                                   issue_description rating  \\\n",
       "0  Two drains one on each side of street, street ...      3   \n",
       "\n",
       "  ticket_closed_date_time         acknowledged_at ticket_created_date_time  \\\n",
       "0                     NaN  03/06/2015 10:03:38 PM   03/06/2015 09:57:52 PM   \n",
       "\n",
       "  ticket_last_updated_date_time  \\\n",
       "0        04/12/2015 01:01:10 AM   \n",
       "\n",
       "                                           address        lat        lng  \\\n",
       "0  13120-13130 Ilene Street Detroit, MI 48238, USA  42.383998 -83.161039   \n",
       "\n",
       "                          location image  incident_id  \n",
       "0  (42.3839977668, -83.1610385642)   NaN       434868  "
      ]
     },
     "execution_count": 219,
     "metadata": {},
     "output_type": "execute_result"
    }
   ],
   "source": [
    "calls.head(1)"
   ]
  },
  {
   "cell_type": "code",
   "execution_count": 220,
   "metadata": {
    "collapsed": false
   },
   "outputs": [
    {
     "data": {
      "text/plain": [
       "0    13120-13130 Ilene Street Detroit, MI 48238, USA\n",
       "1              1485 E. Outer Drive Detroit, Michigan\n",
       "2                   15460 Eastburn Detroit, Michigan\n",
       "3                 17541 Mendota St Detroit, Michigan\n",
       "4                           Griggs Detroit, Michigan\n",
       "5                   14902 Kentucky Detroit, Michigan\n",
       "6                    20089 Vaughan Detroit, Michigan\n",
       "7                 18663 Fenelon St Detroit, Michigan\n",
       "8                   16170 Ilene St Detroit, Michigan\n",
       "9                19530 Roselawn St Detroit, Michigan\n",
       "Name: address, dtype: object"
      ]
     },
     "execution_count": 220,
     "metadata": {},
     "output_type": "execute_result"
    }
   ],
   "source": [
    "calls['address'][:10]"
   ]
  },
  {
   "cell_type": "code",
   "execution_count": 221,
   "metadata": {
    "collapsed": false
   },
   "outputs": [
    {
     "data": {
      "text/plain": [
       "19681"
      ]
     },
     "execution_count": 221,
     "metadata": {},
     "output_type": "execute_result"
    }
   ],
   "source": [
    "len(calls)"
   ]
  },
  {
   "cell_type": "code",
   "execution_count": 225,
   "metadata": {
    "collapsed": true
   },
   "outputs": [],
   "source": [
    "calls['address'] = calls['address'].replace('', np.nan)"
   ]
  },
  {
   "cell_type": "code",
   "execution_count": 226,
   "metadata": {
    "collapsed": true
   },
   "outputs": [],
   "source": [
    "calls.dropna(subset=['address'], inplace=True)"
   ]
  },
  {
   "cell_type": "code",
   "execution_count": 227,
   "metadata": {
    "collapsed": true
   },
   "outputs": [],
   "source": [
    "def truncate_addr(x):\n",
    "    p = x.lower().find('detroit')\n",
    "    if p != -1:\n",
    "        x = x[:p]\n",
    "    p = x.lower().find('michigan')\n",
    "    if p != -1:\n",
    "        x = x[:p]\n",
    "    return x.rstrip()"
   ]
  },
  {
   "cell_type": "code",
   "execution_count": 228,
   "metadata": {
    "collapsed": false
   },
   "outputs": [],
   "source": [
    "calls['address_trucated'] = calls['address'].map(truncate_addr)"
   ]
  },
  {
   "cell_type": "code",
   "execution_count": 229,
   "metadata": {
    "collapsed": false
   },
   "outputs": [
    {
     "data": {
      "text/plain": [
       "count    19679.000000\n",
       "mean        42.386308\n",
       "std          0.038309\n",
       "min         41.879952\n",
       "25%         42.355576\n",
       "50%         42.387895\n",
       "75%         42.419724\n",
       "max         42.449849\n",
       "Name: lat, dtype: float64"
      ]
     },
     "execution_count": 229,
     "metadata": {},
     "output_type": "execute_result"
    }
   ],
   "source": [
    "calls['lat'].describe()"
   ]
  },
  {
   "cell_type": "code",
   "execution_count": 230,
   "metadata": {
    "collapsed": false
   },
   "outputs": [
    {
     "data": {
      "text/plain": [
       "count    19679.000000\n",
       "mean       -83.109306\n",
       "std          0.100189\n",
       "min        -86.550059\n",
       "25%        -83.191723\n",
       "50%        -83.112390\n",
       "75%        -83.037698\n",
       "max        -82.911434\n",
       "Name: lng, dtype: float64"
      ]
     },
     "execution_count": 230,
     "metadata": {},
     "output_type": "execute_result"
    }
   ],
   "source": [
    "calls['lng'].describe()"
   ]
  },
  {
   "cell_type": "code",
   "execution_count": 231,
   "metadata": {
    "collapsed": false,
    "scrolled": false
   },
   "outputs": [
    {
     "data": {
      "text/plain": [
       "<seaborn.axisgrid.FacetGrid at 0x52a83320>"
      ]
     },
     "execution_count": 231,
     "metadata": {},
     "output_type": "execute_result"
    },
    {
     "data": {
      "image/png": "[encoded data removed]",
      "text/plain": [
       "<matplotlib.figure.Figure at 0x20b75710>"
      ]
     },
     "metadata": {},
     "output_type": "display_data"
    }
   ],
   "source": [
    "sns.lmplot('lng', 'lat', data=calls, fit_reg=False)"
   ]
  },
  {
   "cell_type": "markdown",
   "metadata": {},
   "source": [
    "**1 outlier.**"
   ]
  },
  {
   "cell_type": "code",
   "execution_count": 232,
   "metadata": {
    "collapsed": false
   },
   "outputs": [
    {
     "data": {
      "text/plain": [
       "<seaborn.axisgrid.FacetGrid at 0x46dce6a0>"
      ]
     },
     "execution_count": 232,
     "metadata": {},
     "output_type": "execute_result"
    },
    {
     "data": {
      "image/png": "[encoded data removed]",
      "text/plain": [
       "<matplotlib.figure.Figure at 0x46dce358>"
      ]
     },
     "metadata": {},
     "output_type": "display_data"
    }
   ],
   "source": [
    "calls = calls[calls['lat'] > 42.2]\n",
    "sns.lmplot('lng', 'lat', data=calls, fit_reg=False)"
   ]
  },
  {
   "cell_type": "code",
   "execution_count": 233,
   "metadata": {
    "collapsed": true
   },
   "outputs": [],
   "source": [
    "temp_calls = pd.DataFrame()"
   ]
  },
  {
   "cell_type": "code",
   "execution_count": 234,
   "metadata": {
    "collapsed": false
   },
   "outputs": [],
   "source": [
    "temp_calls['incident_id'] = calls['incident_id']\n",
    "temp_calls['lat'] = calls['lat']\n",
    "temp_calls['lon'] = calls['lng']\n",
    "temp_calls['addr'] = calls['address_trucated']"
   ]
  },
  {
   "cell_type": "markdown",
   "metadata": {},
   "source": [
    "### Join"
   ]
  },
  {
   "cell_type": "code",
   "execution_count": 235,
   "metadata": {
    "collapsed": false
   },
   "outputs": [],
   "source": [
    "raw_incidents = pd.concat((temp_permits, temp_violations), axis=0, ignore_index=True)\n",
    "raw_incidents = pd.concat((raw_incidents, temp_crimes), axis=0, ignore_index=True)\n",
    "raw_incidents = pd.concat((raw_incidents, temp_calls), axis=0, ignore_index=True)"
   ]
  },
  {
   "cell_type": "markdown",
   "metadata": {},
   "source": [
    "**incident_id here uniquely identifies an incident!!!**"
   ]
  },
  {
   "cell_type": "code",
   "execution_count": 237,
   "metadata": {
    "collapsed": false
   },
   "outputs": [
    {
     "data": {
      "text/plain": [
       "count    453099.000000\n",
       "mean     227476.024644\n",
       "std      130950.564844\n",
       "min           0.000000\n",
       "25%      114092.500000\n",
       "50%      227367.000000\n",
       "75%      340776.500000\n",
       "max      454547.000000\n",
       "Name: incident_id, dtype: float64"
      ]
     },
     "execution_count": 237,
     "metadata": {},
     "output_type": "execute_result"
    }
   ],
   "source": [
    "raw_incidents['incident_id'].describe()"
   ]
  },
  {
   "cell_type": "code",
   "execution_count": 238,
   "metadata": {
    "collapsed": false
   },
   "outputs": [
    {
     "data": {
      "text/html": [
       "<div>\n",
       "<table border=\"1\" class=\"dataframe\">\n",
       "  <thead>\n",
       "    <tr style=\"text-align: right;\">\n",
       "      <th></th>\n",
       "      <th>incident_id</th>\n",
       "      <th>lat</th>\n",
       "      <th>lon</th>\n",
       "      <th>addr</th>\n",
       "    </tr>\n",
       "  </thead>\n",
       "  <tbody>\n",
       "    <tr>\n",
       "      <th>0</th>\n",
       "      <td>0</td>\n",
       "      <td>42.394106</td>\n",
       "      <td>-82.947400</td>\n",
       "      <td>4331  BARHAM</td>\n",
       "    </tr>\n",
       "    <tr>\n",
       "      <th>1</th>\n",
       "      <td>1</td>\n",
       "      <td>42.395122</td>\n",
       "      <td>-83.005077</td>\n",
       "      <td>9707  BESSEMORE</td>\n",
       "    </tr>\n",
       "    <tr>\n",
       "      <th>2</th>\n",
       "      <td>2</td>\n",
       "      <td>42.403220</td>\n",
       "      <td>-82.946476</td>\n",
       "      <td>5315  BERKSHIRE</td>\n",
       "    </tr>\n",
       "    <tr>\n",
       "      <th>3</th>\n",
       "      <td>3</td>\n",
       "      <td>42.446640</td>\n",
       "      <td>-82.947207</td>\n",
       "      <td>16670  BRINGARD DR</td>\n",
       "    </tr>\n",
       "    <tr>\n",
       "      <th>4</th>\n",
       "      <td>4</td>\n",
       "      <td>42.276956</td>\n",
       "      <td>-83.147536</td>\n",
       "      <td>1454  BEATRICE</td>\n",
       "    </tr>\n",
       "    <tr>\n",
       "      <th>5</th>\n",
       "      <td>5</td>\n",
       "      <td>42.400373</td>\n",
       "      <td>-82.947050</td>\n",
       "      <td>5035  BALFOUR</td>\n",
       "    </tr>\n",
       "    <tr>\n",
       "      <th>6</th>\n",
       "      <td>6</td>\n",
       "      <td>42.402349</td>\n",
       "      <td>-82.948348</td>\n",
       "      <td>5297  BALFOUR</td>\n",
       "    </tr>\n",
       "    <tr>\n",
       "      <th>7</th>\n",
       "      <td>7</td>\n",
       "      <td>42.402497</td>\n",
       "      <td>-82.948445</td>\n",
       "      <td>5315  BALFOUR</td>\n",
       "    </tr>\n",
       "    <tr>\n",
       "      <th>8</th>\n",
       "      <td>8</td>\n",
       "      <td>42.402275</td>\n",
       "      <td>-82.948299</td>\n",
       "      <td>5280  BALFOUR</td>\n",
       "    </tr>\n",
       "    <tr>\n",
       "      <th>9</th>\n",
       "      <td>9</td>\n",
       "      <td>42.366963</td>\n",
       "      <td>-82.935172</td>\n",
       "      <td>427  ASHLAND</td>\n",
       "    </tr>\n",
       "  </tbody>\n",
       "</table>\n",
       "</div>"
      ],
      "text/plain": [
       "   incident_id        lat        lon                addr\n",
       "0            0  42.394106 -82.947400        4331  BARHAM\n",
       "1            1  42.395122 -83.005077     9707  BESSEMORE\n",
       "2            2  42.403220 -82.946476     5315  BERKSHIRE\n",
       "3            3  42.446640 -82.947207  16670  BRINGARD DR\n",
       "4            4  42.276956 -83.147536      1454  BEATRICE\n",
       "5            5  42.400373 -82.947050       5035  BALFOUR\n",
       "6            6  42.402349 -82.948348       5297  BALFOUR\n",
       "7            7  42.402497 -82.948445       5315  BALFOUR\n",
       "8            8  42.402275 -82.948299       5280  BALFOUR\n",
       "9            9  42.366963 -82.935172        427  ASHLAND"
      ]
     },
     "execution_count": 238,
     "metadata": {},
     "output_type": "execute_result"
    }
   ],
   "source": [
    "raw_incidents.head(10)"
   ]
  },
  {
   "cell_type": "code",
   "execution_count": 239,
   "metadata": {
    "collapsed": false
   },
   "outputs": [],
   "source": [
    "raw_incidents.sort_values(by=['lat', 'lon'], inplace=True)"
   ]
  },
  {
   "cell_type": "code",
   "execution_count": 240,
   "metadata": {
    "collapsed": true
   },
   "outputs": [],
   "source": [
    "raw_incidents['addr'].replace('', np.nan, inplace=True)\n",
    "raw_incidents.dropna(subset=['addr'], inplace=True)"
   ]
  },
  {
   "cell_type": "code",
   "execution_count": 241,
   "metadata": {
    "collapsed": false,
    "scrolled": false
   },
   "outputs": [
    {
     "data": {
      "text/html": [
       "<div>\n",
       "<table border=\"1\" class=\"dataframe\">\n",
       "  <thead>\n",
       "    <tr style=\"text-align: right;\">\n",
       "      <th></th>\n",
       "      <th>incident_id</th>\n",
       "      <th>lat</th>\n",
       "      <th>lon</th>\n",
       "      <th>addr</th>\n",
       "    </tr>\n",
       "  </thead>\n",
       "  <tbody>\n",
       "    <tr>\n",
       "      <th>52635</th>\n",
       "      <td>53453</td>\n",
       "      <td>42.255342</td>\n",
       "      <td>-83.160990</td>\n",
       "      <td>26585 OUTER DRIVE\\r</td>\n",
       "    </tr>\n",
       "    <tr>\n",
       "      <th>444578</th>\n",
       "      <td>446027</td>\n",
       "      <td>42.255736</td>\n",
       "      <td>-83.160580</td>\n",
       "      <td>26585 West Outer Drive</td>\n",
       "    </tr>\n",
       "    <tr>\n",
       "      <th>445191</th>\n",
       "      <td>446640</td>\n",
       "      <td>42.256102</td>\n",
       "      <td>-83.160697</td>\n",
       "      <td>3808 S Bassett St</td>\n",
       "    </tr>\n",
       "  </tbody>\n",
       "</table>\n",
       "</div>"
      ],
      "text/plain": [
       "        incident_id        lat        lon                    addr\n",
       "52635         53453  42.255342 -83.160990     26585 OUTER DRIVE\\r\n",
       "444578       446027  42.255736 -83.160580  26585 West Outer Drive\n",
       "445191       446640  42.256102 -83.160697       3808 S Bassett St"
      ]
     },
     "execution_count": 241,
     "metadata": {},
     "output_type": "execute_result"
    }
   ],
   "source": [
    "raw_incidents.head(3)"
   ]
  },
  {
   "cell_type": "code",
   "execution_count": 242,
   "metadata": {
    "collapsed": true
   },
   "outputs": [],
   "source": [
    "raw_incidents.to_csv('../data/raw_incidents.csv', index=False)"
   ]
  },
  {
   "cell_type": "markdown",
   "metadata": {},
   "source": [
    "## Clean up the address field"
   ]
  },
  {
   "cell_type": "code",
   "execution_count": 243,
   "metadata": {
    "collapsed": true
   },
   "outputs": [],
   "source": [
    "incidents = pd.read_csv('../data/raw_incidents.csv')"
   ]
  },
  {
   "cell_type": "code",
   "execution_count": 244,
   "metadata": {
    "collapsed": false
   },
   "outputs": [
    {
     "data": {
      "text/html": [
       "<div>\n",
       "<table border=\"1\" class=\"dataframe\">\n",
       "  <thead>\n",
       "    <tr style=\"text-align: right;\">\n",
       "      <th></th>\n",
       "      <th>incident_id</th>\n",
       "      <th>lat</th>\n",
       "      <th>lon</th>\n",
       "      <th>addr</th>\n",
       "    </tr>\n",
       "  </thead>\n",
       "  <tbody>\n",
       "    <tr>\n",
       "      <th>0</th>\n",
       "      <td>53453</td>\n",
       "      <td>42.255342</td>\n",
       "      <td>-83.160990</td>\n",
       "      <td>26585 OUTER DRIVE</td>\n",
       "    </tr>\n",
       "    <tr>\n",
       "      <th>1</th>\n",
       "      <td>446027</td>\n",
       "      <td>42.255736</td>\n",
       "      <td>-83.160580</td>\n",
       "      <td>26585 West Outer Drive</td>\n",
       "    </tr>\n",
       "    <tr>\n",
       "      <th>2</th>\n",
       "      <td>446640</td>\n",
       "      <td>42.256102</td>\n",
       "      <td>-83.160697</td>\n",
       "      <td>3808 S Bassett St</td>\n",
       "    </tr>\n",
       "  </tbody>\n",
       "</table>\n",
       "</div>"
      ],
      "text/plain": [
       "   incident_id        lat        lon                    addr\n",
       "0        53453  42.255342 -83.160990       26585 OUTER DRIVE\n",
       "1       446027  42.255736 -83.160580  26585 West Outer Drive\n",
       "2       446640  42.256102 -83.160697       3808 S Bassett St"
      ]
     },
     "execution_count": 244,
     "metadata": {},
     "output_type": "execute_result"
    }
   ],
   "source": [
    "incidents.head(3)"
   ]
  },
  {
   "cell_type": "code",
   "execution_count": 245,
   "metadata": {
    "collapsed": false
   },
   "outputs": [
    {
     "data": {
      "text/plain": [
       "453052"
      ]
     },
     "execution_count": 245,
     "metadata": {},
     "output_type": "execute_result"
    }
   ],
   "source": [
    "len(incidents)"
   ]
  },
  {
   "cell_type": "code",
   "execution_count": 246,
   "metadata": {
    "collapsed": true
   },
   "outputs": [],
   "source": [
    "import string\n",
    "import re\n",
    "\n",
    "def clean_addr(s):\n",
    "    s = s.lower()\n",
    "    s = s.translate(string.maketrans('', ''), string.punctuation)\n",
    "    s = re.sub(r'\\bstreet\\b', r'st', s)\n",
    "    s = re.sub(r'\\broad\\b', r'rd', s)\n",
    "    s = re.sub(r'\\bavenue\\b', r'av', s)\n",
    "    s = re.sub(r'\\bdrive\\b', r'dr', s)\n",
    "    s = re.sub(r'\\bboulevard\\b', r'bd', s)\n",
    "    s = re.sub(r'\\bblvd\\b', r'bd', s)\n",
    "    s = re.sub(r'\\bnorth\\b', r'n', s)\n",
    "    s = re.sub(r'\\bsouth\\b', r's', s)\n",
    "    s = re.sub(r'\\bwest\\b', r'w', s)\n",
    "    s = re.sub(r'\\beast\\b', r'e', s)\n",
    "    s = re.sub(r' +', r' ', s)\n",
    "    p = s.find('detroit mi')\n",
    "    if p != -1:\n",
    "        s = s[:p]\n",
    "    p = s.find('detroitmi')\n",
    "    if p != -1:\n",
    "        s = s[:p]        \n",
    "    s = s.strip()\n",
    "    return s"
   ]
  },
  {
   "cell_type": "code",
   "execution_count": 247,
   "metadata": {
    "collapsed": true
   },
   "outputs": [],
   "source": [
    "incidents['clean_addr'] = incidents['addr'].map(clean_addr)"
   ]
  },
  {
   "cell_type": "code",
   "execution_count": 248,
   "metadata": {
    "collapsed": false,
    "scrolled": true
   },
   "outputs": [
    {
     "data": {
      "text/html": [
       "<div>\n",
       "<table border=\"1\" class=\"dataframe\">\n",
       "  <thead>\n",
       "    <tr style=\"text-align: right;\">\n",
       "      <th></th>\n",
       "      <th>incident_id</th>\n",
       "      <th>lat</th>\n",
       "      <th>lon</th>\n",
       "      <th>addr</th>\n",
       "      <th>clean_addr</th>\n",
       "    </tr>\n",
       "  </thead>\n",
       "  <tbody>\n",
       "    <tr>\n",
       "      <th>0</th>\n",
       "      <td>53453</td>\n",
       "      <td>42.255342</td>\n",
       "      <td>-83.160990</td>\n",
       "      <td>26585 OUTER DRIVE</td>\n",
       "      <td>26585 outer dr</td>\n",
       "    </tr>\n",
       "    <tr>\n",
       "      <th>1</th>\n",
       "      <td>446027</td>\n",
       "      <td>42.255736</td>\n",
       "      <td>-83.160580</td>\n",
       "      <td>26585 West Outer Drive</td>\n",
       "      <td>26585 w outer dr</td>\n",
       "    </tr>\n",
       "    <tr>\n",
       "      <th>2</th>\n",
       "      <td>446640</td>\n",
       "      <td>42.256102</td>\n",
       "      <td>-83.160697</td>\n",
       "      <td>3808 S Bassett St</td>\n",
       "      <td>3808 s bassett st</td>\n",
       "    </tr>\n",
       "    <tr>\n",
       "      <th>3</th>\n",
       "      <td>446574</td>\n",
       "      <td>42.256356</td>\n",
       "      <td>-83.160224</td>\n",
       "      <td>3795 S. Bassett</td>\n",
       "      <td>3795 s bassett</td>\n",
       "    </tr>\n",
       "    <tr>\n",
       "      <th>4</th>\n",
       "      <td>437572</td>\n",
       "      <td>42.256990</td>\n",
       "      <td>-83.159955</td>\n",
       "      <td>3744 South Bassett</td>\n",
       "      <td>3744 s bassett</td>\n",
       "    </tr>\n",
       "    <tr>\n",
       "      <th>5</th>\n",
       "      <td>445733</td>\n",
       "      <td>42.256990</td>\n",
       "      <td>-83.159955</td>\n",
       "      <td>3744 S Bassett</td>\n",
       "      <td>3744 s bassett</td>\n",
       "    </tr>\n",
       "    <tr>\n",
       "      <th>6</th>\n",
       "      <td>98489</td>\n",
       "      <td>42.257824</td>\n",
       "      <td>-83.163374</td>\n",
       "      <td>26367 OUTER DRIVE</td>\n",
       "      <td>26367 outer dr</td>\n",
       "    </tr>\n",
       "    <tr>\n",
       "      <th>7</th>\n",
       "      <td>452621</td>\n",
       "      <td>42.258149</td>\n",
       "      <td>-83.161980</td>\n",
       "      <td>3738 Deacon</td>\n",
       "      <td>3738 deacon</td>\n",
       "    </tr>\n",
       "    <tr>\n",
       "      <th>8</th>\n",
       "      <td>263309</td>\n",
       "      <td>42.258214</td>\n",
       "      <td>-83.163964</td>\n",
       "      <td>26331 OUTER DRIVE</td>\n",
       "      <td>26331 outer dr</td>\n",
       "    </tr>\n",
       "    <tr>\n",
       "      <th>9</th>\n",
       "      <td>263310</td>\n",
       "      <td>42.258214</td>\n",
       "      <td>-83.163964</td>\n",
       "      <td>26331 OUTER DRIVE</td>\n",
       "      <td>26331 outer dr</td>\n",
       "    </tr>\n",
       "  </tbody>\n",
       "</table>\n",
       "</div>"
      ],
      "text/plain": [
       "   incident_id        lat        lon                    addr  \\\n",
       "0        53453  42.255342 -83.160990       26585 OUTER DRIVE   \n",
       "1       446027  42.255736 -83.160580  26585 West Outer Drive   \n",
       "2       446640  42.256102 -83.160697       3808 S Bassett St   \n",
       "3       446574  42.256356 -83.160224         3795 S. Bassett   \n",
       "4       437572  42.256990 -83.159955      3744 South Bassett   \n",
       "5       445733  42.256990 -83.159955          3744 S Bassett   \n",
       "6        98489  42.257824 -83.163374       26367 OUTER DRIVE   \n",
       "7       452621  42.258149 -83.161980             3738 Deacon   \n",
       "8       263309  42.258214 -83.163964       26331 OUTER DRIVE   \n",
       "9       263310  42.258214 -83.163964       26331 OUTER DRIVE   \n",
       "\n",
       "          clean_addr  \n",
       "0     26585 outer dr  \n",
       "1   26585 w outer dr  \n",
       "2  3808 s bassett st  \n",
       "3     3795 s bassett  \n",
       "4     3744 s bassett  \n",
       "5     3744 s bassett  \n",
       "6     26367 outer dr  \n",
       "7        3738 deacon  \n",
       "8     26331 outer dr  \n",
       "9     26331 outer dr  "
      ]
     },
     "execution_count": 248,
     "metadata": {},
     "output_type": "execute_result"
    }
   ],
   "source": [
    "incidents.head(10)"
   ]
  },
  {
   "cell_type": "markdown",
   "metadata": {},
   "source": [
    "## Clustering with exact address matching"
   ]
  },
  {
   "cell_type": "code",
   "execution_count": 249,
   "metadata": {
    "collapsed": true
   },
   "outputs": [],
   "source": [
    "def get_clusters(df):\n",
    "    count = 0\n",
    "    table = {}\n",
    "    cluster = []\n",
    "    for addr in df.loc[:,'clean_addr']:\n",
    "        if table.has_key(addr):\n",
    "            cluster.append(table[addr])\n",
    "        else:\n",
    "            count += 1\n",
    "            table[addr] = count\n",
    "            cluster.append(count)\n",
    "    df['cluster'] = np.array(cluster)\n",
    "    return df, count"
   ]
  },
  {
   "cell_type": "code",
   "execution_count": 250,
   "metadata": {
    "collapsed": false
   },
   "outputs": [
    {
     "data": {
      "text/plain": [
       "179544"
      ]
     },
     "execution_count": 250,
     "metadata": {},
     "output_type": "execute_result"
    }
   ],
   "source": [
    "incidents, num_clusters = get_clusters(incidents)\n",
    "num_clusters"
   ]
  },
  {
   "cell_type": "code",
   "execution_count": 251,
   "metadata": {
    "collapsed": true
   },
   "outputs": [],
   "source": [
    "incidents.sort_values(by=['clean_addr'], ascending=True, inplace=True)"
   ]
  },
  {
   "cell_type": "code",
   "execution_count": 252,
   "metadata": {
    "collapsed": false,
    "scrolled": true
   },
   "outputs": [
    {
     "data": {
      "text/html": [
       "<div>\n",
       "<table border=\"1\" class=\"dataframe\">\n",
       "  <thead>\n",
       "    <tr style=\"text-align: right;\">\n",
       "      <th></th>\n",
       "      <th>incident_id</th>\n",
       "      <th>lat</th>\n",
       "      <th>lon</th>\n",
       "      <th>addr</th>\n",
       "      <th>clean_addr</th>\n",
       "      <th>cluster</th>\n",
       "    </tr>\n",
       "  </thead>\n",
       "  <tbody>\n",
       "    <tr>\n",
       "      <th>113108</th>\n",
       "      <td>331405</td>\n",
       "      <td>42.354700</td>\n",
       "      <td>-83.028800</td>\n",
       "      <td>00 ANTIETAM REST 1428 GRATIOT DETROIT 48207</td>\n",
       "      <td>00 antietam rest 1428 gratiot detroit 48207</td>\n",
       "      <td>45395</td>\n",
       "    </tr>\n",
       "    <tr>\n",
       "      <th>88560</th>\n",
       "      <td>380683</td>\n",
       "      <td>42.346400</td>\n",
       "      <td>-83.060000</td>\n",
       "      <td>00 CASS TECH HIGH 2501 2ND DETROIT 48201</td>\n",
       "      <td>00 cass tech high 2501 2nd detroit 48201</td>\n",
       "      <td>35462</td>\n",
       "    </tr>\n",
       "    <tr>\n",
       "      <th>26203</th>\n",
       "      <td>347567</td>\n",
       "      <td>42.331400</td>\n",
       "      <td>-83.044300</td>\n",
       "      <td>00 CIGAR  BAR 140 CADILLIAC SQ DETROIT</td>\n",
       "      <td>00 cigar bar 140 cadilliac sq detroit</td>\n",
       "      <td>11613</td>\n",
       "    </tr>\n",
       "    <tr>\n",
       "      <th>25942</th>\n",
       "      <td>410988</td>\n",
       "      <td>42.331300</td>\n",
       "      <td>-83.044200</td>\n",
       "      <td>00 CIGAR  BAR 140 CADILLIAC SQ DETROIT</td>\n",
       "      <td>00 cigar bar 140 cadilliac sq detroit</td>\n",
       "      <td>11613</td>\n",
       "    </tr>\n",
       "    <tr>\n",
       "      <th>61717</th>\n",
       "      <td>341057</td>\n",
       "      <td>42.335700</td>\n",
       "      <td>-83.049100</td>\n",
       "      <td>00 CLUB BLUE 1540 WOODWARD  AVE DETROIT</td>\n",
       "      <td>00 club blue 1540 woodward ave detroit</td>\n",
       "      <td>24590</td>\n",
       "    </tr>\n",
       "    <tr>\n",
       "      <th>121845</th>\n",
       "      <td>348212</td>\n",
       "      <td>42.357700</td>\n",
       "      <td>-83.211400</td>\n",
       "      <td>00 CLUB INNUENDO 744 E SAVANNAH DETROIT 48228</td>\n",
       "      <td>00 club innuendo 744 e savannah detroit 48228</td>\n",
       "      <td>48891</td>\n",
       "    </tr>\n",
       "    <tr>\n",
       "      <th>20627</th>\n",
       "      <td>318075</td>\n",
       "      <td>42.328900</td>\n",
       "      <td>-83.111700</td>\n",
       "      <td>00 DETROIT</td>\n",
       "      <td>00 detroit</td>\n",
       "      <td>9348</td>\n",
       "    </tr>\n",
       "    <tr>\n",
       "      <th>271501</th>\n",
       "      <td>424475</td>\n",
       "      <td>42.400700</td>\n",
       "      <td>-82.926200</td>\n",
       "      <td>00 DETROIT</td>\n",
       "      <td>00 detroit</td>\n",
       "      <td>9348</td>\n",
       "    </tr>\n",
       "    <tr>\n",
       "      <th>271820</th>\n",
       "      <td>424874</td>\n",
       "      <td>42.400800</td>\n",
       "      <td>-82.926300</td>\n",
       "      <td>00 DETROIT</td>\n",
       "      <td>00 detroit</td>\n",
       "      <td>9348</td>\n",
       "    </tr>\n",
       "    <tr>\n",
       "      <th>337775</th>\n",
       "      <td>410160</td>\n",
       "      <td>42.417000</td>\n",
       "      <td>-83.138500</td>\n",
       "      <td>00 DETROIT</td>\n",
       "      <td>00 detroit</td>\n",
       "      <td>9348</td>\n",
       "    </tr>\n",
       "    <tr>\n",
       "      <th>273541</th>\n",
       "      <td>380328</td>\n",
       "      <td>42.401200</td>\n",
       "      <td>-82.925500</td>\n",
       "      <td>00 DETROIT</td>\n",
       "      <td>00 detroit</td>\n",
       "      <td>9348</td>\n",
       "    </tr>\n",
       "    <tr>\n",
       "      <th>80460</th>\n",
       "      <td>434077</td>\n",
       "      <td>42.344200</td>\n",
       "      <td>-83.202700</td>\n",
       "      <td>00 DETROIT DETENTION CENTER</td>\n",
       "      <td>00 detroit detention center</td>\n",
       "      <td>32391</td>\n",
       "    </tr>\n",
       "    <tr>\n",
       "      <th>251226</th>\n",
       "      <td>401338</td>\n",
       "      <td>42.395100</td>\n",
       "      <td>-83.247400</td>\n",
       "      <td>00 DETROIT DETENTION CENTER</td>\n",
       "      <td>00 detroit detention center</td>\n",
       "      <td>32391</td>\n",
       "    </tr>\n",
       "    <tr>\n",
       "      <th>224445</th>\n",
       "      <td>415403</td>\n",
       "      <td>42.387700</td>\n",
       "      <td>-83.046100</td>\n",
       "      <td>00 DETROIT DETENTION CENTER</td>\n",
       "      <td>00 detroit detention center</td>\n",
       "      <td>32391</td>\n",
       "    </tr>\n",
       "    <tr>\n",
       "      <th>250882</th>\n",
       "      <td>418062</td>\n",
       "      <td>42.395000</td>\n",
       "      <td>-83.247700</td>\n",
       "      <td>00 DETROIT DETENTION CENTER</td>\n",
       "      <td>00 detroit detention center</td>\n",
       "      <td>32391</td>\n",
       "    </tr>\n",
       "    <tr>\n",
       "      <th>224796</th>\n",
       "      <td>409544</td>\n",
       "      <td>42.387800</td>\n",
       "      <td>-83.046200</td>\n",
       "      <td>00 DETROIT DETENTION CENTER</td>\n",
       "      <td>00 detroit detention center</td>\n",
       "      <td>32391</td>\n",
       "    </tr>\n",
       "    <tr>\n",
       "      <th>224804</th>\n",
       "      <td>323104</td>\n",
       "      <td>42.387800</td>\n",
       "      <td>-83.046000</td>\n",
       "      <td>00 DETROIT DETENTION CENTER</td>\n",
       "      <td>00 detroit detention center</td>\n",
       "      <td>32391</td>\n",
       "    </tr>\n",
       "    <tr>\n",
       "      <th>225261</th>\n",
       "      <td>356663</td>\n",
       "      <td>42.387900</td>\n",
       "      <td>-83.045900</td>\n",
       "      <td>00 DETROIT DETENTION CENTER</td>\n",
       "      <td>00 detroit detention center</td>\n",
       "      <td>32391</td>\n",
       "    </tr>\n",
       "    <tr>\n",
       "      <th>224452</th>\n",
       "      <td>392371</td>\n",
       "      <td>42.387700</td>\n",
       "      <td>-83.046000</td>\n",
       "      <td>00 DETROIT DETENTION CENTER</td>\n",
       "      <td>00 detroit detention center</td>\n",
       "      <td>32391</td>\n",
       "    </tr>\n",
       "    <tr>\n",
       "      <th>225245</th>\n",
       "      <td>334208</td>\n",
       "      <td>42.387900</td>\n",
       "      <td>-83.046300</td>\n",
       "      <td>00 DETROIT DETENTION CENTER</td>\n",
       "      <td>00 detroit detention center</td>\n",
       "      <td>32391</td>\n",
       "    </tr>\n",
       "    <tr>\n",
       "      <th>224808</th>\n",
       "      <td>318508</td>\n",
       "      <td>42.387800</td>\n",
       "      <td>-83.045900</td>\n",
       "      <td>00 DETROIT DETENTION CENTER</td>\n",
       "      <td>00 detroit detention center</td>\n",
       "      <td>32391</td>\n",
       "    </tr>\n",
       "    <tr>\n",
       "      <th>403256</th>\n",
       "      <td>321729</td>\n",
       "      <td>42.433300</td>\n",
       "      <td>-83.050500</td>\n",
       "      <td>00 DETROIT DETENTION CENTER</td>\n",
       "      <td>00 detroit detention center</td>\n",
       "      <td>32391</td>\n",
       "    </tr>\n",
       "    <tr>\n",
       "      <th>362622</th>\n",
       "      <td>421440</td>\n",
       "      <td>42.423500</td>\n",
       "      <td>-83.043400</td>\n",
       "      <td>00 DETROIT DETENTION CENTER 17601 MOUND</td>\n",
       "      <td>00 detroit detention center 17601 mound</td>\n",
       "      <td>143183</td>\n",
       "    </tr>\n",
       "    <tr>\n",
       "      <th>174223</th>\n",
       "      <td>327860</td>\n",
       "      <td>42.372900</td>\n",
       "      <td>-83.067300</td>\n",
       "      <td>00 DETROIT GRASS STATION 2930 E. GRAND BLVD</td>\n",
       "      <td>00 detroit grass station 2930 e grand bd</td>\n",
       "      <td>69804</td>\n",
       "    </tr>\n",
       "    <tr>\n",
       "      <th>115044</th>\n",
       "      <td>359242</td>\n",
       "      <td>42.355400</td>\n",
       "      <td>-83.054100</td>\n",
       "      <td>00 DETROIT RECEIVING CRISIS CENTER EMERGENCY E...</td>\n",
       "      <td>00 detroit receiving crisis center emergency e...</td>\n",
       "      <td>46184</td>\n",
       "    </tr>\n",
       "    <tr>\n",
       "      <th>234877</th>\n",
       "      <td>412296</td>\n",
       "      <td>42.390200</td>\n",
       "      <td>-83.108400</td>\n",
       "      <td>00 DETROIT RECEIVING HOSPITAL</td>\n",
       "      <td>00 detroit receiving hospital</td>\n",
       "      <td>38738</td>\n",
       "    </tr>\n",
       "    <tr>\n",
       "      <th>96517</th>\n",
       "      <td>416363</td>\n",
       "      <td>42.349200</td>\n",
       "      <td>-83.034200</td>\n",
       "      <td>00 DETROIT RECEIVING HOSPITAL</td>\n",
       "      <td>00 detroit receiving hospital</td>\n",
       "      <td>38738</td>\n",
       "    </tr>\n",
       "    <tr>\n",
       "      <th>116082</th>\n",
       "      <td>420845</td>\n",
       "      <td>42.355800</td>\n",
       "      <td>-82.952300</td>\n",
       "      <td>00 DETROIT RIVER</td>\n",
       "      <td>00 detroit river</td>\n",
       "      <td>46636</td>\n",
       "    </tr>\n",
       "    <tr>\n",
       "      <th>80507</th>\n",
       "      <td>399291</td>\n",
       "      <td>42.344200</td>\n",
       "      <td>-82.979800</td>\n",
       "      <td>00 DETROIT RIVER / BELLE ISLE BEACH</td>\n",
       "      <td>00 detroit river belle isle beach</td>\n",
       "      <td>32411</td>\n",
       "    </tr>\n",
       "    <tr>\n",
       "      <th>112361</th>\n",
       "      <td>423991</td>\n",
       "      <td>42.354400</td>\n",
       "      <td>-82.980500</td>\n",
       "      <td>00 DETROIT RIVER/ PARKVIEW</td>\n",
       "      <td>00 detroit river parkview</td>\n",
       "      <td>45088</td>\n",
       "    </tr>\n",
       "    <tr>\n",
       "      <th>...</th>\n",
       "      <td>...</td>\n",
       "      <td>...</td>\n",
       "      <td>...</td>\n",
       "      <td>...</td>\n",
       "      <td>...</td>\n",
       "      <td>...</td>\n",
       "    </tr>\n",
       "    <tr>\n",
       "      <th>272635</th>\n",
       "      <td>72498</td>\n",
       "      <td>42.401005</td>\n",
       "      <td>-82.925450</td>\n",
       "      <td>17145 DETROIT</td>\n",
       "      <td>17145 detroit</td>\n",
       "      <td>108006</td>\n",
       "    </tr>\n",
       "    <tr>\n",
       "      <th>272639</th>\n",
       "      <td>75638</td>\n",
       "      <td>42.401005</td>\n",
       "      <td>-82.925450</td>\n",
       "      <td>17145 DETROIT</td>\n",
       "      <td>17145 detroit</td>\n",
       "      <td>108006</td>\n",
       "    </tr>\n",
       "    <tr>\n",
       "      <th>272640</th>\n",
       "      <td>95580</td>\n",
       "      <td>42.401005</td>\n",
       "      <td>-82.925450</td>\n",
       "      <td>17145 DETROIT</td>\n",
       "      <td>17145 detroit</td>\n",
       "      <td>108006</td>\n",
       "    </tr>\n",
       "    <tr>\n",
       "      <th>272637</th>\n",
       "      <td>72500</td>\n",
       "      <td>42.401005</td>\n",
       "      <td>-82.925450</td>\n",
       "      <td>17145 DETROIT</td>\n",
       "      <td>17145 detroit</td>\n",
       "      <td>108006</td>\n",
       "    </tr>\n",
       "    <tr>\n",
       "      <th>272641</th>\n",
       "      <td>95581</td>\n",
       "      <td>42.401005</td>\n",
       "      <td>-82.925450</td>\n",
       "      <td>17145 DETROIT</td>\n",
       "      <td>17145 detroit</td>\n",
       "      <td>108006</td>\n",
       "    </tr>\n",
       "    <tr>\n",
       "      <th>272638</th>\n",
       "      <td>75637</td>\n",
       "      <td>42.401005</td>\n",
       "      <td>-82.925450</td>\n",
       "      <td>17145 DETROIT</td>\n",
       "      <td>17145 detroit</td>\n",
       "      <td>108006</td>\n",
       "    </tr>\n",
       "    <tr>\n",
       "      <th>273651</th>\n",
       "      <td>23800</td>\n",
       "      <td>42.401226</td>\n",
       "      <td>-82.924851</td>\n",
       "      <td>17179 DETROIT</td>\n",
       "      <td>17179 detroit</td>\n",
       "      <td>108382</td>\n",
       "    </tr>\n",
       "    <tr>\n",
       "      <th>273650</th>\n",
       "      <td>262242</td>\n",
       "      <td>42.401223</td>\n",
       "      <td>-82.924692</td>\n",
       "      <td>17184 DETROIT</td>\n",
       "      <td>17184 detroit</td>\n",
       "      <td>108381</td>\n",
       "    </tr>\n",
       "    <tr>\n",
       "      <th>274321</th>\n",
       "      <td>367133</td>\n",
       "      <td>42.401400</td>\n",
       "      <td>-82.924300</td>\n",
       "      <td>17200 DETROIT</td>\n",
       "      <td>17200 detroit</td>\n",
       "      <td>108622</td>\n",
       "    </tr>\n",
       "    <tr>\n",
       "      <th>274348</th>\n",
       "      <td>70660</td>\n",
       "      <td>42.401403</td>\n",
       "      <td>-82.924191</td>\n",
       "      <td>17218 DETROIT</td>\n",
       "      <td>17218 detroit</td>\n",
       "      <td>108631</td>\n",
       "    </tr>\n",
       "    <tr>\n",
       "      <th>274349</th>\n",
       "      <td>70661</td>\n",
       "      <td>42.401403</td>\n",
       "      <td>-82.924191</td>\n",
       "      <td>17218 DETROIT</td>\n",
       "      <td>17218 detroit</td>\n",
       "      <td>108631</td>\n",
       "    </tr>\n",
       "    <tr>\n",
       "      <th>420318</th>\n",
       "      <td>417160</td>\n",
       "      <td>42.437400</td>\n",
       "      <td>-83.216100</td>\n",
       "      <td>17500 PEMBROKE DETROIT</td>\n",
       "      <td>17500 pembroke detroit</td>\n",
       "      <td>166469</td>\n",
       "    </tr>\n",
       "    <tr>\n",
       "      <th>420317</th>\n",
       "      <td>392636</td>\n",
       "      <td>42.437400</td>\n",
       "      <td>-83.216100</td>\n",
       "      <td>17500 PEMBROKE DETROIT</td>\n",
       "      <td>17500 pembroke detroit</td>\n",
       "      <td>166469</td>\n",
       "    </tr>\n",
       "    <tr>\n",
       "      <th>357537</th>\n",
       "      <td>378492</td>\n",
       "      <td>42.422000</td>\n",
       "      <td>-83.062500</td>\n",
       "      <td>17500 RYAN (DETROIT RE-ENTRY CENTER)</td>\n",
       "      <td>17500 ryan detroit reentry center</td>\n",
       "      <td>141142</td>\n",
       "    </tr>\n",
       "    <tr>\n",
       "      <th>69036</th>\n",
       "      <td>316954</td>\n",
       "      <td>42.339100</td>\n",
       "      <td>-83.067000</td>\n",
       "      <td>17600 MOUND DETROIT DETENTION CENTER</td>\n",
       "      <td>17600 mound detroit detention center</td>\n",
       "      <td>27634</td>\n",
       "    </tr>\n",
       "    <tr>\n",
       "      <th>363854</th>\n",
       "      <td>374560</td>\n",
       "      <td>42.423800</td>\n",
       "      <td>-83.043300</td>\n",
       "      <td>17600 MOUND ( DETROIT DETENTION CENTER)</td>\n",
       "      <td>17600 mound detroit detention center</td>\n",
       "      <td>27634</td>\n",
       "    </tr>\n",
       "    <tr>\n",
       "      <th>363351</th>\n",
       "      <td>365342</td>\n",
       "      <td>42.423700</td>\n",
       "      <td>-83.043400</td>\n",
       "      <td>17600 MOUND RD DETROIT DETENTION CENTER</td>\n",
       "      <td>17600 mound rd detroit detention center</td>\n",
       "      <td>143315</td>\n",
       "    </tr>\n",
       "    <tr>\n",
       "      <th>363872</th>\n",
       "      <td>367452</td>\n",
       "      <td>42.423800</td>\n",
       "      <td>-83.043200</td>\n",
       "      <td>17600 MOUND RD DETROIT DETENTION CENTER</td>\n",
       "      <td>17600 mound rd detroit detention center</td>\n",
       "      <td>143315</td>\n",
       "    </tr>\n",
       "    <tr>\n",
       "      <th>363404</th>\n",
       "      <td>431899</td>\n",
       "      <td>42.423700</td>\n",
       "      <td>-83.043200</td>\n",
       "      <td>17600 MOUND RD DETROIT DETENTION CENTER</td>\n",
       "      <td>17600 mound rd detroit detention center</td>\n",
       "      <td>143315</td>\n",
       "    </tr>\n",
       "    <tr>\n",
       "      <th>362924</th>\n",
       "      <td>363896</td>\n",
       "      <td>42.423600</td>\n",
       "      <td>-83.043400</td>\n",
       "      <td>17600 MOUND RD DETROIT DETENTION CENTER</td>\n",
       "      <td>17600 mound rd detroit detention center</td>\n",
       "      <td>143315</td>\n",
       "    </tr>\n",
       "    <tr>\n",
       "      <th>371534</th>\n",
       "      <td>419205</td>\n",
       "      <td>42.425800</td>\n",
       "      <td>-83.253400</td>\n",
       "      <td>18300 W 7MILE DETROIT 48219</td>\n",
       "      <td>18300 w 7mile detroit 48219</td>\n",
       "      <td>146702</td>\n",
       "    </tr>\n",
       "    <tr>\n",
       "      <th>371535</th>\n",
       "      <td>379984</td>\n",
       "      <td>42.425800</td>\n",
       "      <td>-83.253200</td>\n",
       "      <td>18300 W 7MILE DETROIT 48219</td>\n",
       "      <td>18300 w 7mile detroit 48219</td>\n",
       "      <td>146702</td>\n",
       "    </tr>\n",
       "    <tr>\n",
       "      <th>272986</th>\n",
       "      <td>303599</td>\n",
       "      <td>42.401097</td>\n",
       "      <td>-82.925126</td>\n",
       "      <td>18958 DETROIT</td>\n",
       "      <td>18958 detroit</td>\n",
       "      <td>108133</td>\n",
       "    </tr>\n",
       "    <tr>\n",
       "      <th>272984</th>\n",
       "      <td>300528</td>\n",
       "      <td>42.401097</td>\n",
       "      <td>-82.925126</td>\n",
       "      <td>18958 DETROIT</td>\n",
       "      <td>18958 detroit</td>\n",
       "      <td>108133</td>\n",
       "    </tr>\n",
       "    <tr>\n",
       "      <th>349931</th>\n",
       "      <td>357156</td>\n",
       "      <td>42.419900</td>\n",
       "      <td>-82.914200</td>\n",
       "      <td>22100 MOROSS, DETROIT</td>\n",
       "      <td>22100 moross detroit</td>\n",
       "      <td>138133</td>\n",
       "    </tr>\n",
       "    <tr>\n",
       "      <th>272985</th>\n",
       "      <td>300987</td>\n",
       "      <td>42.401097</td>\n",
       "      <td>-82.925126</td>\n",
       "      <td>2633 DETROIT</td>\n",
       "      <td>2633 detroit</td>\n",
       "      <td>108134</td>\n",
       "    </tr>\n",
       "    <tr>\n",
       "      <th>272987</th>\n",
       "      <td>304079</td>\n",
       "      <td>42.401097</td>\n",
       "      <td>-82.925126</td>\n",
       "      <td>2633 DETROIT</td>\n",
       "      <td>2633 detroit</td>\n",
       "      <td>108134</td>\n",
       "    </tr>\n",
       "    <tr>\n",
       "      <th>272981</th>\n",
       "      <td>9002</td>\n",
       "      <td>42.401097</td>\n",
       "      <td>-82.925126</td>\n",
       "      <td>703 DETROIT</td>\n",
       "      <td>703 detroit</td>\n",
       "      <td>108131</td>\n",
       "    </tr>\n",
       "    <tr>\n",
       "      <th>272982</th>\n",
       "      <td>295012</td>\n",
       "      <td>42.401097</td>\n",
       "      <td>-82.925126</td>\n",
       "      <td>7515 DETROIT</td>\n",
       "      <td>7515 detroit</td>\n",
       "      <td>108132</td>\n",
       "    </tr>\n",
       "    <tr>\n",
       "      <th>272983</th>\n",
       "      <td>297970</td>\n",
       "      <td>42.401097</td>\n",
       "      <td>-82.925126</td>\n",
       "      <td>7515 DETROIT</td>\n",
       "      <td>7515 detroit</td>\n",
       "      <td>108132</td>\n",
       "    </tr>\n",
       "  </tbody>\n",
       "</table>\n",
       "<p>177 rows × 6 columns</p>\n",
       "</div>"
      ],
      "text/plain": [
       "        incident_id        lat        lon  \\\n",
       "113108       331405  42.354700 -83.028800   \n",
       "88560        380683  42.346400 -83.060000   \n",
       "26203        347567  42.331400 -83.044300   \n",
       "25942        410988  42.331300 -83.044200   \n",
       "61717        341057  42.335700 -83.049100   \n",
       "121845       348212  42.357700 -83.211400   \n",
       "20627        318075  42.328900 -83.111700   \n",
       "271501       424475  42.400700 -82.926200   \n",
       "271820       424874  42.400800 -82.926300   \n",
       "337775       410160  42.417000 -83.138500   \n",
       "273541       380328  42.401200 -82.925500   \n",
       "80460        434077  42.344200 -83.202700   \n",
       "251226       401338  42.395100 -83.247400   \n",
       "224445       415403  42.387700 -83.046100   \n",
       "250882       418062  42.395000 -83.247700   \n",
       "224796       409544  42.387800 -83.046200   \n",
       "224804       323104  42.387800 -83.046000   \n",
       "225261       356663  42.387900 -83.045900   \n",
       "224452       392371  42.387700 -83.046000   \n",
       "225245       334208  42.387900 -83.046300   \n",
       "224808       318508  42.387800 -83.045900   \n",
       "403256       321729  42.433300 -83.050500   \n",
       "362622       421440  42.423500 -83.043400   \n",
       "174223       327860  42.372900 -83.067300   \n",
       "115044       359242  42.355400 -83.054100   \n",
       "234877       412296  42.390200 -83.108400   \n",
       "96517        416363  42.349200 -83.034200   \n",
       "116082       420845  42.355800 -82.952300   \n",
       "80507        399291  42.344200 -82.979800   \n",
       "112361       423991  42.354400 -82.980500   \n",
       "...             ...        ...        ...   \n",
       "272635        72498  42.401005 -82.925450   \n",
       "272639        75638  42.401005 -82.925450   \n",
       "272640        95580  42.401005 -82.925450   \n",
       "272637        72500  42.401005 -82.925450   \n",
       "272641        95581  42.401005 -82.925450   \n",
       "272638        75637  42.401005 -82.925450   \n",
       "273651        23800  42.401226 -82.924851   \n",
       "273650       262242  42.401223 -82.924692   \n",
       "274321       367133  42.401400 -82.924300   \n",
       "274348        70660  42.401403 -82.924191   \n",
       "274349        70661  42.401403 -82.924191   \n",
       "420318       417160  42.437400 -83.216100   \n",
       "420317       392636  42.437400 -83.216100   \n",
       "357537       378492  42.422000 -83.062500   \n",
       "69036        316954  42.339100 -83.067000   \n",
       "363854       374560  42.423800 -83.043300   \n",
       "363351       365342  42.423700 -83.043400   \n",
       "363872       367452  42.423800 -83.043200   \n",
       "363404       431899  42.423700 -83.043200   \n",
       "362924       363896  42.423600 -83.043400   \n",
       "371534       419205  42.425800 -83.253400   \n",
       "371535       379984  42.425800 -83.253200   \n",
       "272986       303599  42.401097 -82.925126   \n",
       "272984       300528  42.401097 -82.925126   \n",
       "349931       357156  42.419900 -82.914200   \n",
       "272985       300987  42.401097 -82.925126   \n",
       "272987       304079  42.401097 -82.925126   \n",
       "272981         9002  42.401097 -82.925126   \n",
       "272982       295012  42.401097 -82.925126   \n",
       "272983       297970  42.401097 -82.925126   \n",
       "\n",
       "                                                     addr  \\\n",
       "113108        00 ANTIETAM REST 1428 GRATIOT DETROIT 48207   \n",
       "88560            00 CASS TECH HIGH 2501 2ND DETROIT 48201   \n",
       "26203              00 CIGAR  BAR 140 CADILLIAC SQ DETROIT   \n",
       "25942              00 CIGAR  BAR 140 CADILLIAC SQ DETROIT   \n",
       "61717             00 CLUB BLUE 1540 WOODWARD  AVE DETROIT   \n",
       "121845      00 CLUB INNUENDO 744 E SAVANNAH DETROIT 48228   \n",
       "20627                                          00 DETROIT   \n",
       "271501                                         00 DETROIT   \n",
       "271820                                         00 DETROIT   \n",
       "337775                                         00 DETROIT   \n",
       "273541                                         00 DETROIT   \n",
       "80460                         00 DETROIT DETENTION CENTER   \n",
       "251226                        00 DETROIT DETENTION CENTER   \n",
       "224445                        00 DETROIT DETENTION CENTER   \n",
       "250882                        00 DETROIT DETENTION CENTER   \n",
       "224796                        00 DETROIT DETENTION CENTER   \n",
       "224804                        00 DETROIT DETENTION CENTER   \n",
       "225261                        00 DETROIT DETENTION CENTER   \n",
       "224452                        00 DETROIT DETENTION CENTER   \n",
       "225245                        00 DETROIT DETENTION CENTER   \n",
       "224808                        00 DETROIT DETENTION CENTER   \n",
       "403256                        00 DETROIT DETENTION CENTER   \n",
       "362622            00 DETROIT DETENTION CENTER 17601 MOUND   \n",
       "174223        00 DETROIT GRASS STATION 2930 E. GRAND BLVD   \n",
       "115044  00 DETROIT RECEIVING CRISIS CENTER EMERGENCY E...   \n",
       "234877                      00 DETROIT RECEIVING HOSPITAL   \n",
       "96517                       00 DETROIT RECEIVING HOSPITAL   \n",
       "116082                                   00 DETROIT RIVER   \n",
       "80507                 00 DETROIT RIVER / BELLE ISLE BEACH   \n",
       "112361                         00 DETROIT RIVER/ PARKVIEW   \n",
       "...                                                   ...   \n",
       "272635                                      17145 DETROIT   \n",
       "272639                                      17145 DETROIT   \n",
       "272640                                      17145 DETROIT   \n",
       "272637                                      17145 DETROIT   \n",
       "272641                                      17145 DETROIT   \n",
       "272638                                      17145 DETROIT   \n",
       "273651                                      17179 DETROIT   \n",
       "273650                                      17184 DETROIT   \n",
       "274321                                      17200 DETROIT   \n",
       "274348                                      17218 DETROIT   \n",
       "274349                                      17218 DETROIT   \n",
       "420318                             17500 PEMBROKE DETROIT   \n",
       "420317                             17500 PEMBROKE DETROIT   \n",
       "357537               17500 RYAN (DETROIT RE-ENTRY CENTER)   \n",
       "69036                17600 MOUND DETROIT DETENTION CENTER   \n",
       "363854            17600 MOUND ( DETROIT DETENTION CENTER)   \n",
       "363351            17600 MOUND RD DETROIT DETENTION CENTER   \n",
       "363872            17600 MOUND RD DETROIT DETENTION CENTER   \n",
       "363404            17600 MOUND RD DETROIT DETENTION CENTER   \n",
       "362924            17600 MOUND RD DETROIT DETENTION CENTER   \n",
       "371534                        18300 W 7MILE DETROIT 48219   \n",
       "371535                        18300 W 7MILE DETROIT 48219   \n",
       "272986                                      18958 DETROIT   \n",
       "272984                                      18958 DETROIT   \n",
       "349931                              22100 MOROSS, DETROIT   \n",
       "272985                                       2633 DETROIT   \n",
       "272987                                       2633 DETROIT   \n",
       "272981                                        703 DETROIT   \n",
       "272982                                       7515 DETROIT   \n",
       "272983                                       7515 DETROIT   \n",
       "\n",
       "                                               clean_addr  cluster  \n",
       "113108        00 antietam rest 1428 gratiot detroit 48207    45395  \n",
       "88560            00 cass tech high 2501 2nd detroit 48201    35462  \n",
       "26203               00 cigar bar 140 cadilliac sq detroit    11613  \n",
       "25942               00 cigar bar 140 cadilliac sq detroit    11613  \n",
       "61717              00 club blue 1540 woodward ave detroit    24590  \n",
       "121845      00 club innuendo 744 e savannah detroit 48228    48891  \n",
       "20627                                          00 detroit     9348  \n",
       "271501                                         00 detroit     9348  \n",
       "271820                                         00 detroit     9348  \n",
       "337775                                         00 detroit     9348  \n",
       "273541                                         00 detroit     9348  \n",
       "80460                         00 detroit detention center    32391  \n",
       "251226                        00 detroit detention center    32391  \n",
       "224445                        00 detroit detention center    32391  \n",
       "250882                        00 detroit detention center    32391  \n",
       "224796                        00 detroit detention center    32391  \n",
       "224804                        00 detroit detention center    32391  \n",
       "225261                        00 detroit detention center    32391  \n",
       "224452                        00 detroit detention center    32391  \n",
       "225245                        00 detroit detention center    32391  \n",
       "224808                        00 detroit detention center    32391  \n",
       "403256                        00 detroit detention center    32391  \n",
       "362622            00 detroit detention center 17601 mound   143183  \n",
       "174223           00 detroit grass station 2930 e grand bd    69804  \n",
       "115044  00 detroit receiving crisis center emergency e...    46184  \n",
       "234877                      00 detroit receiving hospital    38738  \n",
       "96517                       00 detroit receiving hospital    38738  \n",
       "116082                                   00 detroit river    46636  \n",
       "80507                   00 detroit river belle isle beach    32411  \n",
       "112361                          00 detroit river parkview    45088  \n",
       "...                                                   ...      ...  \n",
       "272635                                      17145 detroit   108006  \n",
       "272639                                      17145 detroit   108006  \n",
       "272640                                      17145 detroit   108006  \n",
       "272637                                      17145 detroit   108006  \n",
       "272641                                      17145 detroit   108006  \n",
       "272638                                      17145 detroit   108006  \n",
       "273651                                      17179 detroit   108382  \n",
       "273650                                      17184 detroit   108381  \n",
       "274321                                      17200 detroit   108622  \n",
       "274348                                      17218 detroit   108631  \n",
       "274349                                      17218 detroit   108631  \n",
       "420318                             17500 pembroke detroit   166469  \n",
       "420317                             17500 pembroke detroit   166469  \n",
       "357537                  17500 ryan detroit reentry center   141142  \n",
       "69036                17600 mound detroit detention center    27634  \n",
       "363854               17600 mound detroit detention center    27634  \n",
       "363351            17600 mound rd detroit detention center   143315  \n",
       "363872            17600 mound rd detroit detention center   143315  \n",
       "363404            17600 mound rd detroit detention center   143315  \n",
       "362924            17600 mound rd detroit detention center   143315  \n",
       "371534                        18300 w 7mile detroit 48219   146702  \n",
       "371535                        18300 w 7mile detroit 48219   146702  \n",
       "272986                                      18958 detroit   108133  \n",
       "272984                                      18958 detroit   108133  \n",
       "349931                               22100 moross detroit   138133  \n",
       "272985                                       2633 detroit   108134  \n",
       "272987                                       2633 detroit   108134  \n",
       "272981                                        703 detroit   108131  \n",
       "272982                                       7515 detroit   108132  \n",
       "272983                                       7515 detroit   108132  \n",
       "\n",
       "[177 rows x 6 columns]"
      ]
     },
     "execution_count": 252,
     "metadata": {},
     "output_type": "execute_result"
    }
   ],
   "source": [
    "incidents[incidents['clean_addr'].str.contains('detroit')]"
   ]
  },
  {
   "cell_type": "code",
   "execution_count": 253,
   "metadata": {
    "collapsed": true
   },
   "outputs": [],
   "source": [
    "incidents = incidents[incidents['clean_addr'] != '00 detroit']"
   ]
  },
  {
   "cell_type": "markdown",
   "metadata": {},
   "source": [
    "## Clustering with fuzzy address matching"
   ]
  },
  {
   "cell_type": "code",
   "execution_count": 255,
   "metadata": {
    "collapsed": false
   },
   "outputs": [],
   "source": [
    "def is_same_addr(x, y):\n",
    "    xt = x.split()\n",
    "    yt = y.split()\n",
    "    xs = set(xt)\n",
    "    ys = set(yt)\n",
    "    \n",
    "    # if start with road number, it has to match\n",
    "    flag_start_with_number = xt[0].isdigit() and yt[0].isdigit()\n",
    "    flag_number_match = (xt[0] == yt[0])\n",
    "    \n",
    "    num_tokens_match = len(xs.intersection(ys))\n",
    "    \n",
    "    # this accounts for typos\n",
    "    flag_edit_dist_ok = (edit_distance(x, y, sub_cost=2) < 7)\n",
    "    \n",
    "    if flag_start_with_number:\n",
    "        if flag_number_match and num_tokens_match >= 1 and flag_edit_dist_ok:\n",
    "            return True\n",
    "    else:\n",
    "        if num_tokens_match >= 1 and flag_edit_dist_ok:\n",
    "            return True\n",
    "    \n",
    "    return False"
   ]
  },
  {
   "cell_type": "code",
   "execution_count": 256,
   "metadata": {
    "collapsed": false,
    "scrolled": true
   },
   "outputs": [
    {
     "data": {
      "text/plain": [
       "True"
      ]
     },
     "execution_count": 256,
     "metadata": {},
     "output_type": "execute_result"
    }
   ],
   "source": [
    "is_same_addr('26585 outer drive', '26585 w outer drive')"
   ]
  },
  {
   "cell_type": "code",
   "execution_count": 257,
   "metadata": {
    "collapsed": false
   },
   "outputs": [
    {
     "data": {
      "text/plain": [
       "False"
      ]
     },
     "execution_count": 257,
     "metadata": {},
     "output_type": "execute_result"
    }
   ],
   "source": [
    "is_same_addr('3808 seneca', '3808 15th')"
   ]
  },
  {
   "cell_type": "code",
   "execution_count": 258,
   "metadata": {
    "collapsed": false
   },
   "outputs": [
    {
     "data": {
      "text/plain": [
       "True"
      ]
     },
     "execution_count": 258,
     "metadata": {},
     "output_type": "execute_result"
    }
   ],
   "source": [
    "is_same_addr('13900 gallager', '13900 gallagher')"
   ]
  },
  {
   "cell_type": "code",
   "execution_count": 259,
   "metadata": {
    "collapsed": false
   },
   "outputs": [
    {
     "data": {
      "text/plain": [
       "True"
      ]
     },
     "execution_count": 259,
     "metadata": {},
     "output_type": "execute_result"
    }
   ],
   "source": [
    "is_same_addr('15710 snowden', '15710 snowden st')"
   ]
  },
  {
   "cell_type": "code",
   "execution_count": 263,
   "metadata": {
    "collapsed": false
   },
   "outputs": [],
   "source": [
    "def refine_clusters(df):\n",
    "    clusters = {}\n",
    "    \n",
    "    row0 = df.iloc[0, :]\n",
    "    prev_cluster = row0['cluster']\n",
    "    prev_addr = row0['clean_addr']\n",
    "    row0_id =row0['incident_id']\n",
    "    clusters[row0_id] = prev_cluster\n",
    "\n",
    "    for index, row in df.iterrows():\n",
    "        addr = row['clean_addr']\n",
    "        cluster = row['cluster']\n",
    "        id = row['incident_id']\n",
    "        \n",
    "        if id == row0_id:\n",
    "            continue\n",
    "        \n",
    "        if cluster != prev_cluster:\n",
    "            if is_same_addr(addr, prev_addr):\n",
    "                cluster = prev_cluster\n",
    "            else:\n",
    "                prev_cluster = cluster\n",
    "                prev_addr = addr\n",
    "        \n",
    "        clusters[id] = cluster\n",
    "    \n",
    "    df['refined_cluster'] = df['incident_id'].map(lambda x: clusters[x])\n",
    "    return df"
   ]
  },
  {
   "cell_type": "code",
   "execution_count": 261,
   "metadata": {
    "collapsed": false
   },
   "outputs": [
    {
     "data": {
      "text/plain": [
       "179543"
      ]
     },
     "execution_count": 261,
     "metadata": {},
     "output_type": "execute_result"
    }
   ],
   "source": [
    "len(incidents['cluster'].unique())"
   ]
  },
  {
   "cell_type": "code",
   "execution_count": 264,
   "metadata": {
    "collapsed": false,
    "scrolled": true
   },
   "outputs": [],
   "source": [
    "incidents = refine_clusters(incidents)"
   ]
  },
  {
   "cell_type": "code",
   "execution_count": 265,
   "metadata": {
    "collapsed": false,
    "scrolled": true
   },
   "outputs": [
    {
     "data": {
      "text/plain": [
       "159478"
      ]
     },
     "execution_count": 265,
     "metadata": {},
     "output_type": "execute_result"
    }
   ],
   "source": [
    "len(incidents['refined_cluster'].unique())"
   ]
  },
  {
   "cell_type": "code",
   "execution_count": 266,
   "metadata": {
    "collapsed": false
   },
   "outputs": [],
   "source": [
    "incidents.sort_values(by=['lat', 'lon'], inplace=True)"
   ]
  },
  {
   "cell_type": "code",
   "execution_count": 267,
   "metadata": {
    "collapsed": true
   },
   "outputs": [],
   "source": [
    "unique_clusters = incidents['refined_cluster'].unique()"
   ]
  },
  {
   "cell_type": "code",
   "execution_count": 268,
   "metadata": {
    "collapsed": true
   },
   "outputs": [],
   "source": [
    "cluster_remap = dict(zip(unique_clusters, range(len(unique_clusters))))"
   ]
  },
  {
   "cell_type": "code",
   "execution_count": 269,
   "metadata": {
    "collapsed": false
   },
   "outputs": [],
   "source": [
    "incidents['remapped_cluster'] = incidents['refined_cluster'].map(lambda x: cluster_remap[x])"
   ]
  },
  {
   "cell_type": "code",
   "execution_count": 270,
   "metadata": {
    "collapsed": false
   },
   "outputs": [
    {
     "data": {
      "text/html": [
       "<div>\n",
       "<table border=\"1\" class=\"dataframe\">\n",
       "  <thead>\n",
       "    <tr style=\"text-align: right;\">\n",
       "      <th></th>\n",
       "      <th>incident_id</th>\n",
       "      <th>lat</th>\n",
       "      <th>lon</th>\n",
       "      <th>addr</th>\n",
       "      <th>clean_addr</th>\n",
       "      <th>cluster</th>\n",
       "      <th>refined_cluster</th>\n",
       "      <th>remapped_cluster</th>\n",
       "    </tr>\n",
       "  </thead>\n",
       "  <tbody>\n",
       "    <tr>\n",
       "      <th>0</th>\n",
       "      <td>53453</td>\n",
       "      <td>42.255342</td>\n",
       "      <td>-83.160990</td>\n",
       "      <td>26585 OUTER DRIVE</td>\n",
       "      <td>26585 outer dr</td>\n",
       "      <td>1</td>\n",
       "      <td>1</td>\n",
       "      <td>0</td>\n",
       "    </tr>\n",
       "    <tr>\n",
       "      <th>1</th>\n",
       "      <td>446027</td>\n",
       "      <td>42.255736</td>\n",
       "      <td>-83.160580</td>\n",
       "      <td>26585 West Outer Drive</td>\n",
       "      <td>26585 w outer dr</td>\n",
       "      <td>2</td>\n",
       "      <td>1</td>\n",
       "      <td>0</td>\n",
       "    </tr>\n",
       "    <tr>\n",
       "      <th>2</th>\n",
       "      <td>446640</td>\n",
       "      <td>42.256102</td>\n",
       "      <td>-83.160697</td>\n",
       "      <td>3808 S Bassett St</td>\n",
       "      <td>3808 s bassett st</td>\n",
       "      <td>3</td>\n",
       "      <td>3</td>\n",
       "      <td>1</td>\n",
       "    </tr>\n",
       "    <tr>\n",
       "      <th>3</th>\n",
       "      <td>446574</td>\n",
       "      <td>42.256356</td>\n",
       "      <td>-83.160224</td>\n",
       "      <td>3795 S. Bassett</td>\n",
       "      <td>3795 s bassett</td>\n",
       "      <td>4</td>\n",
       "      <td>4</td>\n",
       "      <td>2</td>\n",
       "    </tr>\n",
       "    <tr>\n",
       "      <th>5</th>\n",
       "      <td>445733</td>\n",
       "      <td>42.256990</td>\n",
       "      <td>-83.159955</td>\n",
       "      <td>3744 S Bassett</td>\n",
       "      <td>3744 s bassett</td>\n",
       "      <td>5</td>\n",
       "      <td>5</td>\n",
       "      <td>3</td>\n",
       "    </tr>\n",
       "    <tr>\n",
       "      <th>4</th>\n",
       "      <td>437572</td>\n",
       "      <td>42.256990</td>\n",
       "      <td>-83.159955</td>\n",
       "      <td>3744 South Bassett</td>\n",
       "      <td>3744 s bassett</td>\n",
       "      <td>5</td>\n",
       "      <td>5</td>\n",
       "      <td>3</td>\n",
       "    </tr>\n",
       "    <tr>\n",
       "      <th>6</th>\n",
       "      <td>98489</td>\n",
       "      <td>42.257824</td>\n",
       "      <td>-83.163374</td>\n",
       "      <td>26367 OUTER DRIVE</td>\n",
       "      <td>26367 outer dr</td>\n",
       "      <td>6</td>\n",
       "      <td>6</td>\n",
       "      <td>4</td>\n",
       "    </tr>\n",
       "    <tr>\n",
       "      <th>7</th>\n",
       "      <td>452621</td>\n",
       "      <td>42.258149</td>\n",
       "      <td>-83.161980</td>\n",
       "      <td>3738 Deacon</td>\n",
       "      <td>3738 deacon</td>\n",
       "      <td>7</td>\n",
       "      <td>92253</td>\n",
       "      <td>5</td>\n",
       "    </tr>\n",
       "    <tr>\n",
       "      <th>8</th>\n",
       "      <td>263309</td>\n",
       "      <td>42.258214</td>\n",
       "      <td>-83.163964</td>\n",
       "      <td>26331 OUTER DRIVE</td>\n",
       "      <td>26331 outer dr</td>\n",
       "      <td>8</td>\n",
       "      <td>8</td>\n",
       "      <td>6</td>\n",
       "    </tr>\n",
       "    <tr>\n",
       "      <th>9</th>\n",
       "      <td>263310</td>\n",
       "      <td>42.258214</td>\n",
       "      <td>-83.163964</td>\n",
       "      <td>26331 OUTER DRIVE</td>\n",
       "      <td>26331 outer dr</td>\n",
       "      <td>8</td>\n",
       "      <td>8</td>\n",
       "      <td>6</td>\n",
       "    </tr>\n",
       "    <tr>\n",
       "      <th>10</th>\n",
       "      <td>452362</td>\n",
       "      <td>42.258604</td>\n",
       "      <td>-83.163002</td>\n",
       "      <td>3742 S Beatrice St</td>\n",
       "      <td>3742 s beatrice st</td>\n",
       "      <td>9</td>\n",
       "      <td>9</td>\n",
       "      <td>7</td>\n",
       "    </tr>\n",
       "    <tr>\n",
       "      <th>11</th>\n",
       "      <td>452735</td>\n",
       "      <td>42.258699</td>\n",
       "      <td>-83.163526</td>\n",
       "      <td>3751 Annabelle</td>\n",
       "      <td>3751 annabelle</td>\n",
       "      <td>10</td>\n",
       "      <td>10</td>\n",
       "      <td>8</td>\n",
       "    </tr>\n",
       "    <tr>\n",
       "      <th>13</th>\n",
       "      <td>63847</td>\n",
       "      <td>42.259283</td>\n",
       "      <td>-83.165571</td>\n",
       "      <td>26211 OUTER DRIVE</td>\n",
       "      <td>26211 outer dr</td>\n",
       "      <td>11</td>\n",
       "      <td>11</td>\n",
       "      <td>9</td>\n",
       "    </tr>\n",
       "    <tr>\n",
       "      <th>12</th>\n",
       "      <td>45469</td>\n",
       "      <td>42.259283</td>\n",
       "      <td>-83.165571</td>\n",
       "      <td>26211 OUTER DRIVE</td>\n",
       "      <td>26211 outer dr</td>\n",
       "      <td>11</td>\n",
       "      <td>11</td>\n",
       "      <td>9</td>\n",
       "    </tr>\n",
       "    <tr>\n",
       "      <th>14</th>\n",
       "      <td>63848</td>\n",
       "      <td>42.259283</td>\n",
       "      <td>-83.165571</td>\n",
       "      <td>26211 OUTER DRIVE</td>\n",
       "      <td>26211 outer dr</td>\n",
       "      <td>11</td>\n",
       "      <td>11</td>\n",
       "      <td>9</td>\n",
       "    </tr>\n",
       "    <tr>\n",
       "      <th>15</th>\n",
       "      <td>441611</td>\n",
       "      <td>42.259368</td>\n",
       "      <td>-83.165152</td>\n",
       "      <td>26221 W Outer Dr</td>\n",
       "      <td>26221 w outer dr</td>\n",
       "      <td>12</td>\n",
       "      <td>14</td>\n",
       "      <td>10</td>\n",
       "    </tr>\n",
       "    <tr>\n",
       "      <th>16</th>\n",
       "      <td>441610</td>\n",
       "      <td>42.259372</td>\n",
       "      <td>-83.164881</td>\n",
       "      <td>3747 S. Liddesdale Street</td>\n",
       "      <td>3747 s liddesdale st</td>\n",
       "      <td>13</td>\n",
       "      <td>13</td>\n",
       "      <td>11</td>\n",
       "    </tr>\n",
       "    <tr>\n",
       "      <th>17</th>\n",
       "      <td>57213</td>\n",
       "      <td>42.259397</td>\n",
       "      <td>-83.165708</td>\n",
       "      <td>26221 OUTER DRIVE</td>\n",
       "      <td>26221 outer dr</td>\n",
       "      <td>14</td>\n",
       "      <td>14</td>\n",
       "      <td>10</td>\n",
       "    </tr>\n",
       "    <tr>\n",
       "      <th>18</th>\n",
       "      <td>187434</td>\n",
       "      <td>42.259397</td>\n",
       "      <td>-83.165708</td>\n",
       "      <td>26221 OUTER DRIVE</td>\n",
       "      <td>26221 outer dr</td>\n",
       "      <td>14</td>\n",
       "      <td>14</td>\n",
       "      <td>10</td>\n",
       "    </tr>\n",
       "    <tr>\n",
       "      <th>19</th>\n",
       "      <td>281295</td>\n",
       "      <td>42.259397</td>\n",
       "      <td>-83.165708</td>\n",
       "      <td>26221 OUTER DRIVE</td>\n",
       "      <td>26221 outer dr</td>\n",
       "      <td>14</td>\n",
       "      <td>14</td>\n",
       "      <td>10</td>\n",
       "    </tr>\n",
       "  </tbody>\n",
       "</table>\n",
       "</div>"
      ],
      "text/plain": [
       "    incident_id        lat        lon                       addr  \\\n",
       "0         53453  42.255342 -83.160990          26585 OUTER DRIVE   \n",
       "1        446027  42.255736 -83.160580     26585 West Outer Drive   \n",
       "2        446640  42.256102 -83.160697          3808 S Bassett St   \n",
       "3        446574  42.256356 -83.160224            3795 S. Bassett   \n",
       "5        445733  42.256990 -83.159955             3744 S Bassett   \n",
       "4        437572  42.256990 -83.159955         3744 South Bassett   \n",
       "6         98489  42.257824 -83.163374          26367 OUTER DRIVE   \n",
       "7        452621  42.258149 -83.161980                3738 Deacon   \n",
       "8        263309  42.258214 -83.163964          26331 OUTER DRIVE   \n",
       "9        263310  42.258214 -83.163964          26331 OUTER DRIVE   \n",
       "10       452362  42.258604 -83.163002         3742 S Beatrice St   \n",
       "11       452735  42.258699 -83.163526             3751 Annabelle   \n",
       "13        63847  42.259283 -83.165571          26211 OUTER DRIVE   \n",
       "12        45469  42.259283 -83.165571          26211 OUTER DRIVE   \n",
       "14        63848  42.259283 -83.165571          26211 OUTER DRIVE   \n",
       "15       441611  42.259368 -83.165152           26221 W Outer Dr   \n",
       "16       441610  42.259372 -83.164881  3747 S. Liddesdale Street   \n",
       "17        57213  42.259397 -83.165708          26221 OUTER DRIVE   \n",
       "18       187434  42.259397 -83.165708          26221 OUTER DRIVE   \n",
       "19       281295  42.259397 -83.165708          26221 OUTER DRIVE   \n",
       "\n",
       "              clean_addr  cluster  refined_cluster  remapped_cluster  \n",
       "0         26585 outer dr        1                1                 0  \n",
       "1       26585 w outer dr        2                1                 0  \n",
       "2      3808 s bassett st        3                3                 1  \n",
       "3         3795 s bassett        4                4                 2  \n",
       "5         3744 s bassett        5                5                 3  \n",
       "4         3744 s bassett        5                5                 3  \n",
       "6         26367 outer dr        6                6                 4  \n",
       "7            3738 deacon        7            92253                 5  \n",
       "8         26331 outer dr        8                8                 6  \n",
       "9         26331 outer dr        8                8                 6  \n",
       "10    3742 s beatrice st        9                9                 7  \n",
       "11        3751 annabelle       10               10                 8  \n",
       "13        26211 outer dr       11               11                 9  \n",
       "12        26211 outer dr       11               11                 9  \n",
       "14        26211 outer dr       11               11                 9  \n",
       "15      26221 w outer dr       12               14                10  \n",
       "16  3747 s liddesdale st       13               13                11  \n",
       "17        26221 outer dr       14               14                10  \n",
       "18        26221 outer dr       14               14                10  \n",
       "19        26221 outer dr       14               14                10  "
      ]
     },
     "execution_count": 270,
     "metadata": {},
     "output_type": "execute_result"
    }
   ],
   "source": [
    "incidents.head(20)"
   ]
  },
  {
   "cell_type": "code",
   "execution_count": 271,
   "metadata": {
    "collapsed": true
   },
   "outputs": [],
   "source": [
    "incidents.to_csv('../data/incidents.csv', index=False)"
   ]
  },
  {
   "cell_type": "code",
   "execution_count": 599,
   "metadata": {
    "collapsed": true
   },
   "outputs": [],
   "source": [
    "# incidents.sort_values(by=['clean_addr']).to_csv('../data/inspect_incidents.csv', index=False)"
   ]
  },
  {
   "cell_type": "markdown",
   "metadata": {},
   "source": [
    "## Establish buildings"
   ]
  },
  {
   "cell_type": "code",
   "execution_count": 272,
   "metadata": {
    "collapsed": true
   },
   "outputs": [],
   "source": [
    "import geopy"
   ]
  },
  {
   "cell_type": "code",
   "execution_count": 273,
   "metadata": {
    "collapsed": true
   },
   "outputs": [],
   "source": [
    "from geopy.distance import vincenty"
   ]
  },
  {
   "cell_type": "code",
   "execution_count": 274,
   "metadata": {
    "collapsed": false
   },
   "outputs": [],
   "source": [
    "eps = 0.000075"
   ]
  },
  {
   "cell_type": "code",
   "execution_count": 275,
   "metadata": {
    "collapsed": false
   },
   "outputs": [
    {
     "data": {
      "text/plain": [
       "10.378130320319412"
      ]
     },
     "execution_count": 275,
     "metadata": {},
     "output_type": "execute_result"
    }
   ],
   "source": [
    "a = (42.255342,-83.160990)\n",
    "b = (a[0]+eps, a[1]+eps)\n",
    "vincenty(a, b).meters"
   ]
  },
  {
   "cell_type": "code",
   "execution_count": 276,
   "metadata": {
    "collapsed": false
   },
   "outputs": [],
   "source": [
    "def get_buildings(df):\n",
    "    buildings = []\n",
    "    \n",
    "    row0 = df.iloc[0, :]\n",
    "    row0_id =row0['incident_id']\n",
    "    \n",
    "    lat = row0['lat']\n",
    "    lon = row0['lon']\n",
    "    \n",
    "    current_cluster = row0['remapped_cluster']\n",
    "    current_addr = row0['addr']\n",
    "    bottom_left = [lat, lon]\n",
    "    top_right = [lat, lon]\n",
    "    incident_ids = [row0_id]\n",
    "    num = 1\n",
    "\n",
    "    for index, row in df.iterrows():\n",
    "        id = row['incident_id']\n",
    "        cluster = row['remapped_cluster']\n",
    "        addr = row['addr']\n",
    "        lat = row['lat']\n",
    "        lon = row['lon']\n",
    "        \n",
    "        if id == row0_id:\n",
    "            continue\n",
    "        \n",
    "        if cluster == current_cluster:\n",
    "            num += 1\n",
    "            incident_ids.append(id)\n",
    "            if lat < bottom_left[0] and lon < bottom_left[1]:\n",
    "                bottom_left = [lat, lon]\n",
    "            if lat > top_right[0] and lat > top_right[1]:\n",
    "                top_right = [lat, lon]\n",
    "            \n",
    "        else:\n",
    "            bottom_left[0] -= eps\n",
    "            bottom_left[1] -= eps\n",
    "            top_right[0] += eps\n",
    "            top_right[1] += eps\n",
    "            this = [bottom_left, top_right, current_addr, current_cluster, num, incident_ids]\n",
    "            buildings.append(this)\n",
    "            \n",
    "            current_cluster = cluster\n",
    "            current_addr = addr\n",
    "            bottom_left = [lat, lon]\n",
    "            top_right = [lat, lon]\n",
    "            incident_ids = [id]\n",
    "            num = 1\n",
    "            \n",
    "    df_buildings= pd.DataFrame(buildings)\n",
    "    df_buildings.columns = ['bottom_left', 'top_right', 'addr', 'cluster', 'num', 'incident_ids']\n",
    "    df_buildings['building_id'] = range(len(buildings))\n",
    "    \n",
    "    return df_buildings"
   ]
  },
  {
   "cell_type": "code",
   "execution_count": 277,
   "metadata": {
    "collapsed": true
   },
   "outputs": [],
   "source": [
    "incidents.sort_values(by=['remapped_cluster'], inplace=True)"
   ]
  },
  {
   "cell_type": "code",
   "execution_count": 278,
   "metadata": {
    "collapsed": false,
    "scrolled": true
   },
   "outputs": [
    {
     "data": {
      "text/html": [
       "<div>\n",
       "<table border=\"1\" class=\"dataframe\">\n",
       "  <thead>\n",
       "    <tr style=\"text-align: right;\">\n",
       "      <th></th>\n",
       "      <th>incident_id</th>\n",
       "      <th>lat</th>\n",
       "      <th>lon</th>\n",
       "      <th>addr</th>\n",
       "      <th>clean_addr</th>\n",
       "      <th>cluster</th>\n",
       "      <th>refined_cluster</th>\n",
       "      <th>remapped_cluster</th>\n",
       "    </tr>\n",
       "  </thead>\n",
       "  <tbody>\n",
       "    <tr>\n",
       "      <th>0</th>\n",
       "      <td>53453</td>\n",
       "      <td>42.255342</td>\n",
       "      <td>-83.160990</td>\n",
       "      <td>26585 OUTER DRIVE</td>\n",
       "      <td>26585 outer dr</td>\n",
       "      <td>1</td>\n",
       "      <td>1</td>\n",
       "      <td>0</td>\n",
       "    </tr>\n",
       "    <tr>\n",
       "      <th>1</th>\n",
       "      <td>446027</td>\n",
       "      <td>42.255736</td>\n",
       "      <td>-83.160580</td>\n",
       "      <td>26585 West Outer Drive</td>\n",
       "      <td>26585 w outer dr</td>\n",
       "      <td>2</td>\n",
       "      <td>1</td>\n",
       "      <td>0</td>\n",
       "    </tr>\n",
       "    <tr>\n",
       "      <th>2</th>\n",
       "      <td>446640</td>\n",
       "      <td>42.256102</td>\n",
       "      <td>-83.160697</td>\n",
       "      <td>3808 S Bassett St</td>\n",
       "      <td>3808 s bassett st</td>\n",
       "      <td>3</td>\n",
       "      <td>3</td>\n",
       "      <td>1</td>\n",
       "    </tr>\n",
       "    <tr>\n",
       "      <th>3</th>\n",
       "      <td>446574</td>\n",
       "      <td>42.256356</td>\n",
       "      <td>-83.160224</td>\n",
       "      <td>3795 S. Bassett</td>\n",
       "      <td>3795 s bassett</td>\n",
       "      <td>4</td>\n",
       "      <td>4</td>\n",
       "      <td>2</td>\n",
       "    </tr>\n",
       "    <tr>\n",
       "      <th>5</th>\n",
       "      <td>445733</td>\n",
       "      <td>42.256990</td>\n",
       "      <td>-83.159955</td>\n",
       "      <td>3744 S Bassett</td>\n",
       "      <td>3744 s bassett</td>\n",
       "      <td>5</td>\n",
       "      <td>5</td>\n",
       "      <td>3</td>\n",
       "    </tr>\n",
       "    <tr>\n",
       "      <th>4</th>\n",
       "      <td>437572</td>\n",
       "      <td>42.256990</td>\n",
       "      <td>-83.159955</td>\n",
       "      <td>3744 South Bassett</td>\n",
       "      <td>3744 s bassett</td>\n",
       "      <td>5</td>\n",
       "      <td>5</td>\n",
       "      <td>3</td>\n",
       "    </tr>\n",
       "    <tr>\n",
       "      <th>6</th>\n",
       "      <td>98489</td>\n",
       "      <td>42.257824</td>\n",
       "      <td>-83.163374</td>\n",
       "      <td>26367 OUTER DRIVE</td>\n",
       "      <td>26367 outer dr</td>\n",
       "      <td>6</td>\n",
       "      <td>6</td>\n",
       "      <td>4</td>\n",
       "    </tr>\n",
       "    <tr>\n",
       "      <th>231442</th>\n",
       "      <td>184340</td>\n",
       "      <td>42.389446</td>\n",
       "      <td>-83.131770</td>\n",
       "      <td>3738 DAVISON</td>\n",
       "      <td>3738 davison</td>\n",
       "      <td>92253</td>\n",
       "      <td>92253</td>\n",
       "      <td>5</td>\n",
       "    </tr>\n",
       "    <tr>\n",
       "      <th>231443</th>\n",
       "      <td>184341</td>\n",
       "      <td>42.389446</td>\n",
       "      <td>-83.131770</td>\n",
       "      <td>3738 DAVISON</td>\n",
       "      <td>3738 davison</td>\n",
       "      <td>92253</td>\n",
       "      <td>92253</td>\n",
       "      <td>5</td>\n",
       "    </tr>\n",
       "    <tr>\n",
       "      <th>231441</th>\n",
       "      <td>143897</td>\n",
       "      <td>42.389446</td>\n",
       "      <td>-83.131770</td>\n",
       "      <td>3738 DAVISON</td>\n",
       "      <td>3738 davison</td>\n",
       "      <td>92253</td>\n",
       "      <td>92253</td>\n",
       "      <td>5</td>\n",
       "    </tr>\n",
       "  </tbody>\n",
       "</table>\n",
       "</div>"
      ],
      "text/plain": [
       "        incident_id        lat        lon                    addr  \\\n",
       "0             53453  42.255342 -83.160990       26585 OUTER DRIVE   \n",
       "1            446027  42.255736 -83.160580  26585 West Outer Drive   \n",
       "2            446640  42.256102 -83.160697       3808 S Bassett St   \n",
       "3            446574  42.256356 -83.160224         3795 S. Bassett   \n",
       "5            445733  42.256990 -83.159955          3744 S Bassett   \n",
       "4            437572  42.256990 -83.159955      3744 South Bassett   \n",
       "6             98489  42.257824 -83.163374       26367 OUTER DRIVE   \n",
       "231442       184340  42.389446 -83.131770            3738 DAVISON   \n",
       "231443       184341  42.389446 -83.131770            3738 DAVISON   \n",
       "231441       143897  42.389446 -83.131770            3738 DAVISON   \n",
       "\n",
       "               clean_addr  cluster  refined_cluster  remapped_cluster  \n",
       "0          26585 outer dr        1                1                 0  \n",
       "1        26585 w outer dr        2                1                 0  \n",
       "2       3808 s bassett st        3                3                 1  \n",
       "3          3795 s bassett        4                4                 2  \n",
       "5          3744 s bassett        5                5                 3  \n",
       "4          3744 s bassett        5                5                 3  \n",
       "6          26367 outer dr        6                6                 4  \n",
       "231442       3738 davison    92253            92253                 5  \n",
       "231443       3738 davison    92253            92253                 5  \n",
       "231441       3738 davison    92253            92253                 5  "
      ]
     },
     "execution_count": 278,
     "metadata": {},
     "output_type": "execute_result"
    }
   ],
   "source": [
    "incidents.head(10)"
   ]
  },
  {
   "cell_type": "code",
   "execution_count": 279,
   "metadata": {
    "collapsed": false
   },
   "outputs": [],
   "source": [
    "buildings = get_buildings(incidents)"
   ]
  },
  {
   "cell_type": "code",
   "execution_count": 280,
   "metadata": {
    "collapsed": false
   },
   "outputs": [
    {
     "data": {
      "text/html": [
       "<div>\n",
       "<table border=\"1\" class=\"dataframe\">\n",
       "  <thead>\n",
       "    <tr style=\"text-align: right;\">\n",
       "      <th></th>\n",
       "      <th>bottom_left</th>\n",
       "      <th>top_right</th>\n",
       "      <th>addr</th>\n",
       "      <th>cluster</th>\n",
       "      <th>num</th>\n",
       "      <th>incident_ids</th>\n",
       "      <th>building_id</th>\n",
       "    </tr>\n",
       "  </thead>\n",
       "  <tbody>\n",
       "    <tr>\n",
       "      <th>0</th>\n",
       "      <td>[42.255267051, -83.161064994]</td>\n",
       "      <td>[42.255811, -83.160505]</td>\n",
       "      <td>26585 OUTER DRIVE</td>\n",
       "      <td>0</td>\n",
       "      <td>2</td>\n",
       "      <td>[53453.0, 446027.0]</td>\n",
       "      <td>0</td>\n",
       "    </tr>\n",
       "    <tr>\n",
       "      <th>1</th>\n",
       "      <td>[42.256027, -83.1607722]</td>\n",
       "      <td>[42.256177, -83.1606222]</td>\n",
       "      <td>3808 S Bassett St</td>\n",
       "      <td>1</td>\n",
       "      <td>1</td>\n",
       "      <td>[446640.0]</td>\n",
       "      <td>1</td>\n",
       "    </tr>\n",
       "    <tr>\n",
       "      <th>2</th>\n",
       "      <td>[42.2562812, -83.160299]</td>\n",
       "      <td>[42.2564312, -83.160149]</td>\n",
       "      <td>3795 S. Bassett</td>\n",
       "      <td>2</td>\n",
       "      <td>1</td>\n",
       "      <td>[446574.0]</td>\n",
       "      <td>2</td>\n",
       "    </tr>\n",
       "    <tr>\n",
       "      <th>3</th>\n",
       "      <td>[42.2569146, -83.1600297]</td>\n",
       "      <td>[42.2570646, -83.1598797]</td>\n",
       "      <td>3744 S Bassett</td>\n",
       "      <td>3</td>\n",
       "      <td>2</td>\n",
       "      <td>[445733.0, 437572.0]</td>\n",
       "      <td>3</td>\n",
       "    </tr>\n",
       "    <tr>\n",
       "      <th>4</th>\n",
       "      <td>[42.257749066, -83.163449065]</td>\n",
       "      <td>[42.257899066, -83.163299065]</td>\n",
       "      <td>26367 OUTER DRIVE</td>\n",
       "      <td>4</td>\n",
       "      <td>1</td>\n",
       "      <td>[98489.0]</td>\n",
       "      <td>4</td>\n",
       "    </tr>\n",
       "    <tr>\n",
       "      <th>5</th>\n",
       "      <td>[42.258074, -83.162055]</td>\n",
       "      <td>[42.389520761, -83.131695432]</td>\n",
       "      <td>3738 DAVISON</td>\n",
       "      <td>5</td>\n",
       "      <td>4</td>\n",
       "      <td>[184340.0, 184341.0, 143897.0, 452621.0]</td>\n",
       "      <td>5</td>\n",
       "    </tr>\n",
       "    <tr>\n",
       "      <th>6</th>\n",
       "      <td>[42.258138537, -83.164039033]</td>\n",
       "      <td>[42.258288537, -83.163889033]</td>\n",
       "      <td>26331 OUTER DRIVE</td>\n",
       "      <td>6</td>\n",
       "      <td>2</td>\n",
       "      <td>[263310.0, 263309.0]</td>\n",
       "      <td>6</td>\n",
       "    </tr>\n",
       "    <tr>\n",
       "      <th>7</th>\n",
       "      <td>[42.2585290098, -83.163077]</td>\n",
       "      <td>[42.2586790098, -83.162927]</td>\n",
       "      <td>3742 S Beatrice St</td>\n",
       "      <td>7</td>\n",
       "      <td>1</td>\n",
       "      <td>[452362.0]</td>\n",
       "      <td>7</td>\n",
       "    </tr>\n",
       "    <tr>\n",
       "      <th>8</th>\n",
       "      <td>[42.258624, -83.163601]</td>\n",
       "      <td>[42.258774, -83.163451]</td>\n",
       "      <td>3751 Annabelle</td>\n",
       "      <td>8</td>\n",
       "      <td>1</td>\n",
       "      <td>[452735.0]</td>\n",
       "      <td>8</td>\n",
       "    </tr>\n",
       "    <tr>\n",
       "      <th>9</th>\n",
       "      <td>[42.259207854, -83.165646466]</td>\n",
       "      <td>[42.259357854, -83.165496466]</td>\n",
       "      <td>26211 OUTER DRIVE</td>\n",
       "      <td>9</td>\n",
       "      <td>3</td>\n",
       "      <td>[63847.0, 45469.0, 63848.0]</td>\n",
       "      <td>9</td>\n",
       "    </tr>\n",
       "  </tbody>\n",
       "</table>\n",
       "</div>"
      ],
      "text/plain": [
       "                     bottom_left                      top_right  \\\n",
       "0  [42.255267051, -83.161064994]        [42.255811, -83.160505]   \n",
       "1       [42.256027, -83.1607722]       [42.256177, -83.1606222]   \n",
       "2       [42.2562812, -83.160299]       [42.2564312, -83.160149]   \n",
       "3      [42.2569146, -83.1600297]      [42.2570646, -83.1598797]   \n",
       "4  [42.257749066, -83.163449065]  [42.257899066, -83.163299065]   \n",
       "5        [42.258074, -83.162055]  [42.389520761, -83.131695432]   \n",
       "6  [42.258138537, -83.164039033]  [42.258288537, -83.163889033]   \n",
       "7    [42.2585290098, -83.163077]    [42.2586790098, -83.162927]   \n",
       "8        [42.258624, -83.163601]        [42.258774, -83.163451]   \n",
       "9  [42.259207854, -83.165646466]  [42.259357854, -83.165496466]   \n",
       "\n",
       "                 addr  cluster  num                              incident_ids  \\\n",
       "0   26585 OUTER DRIVE        0    2                       [53453.0, 446027.0]   \n",
       "1   3808 S Bassett St        1    1                                [446640.0]   \n",
       "2     3795 S. Bassett        2    1                                [446574.0]   \n",
       "3      3744 S Bassett        3    2                      [445733.0, 437572.0]   \n",
       "4   26367 OUTER DRIVE        4    1                                 [98489.0]   \n",
       "5        3738 DAVISON        5    4  [184340.0, 184341.0, 143897.0, 452621.0]   \n",
       "6   26331 OUTER DRIVE        6    2                      [263310.0, 263309.0]   \n",
       "7  3742 S Beatrice St        7    1                                [452362.0]   \n",
       "8      3751 Annabelle        8    1                                [452735.0]   \n",
       "9   26211 OUTER DRIVE        9    3               [63847.0, 45469.0, 63848.0]   \n",
       "\n",
       "   building_id  \n",
       "0            0  \n",
       "1            1  \n",
       "2            2  \n",
       "3            3  \n",
       "4            4  \n",
       "5            5  \n",
       "6            6  \n",
       "7            7  \n",
       "8            8  \n",
       "9            9  "
      ]
     },
     "execution_count": 280,
     "metadata": {},
     "output_type": "execute_result"
    }
   ],
   "source": [
    "buildings.head(10)"
   ]
  },
  {
   "cell_type": "code",
   "execution_count": 281,
   "metadata": {
    "collapsed": false
   },
   "outputs": [
    {
     "data": {
      "text/plain": [
       "159477"
      ]
     },
     "execution_count": 281,
     "metadata": {},
     "output_type": "execute_result"
    }
   ],
   "source": [
    "len(buildings)"
   ]
  },
  {
   "cell_type": "code",
   "execution_count": 282,
   "metadata": {
    "collapsed": true
   },
   "outputs": [],
   "source": [
    "buildings.to_csv('../data/buildings.csv', index=False)"
   ]
  }
 ],
 "metadata": {
  "kernelspec": {
   "display_name": "Python 2",
   "language": "python",
   "name": "python2"
  },
  "language_info": {
   "codemirror_mode": {
    "name": "ipython",
    "version": 2
   },
   "file_extension": ".py",
   "mimetype": "text/x-python",
   "name": "python",
   "nbconvert_exporter": "python",
   "pygments_lexer": "ipython2",
   "version": "2.7.11"
  }
 },
 "nbformat": 4,
 "nbformat_minor": 0
}
