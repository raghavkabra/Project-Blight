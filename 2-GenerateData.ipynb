{
 "cells": [
  {
   "cell_type": "markdown",
   "metadata": {
    "collapsed": true
   },
   "source": [
    "# BlightFight Phase 2: Generate Training Set and Testing Set"
   ]
  },
  {
   "cell_type": "code",
   "execution_count": 55,
   "metadata": {
    "collapsed": true
   },
   "outputs": [],
   "source": [
    "import random\n",
    "import numpy as np\n",
    "import matplotlib.pyplot as plt\n",
    "%matplotlib inline\n",
    "import seaborn as sns\n",
    "import pandas as pd\n",
    "pd.options.display.max_columns = None\n",
    "from IPython.display import Image\n",
    "from util import *"
   ]
  },
  {
   "cell_type": "markdown",
   "metadata": {},
   "source": [
    "## Inspect permits"
   ]
  },
  {
   "cell_type": "code",
   "execution_count": 2,
   "metadata": {
    "collapsed": false
   },
   "outputs": [],
   "source": [
    "permits = pd.read_csv('../data/permits.csv')"
   ]
  },
  {
   "cell_type": "code",
   "execution_count": 3,
   "metadata": {
    "collapsed": false
   },
   "outputs": [
    {
     "data": {
      "text/plain": [
       "7133"
      ]
     },
     "execution_count": 3,
     "metadata": {},
     "output_type": "execute_result"
    }
   ],
   "source": [
    "len(permits)"
   ]
  },
  {
   "cell_type": "code",
   "execution_count": 4,
   "metadata": {
    "collapsed": false
   },
   "outputs": [
    {
     "data": {
      "text/html": [
       "<div>\n",
       "<table border=\"1\" class=\"dataframe\">\n",
       "  <thead>\n",
       "    <tr style=\"text-align: right;\">\n",
       "      <th></th>\n",
       "      <th>PERMIT_NO</th>\n",
       "      <th>PERMIT_APPLIED</th>\n",
       "      <th>PERMIT_ISSUED</th>\n",
       "      <th>PERMIT_EXPIRES</th>\n",
       "      <th>SITE_ADDRESS</th>\n",
       "      <th>BETWEEN1</th>\n",
       "      <th>PARCEL_NO</th>\n",
       "      <th>LOT_NUMBER</th>\n",
       "      <th>SUBDIVISION</th>\n",
       "      <th>CASE_TYPE</th>\n",
       "      <th>CASE_DESCRIPTION</th>\n",
       "      <th>LEGAL_USE</th>\n",
       "      <th>ESTIMATED_COST</th>\n",
       "      <th>PARCEL_SIZE</th>\n",
       "      <th>PARCEL_CLUSTER_SECTOR</th>\n",
       "      <th>STORIES</th>\n",
       "      <th>PARCEL_FLOOR_AREA</th>\n",
       "      <th>PARCEL_GROUND_AREA</th>\n",
       "      <th>PRC_AKA_ADDRESS</th>\n",
       "      <th>BLD_PERMIT_TYPE</th>\n",
       "      <th>PERMIT_DESCRIPTION</th>\n",
       "      <th>BLD_PERMIT_DESC</th>\n",
       "      <th>BLD_TYPE_USE</th>\n",
       "      <th>RESIDENTIAL</th>\n",
       "      <th>DESCRIPTION</th>\n",
       "      <th>BLD_TYPE_CONST_COD</th>\n",
       "      <th>BLD_ZONING_DIST</th>\n",
       "      <th>BLD_USE_GROUP</th>\n",
       "      <th>BLD_BASEMENT</th>\n",
       "      <th>FEE_TYPE</th>\n",
       "      <th>CSM_CASENO</th>\n",
       "      <th>CSF_CREATED_BY</th>\n",
       "      <th>SEQ_NO</th>\n",
       "      <th>PCF_AMT_PD</th>\n",
       "      <th>PCF_AMT_DUE</th>\n",
       "      <th>PCF_UPDATED</th>\n",
       "      <th>OWNER_LAST_NAME</th>\n",
       "      <th>OWNER_FIRST_NAME</th>\n",
       "      <th>OWNER_ADDRESS1</th>\n",
       "      <th>OWNER_ADDRESS2</th>\n",
       "      <th>OWNER_CITY</th>\n",
       "      <th>OWNER_STATE</th>\n",
       "      <th>OWNER_ZIP</th>\n",
       "      <th>CONTRACTOR_LAST_NAME</th>\n",
       "      <th>CONTRACTOR_FIRST_NAME</th>\n",
       "      <th>CONTRACTOR_ADDRESS1</th>\n",
       "      <th>CONTRACTOR_ADDRESS2</th>\n",
       "      <th>CONTRACTOR_CITY</th>\n",
       "      <th>CONTRACTOR_STATE</th>\n",
       "      <th>CONTRACTOR_ZIP</th>\n",
       "      <th>CONDITION_FOR_APPROVAL</th>\n",
       "      <th>site_location</th>\n",
       "      <th>owner_location</th>\n",
       "      <th>contractor_location</th>\n",
       "      <th>geom</th>\n",
       "      <th>incident_id</th>\n",
       "    </tr>\n",
       "  </thead>\n",
       "  <tbody>\n",
       "    <tr>\n",
       "      <th>0</th>\n",
       "      <td>BLD2015-03955</td>\n",
       "      <td>8/28/15</td>\n",
       "      <td>8/28/15</td>\n",
       "      <td>NaN</td>\n",
       "      <td>4331  BARHAM</td>\n",
       "      <td>BETWEEN VOIGHT AND WAVENEY</td>\n",
       "      <td>21 65525-6</td>\n",
       "      <td>S15</td>\n",
       "      <td>NaN</td>\n",
       "      <td>BLD</td>\n",
       "      <td>Building Permit</td>\n",
       "      <td>I - FAM DWLG</td>\n",
       "      <td>NaN</td>\n",
       "      <td>5184</td>\n",
       "      <td>3</td>\n",
       "      <td>NaN</td>\n",
       "      <td>0</td>\n",
       "      <td>829</td>\n",
       "      <td>NaN</td>\n",
       "      <td>Dismantle</td>\n",
       "      <td>NaN</td>\n",
       "      <td>NaN</td>\n",
       "      <td>One Family Dwelling</td>\n",
       "      <td>RESIDENTIAL</td>\n",
       "      <td>NaN</td>\n",
       "      <td>5B</td>\n",
       "      <td>R2</td>\n",
       "      <td>R3</td>\n",
       "      <td>Y</td>\n",
       "      <td>WPMT</td>\n",
       "      <td>BLD2015-03955</td>\n",
       "      <td>RSA</td>\n",
       "      <td>1</td>\n",
       "      <td>NaN</td>\n",
       "      <td>$238.00</td>\n",
       "      <td>NaN</td>\n",
       "      <td>DETROIT LAND BANK-HHF2</td>\n",
       "      <td>NaN</td>\n",
       "      <td>65 CADILLAC</td>\n",
       "      <td>NaN</td>\n",
       "      <td>DETROIT</td>\n",
       "      <td>MI</td>\n",
       "      <td>NaN</td>\n",
       "      <td>DMC CONSULTANTS INC   2015 (W)</td>\n",
       "      <td>NaN</td>\n",
       "      <td>13500 FOLEY</td>\n",
       "      <td>NaN</td>\n",
       "      <td>DETROIT</td>\n",
       "      <td>NaN</td>\n",
       "      <td>48227</td>\n",
       "      <td>NaN</td>\n",
       "      <td>4331 BARHAM\\r\\nDetroit, MI\\r\\n(42.394106, -82....</td>\n",
       "      <td>65 CADILLAC\\r\\nDETROIT, MI\\r\\n(42.331741326000...</td>\n",
       "      <td>13500 FOLEY\\r\\nDETROIT, MI\\r\\n(42.379332, -83....</td>\n",
       "      <td>NaN</td>\n",
       "      <td>0</td>\n",
       "    </tr>\n",
       "  </tbody>\n",
       "</table>\n",
       "</div>"
      ],
      "text/plain": [
       "       PERMIT_NO PERMIT_APPLIED PERMIT_ISSUED PERMIT_EXPIRES  SITE_ADDRESS  \\\n",
       "0  BLD2015-03955        8/28/15       8/28/15            NaN  4331  BARHAM   \n",
       "\n",
       "                     BETWEEN1   PARCEL_NO LOT_NUMBER SUBDIVISION CASE_TYPE  \\\n",
       "0  BETWEEN VOIGHT AND WAVENEY  21 65525-6        S15         NaN       BLD   \n",
       "\n",
       "  CASE_DESCRIPTION     LEGAL_USE ESTIMATED_COST  PARCEL_SIZE  \\\n",
       "0  Building Permit  I - FAM DWLG            NaN         5184   \n",
       "\n",
       "   PARCEL_CLUSTER_SECTOR  STORIES  PARCEL_FLOOR_AREA  PARCEL_GROUND_AREA  \\\n",
       "0                      3      NaN                  0                 829   \n",
       "\n",
       "  PRC_AKA_ADDRESS BLD_PERMIT_TYPE PERMIT_DESCRIPTION BLD_PERMIT_DESC  \\\n",
       "0             NaN       Dismantle                NaN             NaN   \n",
       "\n",
       "          BLD_TYPE_USE  RESIDENTIAL DESCRIPTION BLD_TYPE_CONST_COD  \\\n",
       "0  One Family Dwelling  RESIDENTIAL         NaN                 5B   \n",
       "\n",
       "  BLD_ZONING_DIST BLD_USE_GROUP BLD_BASEMENT FEE_TYPE     CSM_CASENO  \\\n",
       "0              R2            R3            Y     WPMT  BLD2015-03955   \n",
       "\n",
       "  CSF_CREATED_BY  SEQ_NO PCF_AMT_PD PCF_AMT_DUE PCF_UPDATED  \\\n",
       "0            RSA       1        NaN     $238.00         NaN   \n",
       "\n",
       "          OWNER_LAST_NAME OWNER_FIRST_NAME OWNER_ADDRESS1 OWNER_ADDRESS2  \\\n",
       "0  DETROIT LAND BANK-HHF2              NaN    65 CADILLAC            NaN   \n",
       "\n",
       "  OWNER_CITY OWNER_STATE OWNER_ZIP            CONTRACTOR_LAST_NAME  \\\n",
       "0    DETROIT          MI       NaN  DMC CONSULTANTS INC   2015 (W)   \n",
       "\n",
       "  CONTRACTOR_FIRST_NAME CONTRACTOR_ADDRESS1 CONTRACTOR_ADDRESS2  \\\n",
       "0                   NaN         13500 FOLEY                 NaN   \n",
       "\n",
       "  CONTRACTOR_CITY CONTRACTOR_STATE  CONTRACTOR_ZIP CONDITION_FOR_APPROVAL  \\\n",
       "0         DETROIT              NaN           48227                    NaN   \n",
       "\n",
       "                                       site_location  \\\n",
       "0  4331 BARHAM\\r\\nDetroit, MI\\r\\n(42.394106, -82....   \n",
       "\n",
       "                                      owner_location  \\\n",
       "0  65 CADILLAC\\r\\nDETROIT, MI\\r\\n(42.331741326000...   \n",
       "\n",
       "                                 contractor_location geom  incident_id  \n",
       "0  13500 FOLEY\\r\\nDETROIT, MI\\r\\n(42.379332, -83....  NaN            0  "
      ]
     },
     "execution_count": 4,
     "metadata": {},
     "output_type": "execute_result"
    }
   ],
   "source": [
    "permits.head(1)"
   ]
  },
  {
   "cell_type": "code",
   "execution_count": 5,
   "metadata": {
    "collapsed": false
   },
   "outputs": [
    {
     "data": {
      "text/plain": [
       "DISM         5859\n",
       "Dismantle    1274\n",
       "Name: BLD_PERMIT_TYPE, dtype: int64"
      ]
     },
     "execution_count": 5,
     "metadata": {},
     "output_type": "execute_result"
    }
   ],
   "source": [
    "permits['BLD_PERMIT_TYPE'].value_counts()"
   ]
  },
  {
   "cell_type": "code",
   "execution_count": 6,
   "metadata": {
    "collapsed": true
   },
   "outputs": [],
   "source": [
    "permits.dropna(subset=['site_location'], inplace=True)"
   ]
  },
  {
   "cell_type": "code",
   "execution_count": 7,
   "metadata": {
    "collapsed": false
   },
   "outputs": [],
   "source": [
    "permits['Address'] = permits['site_location'].map(lambda x: x.split('\\n')[0])\n",
    "permits['Address'].replace('', np.nan, inplace=True)\n",
    "permits.dropna(subset=['Address'], inplace=True)"
   ]
  },
  {
   "cell_type": "code",
   "execution_count": 8,
   "metadata": {
    "collapsed": true
   },
   "outputs": [],
   "source": [
    "permits['Coordinates'] = permits['site_location'].map(lambda x: x.split('\\n')[-1])\n",
    "permits['Coordinates'].replace('', np.nan, inplace=True)\n",
    "permits.dropna(subset=['Coordinates'], inplace=True)"
   ]
  },
  {
   "cell_type": "code",
   "execution_count": 9,
   "metadata": {
    "collapsed": false
   },
   "outputs": [
    {
     "data": {
      "text/plain": [
       "6316"
      ]
     },
     "execution_count": 9,
     "metadata": {},
     "output_type": "execute_result"
    }
   ],
   "source": [
    "len(permits)"
   ]
  },
  {
   "cell_type": "code",
   "execution_count": 10,
   "metadata": {
    "collapsed": true
   },
   "outputs": [],
   "source": [
    "permits['Latitude'] = permits['Coordinates'].map(lambda x: x.split(',')[0][1:].strip()).astype(np.float)\n",
    "permits['Longitude'] = permits['Coordinates'].map(lambda x: x.split(',')[1][:-1].strip()).astype(np.float)\n",
    "permits = permits[permits['Latitude'] < 45]"
   ]
  },
  {
   "cell_type": "markdown",
   "metadata": {},
   "source": [
    "## Map to buildings"
   ]
  },
  {
   "cell_type": "code",
   "execution_count": 11,
   "metadata": {
    "collapsed": true
   },
   "outputs": [],
   "source": [
    "buildings = pd.read_csv('../data/buildings.csv')"
   ]
  },
  {
   "cell_type": "code",
   "execution_count": 12,
   "metadata": {
    "collapsed": false,
    "scrolled": true
   },
   "outputs": [
    {
     "data": {
      "text/html": [
       "<div>\n",
       "<table border=\"1\" class=\"dataframe\">\n",
       "  <thead>\n",
       "    <tr style=\"text-align: right;\">\n",
       "      <th></th>\n",
       "      <th>bottom_left</th>\n",
       "      <th>top_right</th>\n",
       "      <th>addr</th>\n",
       "      <th>cluster</th>\n",
       "      <th>num</th>\n",
       "      <th>incident_ids</th>\n",
       "      <th>building_id</th>\n",
       "    </tr>\n",
       "  </thead>\n",
       "  <tbody>\n",
       "    <tr>\n",
       "      <th>0</th>\n",
       "      <td>[42.255267050999997, -83.161064993999986]</td>\n",
       "      <td>[42.255811, -83.16050500000001]</td>\n",
       "      <td>26585 OUTER DRIVE</td>\n",
       "      <td>0</td>\n",
       "      <td>2</td>\n",
       "      <td>[53453.0, 446027.0]</td>\n",
       "      <td>0</td>\n",
       "    </tr>\n",
       "    <tr>\n",
       "      <th>1</th>\n",
       "      <td>[42.256026999999996, -83.1607722]</td>\n",
       "      <td>[42.256177, -83.1606222]</td>\n",
       "      <td>3808 S Bassett St</td>\n",
       "      <td>1</td>\n",
       "      <td>1</td>\n",
       "      <td>[446640.0]</td>\n",
       "      <td>1</td>\n",
       "    </tr>\n",
       "    <tr>\n",
       "      <th>2</th>\n",
       "      <td>[42.256281200000004, -83.160299]</td>\n",
       "      <td>[42.25643120000001, -83.160149]</td>\n",
       "      <td>3795 S. Bassett</td>\n",
       "      <td>2</td>\n",
       "      <td>1</td>\n",
       "      <td>[446574.0]</td>\n",
       "      <td>2</td>\n",
       "    </tr>\n",
       "  </tbody>\n",
       "</table>\n",
       "</div>"
      ],
      "text/plain": [
       "                                 bottom_left                        top_right  \\\n",
       "0  [42.255267050999997, -83.161064993999986]  [42.255811, -83.16050500000001]   \n",
       "1          [42.256026999999996, -83.1607722]         [42.256177, -83.1606222]   \n",
       "2           [42.256281200000004, -83.160299]  [42.25643120000001, -83.160149]   \n",
       "\n",
       "                addr  cluster  num         incident_ids  building_id  \n",
       "0  26585 OUTER DRIVE        0    2  [53453.0, 446027.0]            0  \n",
       "1  3808 S Bassett St        1    1           [446640.0]            1  \n",
       "2    3795 S. Bassett        2    1           [446574.0]            2  "
      ]
     },
     "execution_count": 12,
     "metadata": {},
     "output_type": "execute_result"
    }
   ],
   "source": [
    "buildings.head(3)"
   ]
  },
  {
   "cell_type": "markdown",
   "metadata": {},
   "source": [
    "**pandas stores lists as strings !!! Besure to use literal_eval to recover them !!!**"
   ]
  },
  {
   "cell_type": "code",
   "execution_count": 13,
   "metadata": {
    "collapsed": false
   },
   "outputs": [],
   "source": [
    "from ast import literal_eval"
   ]
  },
  {
   "cell_type": "code",
   "execution_count": 14,
   "metadata": {
    "collapsed": true
   },
   "outputs": [],
   "source": [
    "buildings['incident_ids'] = buildings['incident_ids'].map(literal_eval)"
   ]
  },
  {
   "cell_type": "code",
   "execution_count": 15,
   "metadata": {
    "collapsed": false
   },
   "outputs": [],
   "source": [
    "def get_incident_to_building_mapping(buildings):\n",
    "    mapping = {}\n",
    "    for index, row in buildings.iterrows():\n",
    "        for y in row['incident_ids']:\n",
    "            if y not in mapping:\n",
    "                mapping[y] = [row['building_id']]\n",
    "            else:\n",
    "                mapping[y].append(row['building_id'])\n",
    "    return mapping"
   ]
  },
  {
   "cell_type": "code",
   "execution_count": 16,
   "metadata": {
    "collapsed": false
   },
   "outputs": [],
   "source": [
    "incident_to_building_mapping = get_incident_to_building_mapping(buildings)"
   ]
  },
  {
   "cell_type": "code",
   "execution_count": 17,
   "metadata": {
    "collapsed": false
   },
   "outputs": [],
   "source": [
    "import cPickle as pickle\n",
    "with open('incident_to_building_mapping.dump', 'w') as f:\n",
    "    pickle.dump(incident_to_building_mapping, f)"
   ]
  },
  {
   "cell_type": "markdown",
   "metadata": {},
   "source": [
    "## Construct training set"
   ]
  },
  {
   "cell_type": "code",
   "execution_count": 18,
   "metadata": {
    "collapsed": true
   },
   "outputs": [],
   "source": [
    "dism_permits_ids = permits['incident_id'].tolist()"
   ]
  },
  {
   "cell_type": "code",
   "execution_count": 42,
   "metadata": {
    "collapsed": true
   },
   "outputs": [],
   "source": [
    "dism_buildings = list(set([z for y in [incident_to_building_mapping[x] for x in dism_permits_ids] for z in y]))"
   ]
  },
  {
   "cell_type": "code",
   "execution_count": 54,
   "metadata": {
    "collapsed": false
   },
   "outputs": [
    {
     "data": {
      "text/plain": [
       "5538"
      ]
     },
     "execution_count": 54,
     "metadata": {},
     "output_type": "execute_result"
    }
   ],
   "source": [
    "len_dism_buildings = len(dism_buildings)\n",
    "len_dism_buildings"
   ]
  },
  {
   "cell_type": "code",
   "execution_count": 44,
   "metadata": {
    "collapsed": true
   },
   "outputs": [],
   "source": [
    "train_positive = pd.DataFrame()\n",
    "train_positive['building_id'] = sorted(dism_buildings)\n",
    "train_positive['blighted'] = 1"
   ]
  },
  {
   "cell_type": "code",
   "execution_count": 46,
   "metadata": {
    "collapsed": false
   },
   "outputs": [],
   "source": [
    "non_dism_buildings = list(set(buildings['building_id'].tolist()) - set(dism_buildings))"
   ]
  },
  {
   "cell_type": "code",
   "execution_count": 47,
   "metadata": {
    "collapsed": false
   },
   "outputs": [
    {
     "data": {
      "text/plain": [
       "0"
      ]
     },
     "execution_count": 47,
     "metadata": {},
     "output_type": "execute_result"
    }
   ],
   "source": [
    "len(non_dism_buildings) + len(dism_buildings) - len(buildings)"
   ]
  },
  {
   "cell_type": "code",
   "execution_count": 66,
   "metadata": {
    "collapsed": false
   },
   "outputs": [],
   "source": [
    "random.seed(1027)\n",
    "non_dism_sample = random.sample(non_dism_buildings, len_dism_buildings)"
   ]
  },
  {
   "cell_type": "code",
   "execution_count": 67,
   "metadata": {
    "collapsed": true
   },
   "outputs": [],
   "source": [
    "train_negative = pd.DataFrame()\n",
    "train_negative['building_id'] = sorted(non_dism_sample)\n",
    "train_negative['blighted'] = 0"
   ]
  },
  {
   "cell_type": "code",
   "execution_count": 68,
   "metadata": {
    "collapsed": false
   },
   "outputs": [],
   "source": [
    "train_df = pd.concat((train_positive, train_negative), axis=0, ignore_index=True)"
   ]
  },
  {
   "cell_type": "code",
   "execution_count": 70,
   "metadata": {
    "collapsed": false
   },
   "outputs": [],
   "source": [
    "train_df.to_csv('../data/train.csv', index=False)"
   ]
  }
 ],
 "metadata": {
  "kernelspec": {
   "display_name": "Python 2",
   "language": "python",
   "name": "python2"
  },
  "language_info": {
   "codemirror_mode": {
    "name": "ipython",
    "version": 2
   },
   "file_extension": ".py",
   "mimetype": "text/x-python",
   "name": "python",
   "nbconvert_exporter": "python",
   "pygments_lexer": "ipython2",
   "version": "2.7.11"
  }
 },
 "nbformat": 4,
 "nbformat_minor": 0
}
